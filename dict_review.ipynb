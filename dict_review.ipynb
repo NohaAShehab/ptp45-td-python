{
 "cells": [
  {
   "metadata": {},
   "cell_type": "markdown",
   "source": [
    "<pre> You are given a dictionary that contains information about employees and their monthly sales. Your task is to:\n",
    "Calculate the total sales for the company.\n",
    "Identify the employee with the highest sales.\n",
    "Create a new dictionary that categorizes employees based on their performance:\n",
    "\"Excellent\" for sales >= 1000.\n",
    "\"Good\" for sales between 500 and 999.\n",
    "\"Needs Improvement\" for sales < 500.\n",
    "</pre>\n",
    "# input example \n",
    "employees = {\n",
    "\"Alice\": 1200,\n",
    "\"Bob\": 800,\n",
    "\"Charlie\": 400,\n",
    "\"Diana\": 1500,\n",
    "\"Eve\": 300\n",
    "}\n",
    "\n",
    "Total Sales: 4200Top Performer: \"Diana\"Performance Categories:{\n",
    "\"Excellent\": [\"Alice\", \"Diana\"],\n",
    "\"Good\": [\"Bob\"],\n",
    "\"Needs Improvement\": [\"Charlie\", \"Eve\"]\n",
    "}"
   ],
   "id": "9c39109b52465653"
  },
  {
   "cell_type": "code",
   "id": "initial_id",
   "metadata": {
    "collapsed": true,
    "ExecuteTime": {
     "end_time": "2024-11-23T12:38:40.903417Z",
     "start_time": "2024-11-23T12:38:40.896046Z"
    }
   },
   "source": [
    "employees = {\n",
    "\"Alice\": 1200,\n",
    "\"Bob\": 800,\n",
    "\"Charlie\": 400,\n",
    "\"Diana\": 1500,\n",
    "\"Eve\": 300\n",
    "}\n",
    "\n",
    "# total sales ?\n",
    "employees_sales = employees.values()\n",
    "employees_sales = list(employees_sales)\n",
    "total_sales = sum(employees_sales)\n",
    "print(total_sales)"
   ],
   "outputs": [
    {
     "name": "stdout",
     "output_type": "stream",
     "text": [
      "4200\n"
     ]
    }
   ],
   "execution_count": 1
  },
  {
   "metadata": {},
   "cell_type": "markdown",
   "source": "# Identify the employee with the highest sales.\n",
   "id": "db7abc385091544f"
  },
  {
   "metadata": {
    "ExecuteTime": {
     "end_time": "2024-11-23T12:42:02.607373Z",
     "start_time": "2024-11-23T12:42:02.598934Z"
    }
   },
   "cell_type": "code",
   "source": [
    "highest_emp = \"\"\n",
    "highest_target = 0\n",
    "for k , v in employees.items():\n",
    "    if v > highest_target:\n",
    "        highest_target = v\n",
    "        highest_emp = k\n",
    "\n",
    "print(f\"Highest Emp is {highest_emp}\")\n",
    "    \n",
    "    "
   ],
   "id": "2fcfdc4f0d9dd662",
   "outputs": [
    {
     "name": "stdout",
     "output_type": "stream",
     "text": [
      "Highest Emp is Diana\n"
     ]
    }
   ],
   "execution_count": 3
  },
  {
   "metadata": {},
   "cell_type": "markdown",
   "source": [
    "# Create a new dictionary that categorizes employees based on their performance:\n",
    "\"Excellent\" for sales >= 1000.\n",
    "\"Good\" for sales between 500 and 999.\n",
    "\"Needs Improvement\" for sales < 500."
   ],
   "id": "94adb9928a03bf86"
  },
  {
   "metadata": {
    "ExecuteTime": {
     "end_time": "2024-11-23T12:46:22.554162Z",
     "start_time": "2024-11-23T12:46:22.544018Z"
    }
   },
   "cell_type": "code",
   "source": [
    "performace = {\n",
    "    \"excellent\":[],\n",
    "    \"good\": [],\n",
    "    'need_improvement': []\n",
    "}\n",
    "for employee , target in employees.items():\n",
    "    if target >= 1000:\n",
    "        performace[\"excellent\"].append(employee)\n",
    "    elif target >=500:\n",
    "        performace[\"good\"].append(employee)\n",
    "    else:\n",
    "        performace[\"need_improvement\"].append(employee)\n",
    "    \n",
    "print(performace)"
   ],
   "id": "52d30e28ce674980",
   "outputs": [
    {
     "name": "stdout",
     "output_type": "stream",
     "text": [
      "{'excellent': ['Alice', 'Diana'], 'good': ['Bob'], 'need_improvement': ['Charlie', 'Eve']}\n"
     ]
    }
   ],
   "execution_count": 5
  },
  {
   "metadata": {
    "ExecuteTime": {
     "end_time": "2024-11-23T12:51:11.503372Z",
     "start_time": "2024-11-23T12:51:08.686308Z"
    }
   },
   "cell_type": "code",
   "source": [
    "message = input(\"Enter your message: \")\n",
    "if message[::]==message[::-1]:\n",
    "    print(\"-- palindrom\")\n",
    "else:\n",
    "    print('-- not palindrom')"
   ],
   "id": "509663fed265f81d",
   "outputs": [
    {
     "name": "stdout",
     "output_type": "stream",
     "text": [
      "-- not palindrom\n"
     ]
    }
   ],
   "execution_count": 7
  },
  {
   "metadata": {},
   "cell_type": "code",
   "outputs": [],
   "execution_count": null,
   "source": "",
   "id": "e220622f72b7a9bf"
  }
 ],
 "metadata": {
  "kernelspec": {
   "display_name": "Python 3",
   "language": "python",
   "name": "python3"
  },
  "language_info": {
   "codemirror_mode": {
    "name": "ipython",
    "version": 2
   },
   "file_extension": ".py",
   "mimetype": "text/x-python",
   "name": "python",
   "nbconvert_exporter": "python",
   "pygments_lexer": "ipython2",
   "version": "2.7.6"
  }
 },
 "nbformat": 4,
 "nbformat_minor": 5
}
