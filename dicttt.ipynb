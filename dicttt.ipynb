{
 "cells": [
  {
   "metadata": {},
   "cell_type": "markdown",
   "source": "# dict ",
   "id": "ba4775e9821d733"
  },
  {
   "cell_type": "code",
   "id": "initial_id",
   "metadata": {
    "collapsed": true,
    "ExecuteTime": {
     "end_time": "2024-11-10T09:03:16.640045Z",
     "start_time": "2024-11-10T09:03:16.635231Z"
    }
   },
   "source": "info = [\"Abdelkader\", 26, \"Zahraa Madient Nasr\", \"CS\", \"CSC\"]",
   "outputs": [],
   "execution_count": 2
  },
  {
   "metadata": {},
   "cell_type": "markdown",
   "source": [
    "# labeled-datatype \n",
    "# dicts ==> use unique keys "
   ],
   "id": "6a123ddabdf4f5d7"
  },
  {
   "metadata": {
    "ExecuteTime": {
     "end_time": "2024-11-10T09:03:18.193725Z",
     "start_time": "2024-11-10T09:03:18.184390Z"
    }
   },
   "cell_type": "code",
   "source": [
    "info = {\n",
    "    \"name\": \"abdelkader\",\n",
    "    \"age\": 26,\n",
    "    \"city\": \"Zahraa Nasr City\",\n",
    "    \"field\": \"CS\"\n",
    "}\n",
    "print(info, type(info))"
   ],
   "id": "3632cb67171c1ff5",
   "outputs": [
    {
     "name": "stdout",
     "output_type": "stream",
     "text": [
      "{'name': 'abdelkader', 'age': 26, 'city': 'Zahraa Nasr City', 'field': 'CS'} <class 'dict'>\n"
     ]
    }
   ],
   "execution_count": 3
  },
  {
   "metadata": {
    "ExecuteTime": {
     "end_time": "2024-11-10T07:45:25.384969Z",
     "start_time": "2024-11-10T07:45:25.359562Z"
    }
   },
   "cell_type": "code",
   "source": [
    "# dict is comma seperated key:value pair\n",
    "# you can access dict values using keys  ?? \n",
    "print(info)\n",
    "print(info['name'])"
   ],
   "id": "eac3238ef1cc9c19",
   "outputs": [
    {
     "name": "stdout",
     "output_type": "stream",
     "text": [
      "{'name': 'abdelkader', 'age': 26, 'city': 'Zahraa Nasr City', 'field': 'CS'}\n",
      "abdelkader\n"
     ]
    }
   ],
   "execution_count": 3
  },
  {
   "metadata": {
    "ExecuteTime": {
     "end_time": "2024-11-10T07:46:27.845480Z",
     "start_time": "2024-11-10T07:46:27.839168Z"
    }
   },
   "cell_type": "code",
   "source": [
    "newdict = {'name': 'abdelkader', 'age': 26, 'city': 'Zahraa Nasr City', 'field': 'CS', \n",
    "           \"name\": \"Abdelkader Mohamed\"}\n",
    "print(newdict)"
   ],
   "id": "2cfc93352f1e4322",
   "outputs": [
    {
     "name": "stdout",
     "output_type": "stream",
     "text": [
      "{'name': 'Abdelkader Mohamed', 'age': 26, 'city': 'Zahraa Nasr City', 'field': 'CS'}\n"
     ]
    }
   ],
   "execution_count": 4
  },
  {
   "metadata": {
    "ExecuteTime": {
     "end_time": "2024-11-10T07:48:12.534250Z",
     "start_time": "2024-11-10T07:48:12.515750Z"
    }
   },
   "cell_type": "code",
   "source": [
    "newdict = {'name': 'bdelkader Mohamed', 'age': 26, 'city': 'Zahraa Nasr City', 'field': 'CS', \n",
    "           \"name\": \"Moaazzz\"}\n",
    "\n",
    "print(newdict)"
   ],
   "id": "6e50189ce42a9a9",
   "outputs": [
    {
     "name": "stdout",
     "output_type": "stream",
     "text": [
      "{'name': 'Moaazzz', 'age': 26, 'city': 'Zahraa Nasr City', 'field': 'CS'}\n"
     ]
    }
   ],
   "execution_count": 5
  },
  {
   "metadata": {
    "ExecuteTime": {
     "end_time": "2024-11-10T07:49:21.678609Z",
     "start_time": "2024-11-10T07:49:21.658562Z"
    }
   },
   "cell_type": "code",
   "source": [
    "dict3 = {\n",
    "    \"name1\": \"Abdelkader\",\n",
    "    \"name2\": \"Abdelkader\",\n",
    "    5 : 'track'\n",
    "}\n",
    "print(dict3)"
   ],
   "id": "23c3d181bdc3e6eb",
   "outputs": [
    {
     "name": "stdout",
     "output_type": "stream",
     "text": [
      "{'name1': 'Abdelkader', 'name2': 'Abdelkader', 5: 'track'}\n"
     ]
    }
   ],
   "execution_count": 6
  },
  {
   "metadata": {},
   "cell_type": "markdown",
   "source": [
    "# update dict value ? dict is mutable \n",
    "# access values using keys "
   ],
   "id": "60b471ff7614a5bf"
  },
  {
   "metadata": {
    "ExecuteTime": {
     "end_time": "2024-11-10T07:50:37.433172Z",
     "start_time": "2024-11-10T07:50:37.417473Z"
    }
   },
   "cell_type": "code",
   "source": [
    "# when you try to add value with key --> not exists ---> add new pair \n",
    "dict3['name']=\"updateddddddd\"\n",
    "print(dict3)"
   ],
   "id": "939b327d3f73cd84",
   "outputs": [
    {
     "name": "stdout",
     "output_type": "stream",
     "text": [
      "{'name1': 'Abdelkader', 'name2': 'Abdelkader', 5: 'track', 'name': 'updateddddddd'}\n"
     ]
    }
   ],
   "execution_count": 7
  },
  {
   "metadata": {
    "ExecuteTime": {
     "end_time": "2024-11-10T07:51:47.840480Z",
     "start_time": "2024-11-10T07:51:47.827815Z"
    }
   },
   "cell_type": "code",
   "source": [
    "dict3['name1']= \"updated name \"\n",
    "print(dict3)"
   ],
   "id": "a2c687961220ff2e",
   "outputs": [
    {
     "name": "stdout",
     "output_type": "stream",
     "text": [
      "{'name1': 'updated name ', 'name2': 'Abdelkader', 5: 'track', 'name': 'updateddddddd'}\n"
     ]
    }
   ],
   "execution_count": 8
  },
  {
   "metadata": {
    "ExecuteTime": {
     "end_time": "2024-11-10T07:52:03.909441Z",
     "start_time": "2024-11-10T07:52:03.894388Z"
    }
   },
   "cell_type": "code",
   "source": [
    "dict3[5]=\"new val\"\n",
    "print(dict3)"
   ],
   "id": "a428f668cf65173c",
   "outputs": [
    {
     "name": "stdout",
     "output_type": "stream",
     "text": [
      "{'name1': 'updated name ', 'name2': 'Abdelkader', 5: 'new val', 'name': 'updateddddddd'}\n"
     ]
    }
   ],
   "execution_count": 9
  },
  {
   "metadata": {
    "ExecuteTime": {
     "end_time": "2024-11-10T07:53:34.375069Z",
     "start_time": "2024-11-10T07:53:34.362397Z"
    }
   },
   "cell_type": "code",
   "source": [
    "mmm = {1: \"mm\", 2: \"ssss\"}\n",
    "sss = [\"mm\", \"sss\"]"
   ],
   "id": "b8ad9b8e832eb8bb",
   "outputs": [],
   "execution_count": 10
  },
  {
   "metadata": {
    "ExecuteTime": {
     "end_time": "2024-11-10T07:55:09.776371Z",
     "start_time": "2024-11-10T07:55:09.756181Z"
    }
   },
   "cell_type": "code",
   "source": [
    "# define dict \n",
    "info = {\n",
    "    \"name\":\"noha\", \n",
    "    'track':\"TD\", \n",
    "    \"work\": \"iti\"\n",
    "}\n",
    "\n",
    "# access dict values using keys \n",
    "print(info[\"name\"])"
   ],
   "id": "e55d5f8ca5618306",
   "outputs": [
    {
     "name": "stdout",
     "output_type": "stream",
     "text": [
      "noha\n"
     ]
    }
   ],
   "execution_count": 11
  },
  {
   "metadata": {
    "ExecuteTime": {
     "end_time": "2024-11-10T07:55:21.423063Z",
     "start_time": "2024-11-10T07:55:21.417912Z"
    }
   },
   "cell_type": "code",
   "source": "print(info)",
   "id": "9d518cda2f4c0155",
   "outputs": [
    {
     "name": "stdout",
     "output_type": "stream",
     "text": [
      "{'name': 'noha', 'track': 'TD', 'work': 'iti'}\n"
     ]
    }
   ],
   "execution_count": 12
  },
  {
   "metadata": {
    "ExecuteTime": {
     "end_time": "2024-11-10T07:55:49.032406Z",
     "start_time": "2024-11-10T07:55:49.024370Z"
    }
   },
   "cell_type": "code",
   "source": [
    "# update dict ?? \n",
    "info[\"name\"]=\"Noha Shehab\"\n",
    "print(info)"
   ],
   "id": "dd37e897ca4dc3e1",
   "outputs": [
    {
     "name": "stdout",
     "output_type": "stream",
     "text": [
      "{'name': 'Noha Shehab', 'track': 'TD', 'work': 'iti'}\n"
     ]
    }
   ],
   "execution_count": 13
  },
  {
   "metadata": {
    "ExecuteTime": {
     "end_time": "2024-11-10T07:56:30.569459Z",
     "start_time": "2024-11-10T07:56:30.553149Z"
    }
   },
   "cell_type": "code",
   "source": [
    "info[\"city\"]=\"Mansoura\" # if the key doesn't exists --> will add it. \n",
    "print(info)"
   ],
   "id": "102a5a418543e512",
   "outputs": [
    {
     "name": "stdout",
     "output_type": "stream",
     "text": [
      "{'name': 'Noha Shehab', 'track': 'TD', 'work': 'iti', 'city': 'Mansoura'}\n"
     ]
    }
   ],
   "execution_count": 14
  },
  {
   "metadata": {},
   "cell_type": "markdown",
   "source": "# loop over the dict ",
   "id": "8f768e8e57355e49"
  },
  {
   "metadata": {
    "ExecuteTime": {
     "end_time": "2024-11-10T07:57:36.717676Z",
     "start_time": "2024-11-10T07:57:36.701468Z"
    }
   },
   "cell_type": "code",
   "source": [
    "for item in info:\n",
    "    print(f'item {item}')  # item --> represent the key "
   ],
   "id": "6a3f4d9e47f6489c",
   "outputs": [
    {
     "name": "stdout",
     "output_type": "stream",
     "text": [
      "item name\n",
      "item track\n",
      "item work\n",
      "item city\n"
     ]
    }
   ],
   "execution_count": 15
  },
  {
   "metadata": {},
   "cell_type": "markdown",
   "source": "# print dict keys , values ?",
   "id": "10a3591151749dfc"
  },
  {
   "metadata": {
    "ExecuteTime": {
     "end_time": "2024-11-10T07:58:39.573417Z",
     "start_time": "2024-11-10T07:58:39.556917Z"
    }
   },
   "cell_type": "code",
   "source": [
    "for item in info:\n",
    "    print(f'key={item}, value= {info[item]}')"
   ],
   "id": "3d67ecd9d430ef47",
   "outputs": [
    {
     "name": "stdout",
     "output_type": "stream",
     "text": [
      "key=name, value= Noha Shehab\n",
      "key=track, value= TD\n",
      "key=work, value= iti\n",
      "key=city, value= Mansoura\n"
     ]
    }
   ],
   "execution_count": 16
  },
  {
   "metadata": {},
   "cell_type": "markdown",
   "source": "# get dict keys --->",
   "id": "8b2e391cf3bfe9b5"
  },
  {
   "metadata": {
    "ExecuteTime": {
     "end_time": "2024-11-10T08:00:20.193521Z",
     "start_time": "2024-11-10T08:00:20.177999Z"
    }
   },
   "cell_type": "code",
   "source": [
    "keys = []\n",
    "for item in info:\n",
    "    keys.append(item)\n",
    "    \n",
    "print(keys)"
   ],
   "id": "f5b6adcaac036a1d",
   "outputs": [
    {
     "name": "stdout",
     "output_type": "stream",
     "text": [
      "['name', 'track', 'work', 'city']\n"
     ]
    }
   ],
   "execution_count": 17
  },
  {
   "metadata": {
    "ExecuteTime": {
     "end_time": "2024-11-10T08:00:42.141202Z",
     "start_time": "2024-11-10T08:00:42.133570Z"
    }
   },
   "cell_type": "code",
   "source": [
    "values = []\n",
    "for key in info:\n",
    "    values.append(info[key])\n",
    "print(values)"
   ],
   "id": "37be87f335ecf5a",
   "outputs": [
    {
     "name": "stdout",
     "output_type": "stream",
     "text": [
      "['Noha Shehab', 'TD', 'iti', 'Mansoura']\n"
     ]
    }
   ],
   "execution_count": 18
  },
  {
   "metadata": {},
   "cell_type": "markdown",
   "source": "# get dict keys ",
   "id": "a05c61787fb15b09"
  },
  {
   "metadata": {
    "ExecuteTime": {
     "end_time": "2024-11-10T08:02:22.048662Z",
     "start_time": "2024-11-10T08:02:22.032557Z"
    }
   },
   "cell_type": "code",
   "source": [
    "infokeys = info.keys()\n",
    "print(infokeys) # iterable datatype "
   ],
   "id": "deeca42d2c3b79be",
   "outputs": [
    {
     "name": "stdout",
     "output_type": "stream",
     "text": [
      "dict_keys(['name', 'track', 'work', 'city'])\n"
     ]
    }
   ],
   "execution_count": 19
  },
  {
   "metadata": {
    "ExecuteTime": {
     "end_time": "2024-11-10T08:03:33.203786Z",
     "start_time": "2024-11-10T08:03:33.184521Z"
    }
   },
   "cell_type": "code",
   "source": [
    "infokeys = list(infokeys)\n",
    "print(infokeys)"
   ],
   "id": "d2429713f8adf066",
   "outputs": [
    {
     "name": "stdout",
     "output_type": "stream",
     "text": [
      "['name', 'track', 'work', 'city']\n"
     ]
    }
   ],
   "execution_count": 20
  },
  {
   "metadata": {
    "ExecuteTime": {
     "end_time": "2024-11-10T08:04:01.434590Z",
     "start_time": "2024-11-10T08:04:01.419763Z"
    }
   },
   "cell_type": "code",
   "source": [
    "infovalues = info.values()\n",
    "print(infovalues)\n"
   ],
   "id": "a544289f4d6f5588",
   "outputs": [
    {
     "name": "stdout",
     "output_type": "stream",
     "text": [
      "dict_values(['Noha Shehab', 'TD', 'iti', 'Mansoura'])\n"
     ]
    }
   ],
   "execution_count": 21
  },
  {
   "metadata": {
    "ExecuteTime": {
     "end_time": "2024-11-10T08:04:48.567674Z",
     "start_time": "2024-11-10T08:04:48.552615Z"
    }
   },
   "cell_type": "code",
   "source": [
    "infovalues= tuple(infovalues)\n",
    "print(infovalues)"
   ],
   "id": "a82596af46510930",
   "outputs": [
    {
     "name": "stdout",
     "output_type": "stream",
     "text": [
      "('Noha Shehab', 'TD', 'iti', 'Mansoura')\n"
     ]
    }
   ],
   "execution_count": 22
  },
  {
   "metadata": {
    "ExecuteTime": {
     "end_time": "2024-11-10T08:05:12.634547Z",
     "start_time": "2024-11-10T08:05:12.620920Z"
    }
   },
   "cell_type": "code",
   "source": [
    "info_items = info.items()\n",
    "print(info_items)"
   ],
   "id": "f481a1d41ca8e5e8",
   "outputs": [
    {
     "name": "stdout",
     "output_type": "stream",
     "text": [
      "dict_items([('name', 'Noha Shehab'), ('track', 'TD'), ('work', 'iti'), ('city', 'Mansoura')])\n"
     ]
    }
   ],
   "execution_count": 23
  },
  {
   "metadata": {
    "ExecuteTime": {
     "end_time": "2024-11-10T08:05:31.933170Z",
     "start_time": "2024-11-10T08:05:31.919214Z"
    }
   },
   "cell_type": "code",
   "source": [
    "info_items = list(info_items)\n",
    "print(info_items)"
   ],
   "id": "40a2c6c49193de02",
   "outputs": [
    {
     "name": "stdout",
     "output_type": "stream",
     "text": [
      "[('name', 'Noha Shehab'), ('track', 'TD'), ('work', 'iti'), ('city', 'Mansoura')]\n"
     ]
    }
   ],
   "execution_count": 24
  },
  {
   "metadata": {
    "ExecuteTime": {
     "end_time": "2024-11-10T08:12:07.381097Z",
     "start_time": "2024-11-10T08:12:07.376022Z"
    }
   },
   "cell_type": "code",
   "source": "print(info)",
   "id": "3d3dd985a46eb3a8",
   "outputs": [
    {
     "name": "stdout",
     "output_type": "stream",
     "text": [
      "{'name': 'Noha Shehab', 'track': 'TD', 'work': 'iti', 'city': 'Mansoura'}\n"
     ]
    }
   ],
   "execution_count": 25
  },
  {
   "metadata": {
    "ExecuteTime": {
     "end_time": "2024-11-10T08:12:26.546834Z",
     "start_time": "2024-11-10T08:12:26.530709Z"
    }
   },
   "cell_type": "code",
   "source": [
    "vals = list(info.values())\n",
    "print(vals)"
   ],
   "id": "e2b423c35bd4562",
   "outputs": [
    {
     "name": "stdout",
     "output_type": "stream",
     "text": [
      "['Noha Shehab', 'TD', 'iti', 'Mansoura']\n"
     ]
    }
   ],
   "execution_count": 26
  },
  {
   "metadata": {
    "ExecuteTime": {
     "end_time": "2024-11-10T08:13:20.486223Z",
     "start_time": "2024-11-10T08:13:20.465855Z"
    }
   },
   "cell_type": "code",
   "source": [
    "# check this \n",
    "ll = list(info) # convert dict to list ?\n",
    "print(ll)"
   ],
   "id": "15e9f36c05809f1",
   "outputs": [
    {
     "name": "stdout",
     "output_type": "stream",
     "text": [
      "['name', 'track', 'work', 'city']\n"
     ]
    }
   ],
   "execution_count": 27
  },
  {
   "metadata": {
    "ExecuteTime": {
     "end_time": "2024-11-10T08:14:16.350115Z",
     "start_time": "2024-11-10T08:14:16.339545Z"
    }
   },
   "cell_type": "code",
   "source": "itemsss = list(info.items())",
   "id": "fcd0fcf36e0cfa98",
   "outputs": [],
   "execution_count": 28
  },
  {
   "metadata": {
    "ExecuteTime": {
     "end_time": "2024-11-10T08:14:53.900123Z",
     "start_time": "2024-11-10T08:14:53.883197Z"
    }
   },
   "cell_type": "code",
   "source": [
    "v = list(info.values())\n",
    "print(v)"
   ],
   "id": "6cd0e7be56d7aa1c",
   "outputs": [
    {
     "name": "stdout",
     "output_type": "stream",
     "text": [
      "['Noha Shehab', 'TD', 'iti', 'Mansoura']\n"
     ]
    }
   ],
   "execution_count": 29
  },
  {
   "metadata": {
    "ExecuteTime": {
     "end_time": "2024-11-10T08:15:20.951917Z",
     "start_time": "2024-11-10T08:15:20.935065Z"
    }
   },
   "cell_type": "code",
   "source": "print(info)",
   "id": "1474031c38bb7f53",
   "outputs": [
    {
     "name": "stdout",
     "output_type": "stream",
     "text": [
      "{'name': 'Noha Shehab', 'track': 'TD', 'work': 'iti', 'city': 'Mansoura'}\n"
     ]
    }
   ],
   "execution_count": 30
  },
  {
   "metadata": {},
   "cell_type": "markdown",
   "source": "# remove key from dict ?? use pop function  dict.pop(key)",
   "id": "ba17419280280b60"
  },
  {
   "metadata": {
    "ExecuteTime": {
     "end_time": "2024-11-10T08:16:21.864327Z",
     "start_time": "2024-11-10T08:16:21.843542Z"
    }
   },
   "cell_type": "code",
   "source": [
    "popped_val=info.pop(\"track\")  # return with value \n",
    "print(popped_val)\n",
    "print(info)"
   ],
   "id": "270d1911417c54b3",
   "outputs": [
    {
     "name": "stdout",
     "output_type": "stream",
     "text": [
      "TD\n",
      "{'name': 'Noha Shehab', 'work': 'iti', 'city': 'Mansoura'}\n"
     ]
    }
   ],
   "execution_count": 31
  },
  {
   "metadata": {},
   "cell_type": "code",
   "outputs": [],
   "execution_count": null,
   "source": [
    "d = {\n",
    "    \"name\": \"noha\", \n",
    "    \"name1\": \"noha\", \n",
    "    \"name2\" : \"noha\"\n",
    "}\n",
    "\n",
    "selected_values = []\n",
    "for item in d:\n",
    "    if d[item] not in selected_values:\n",
    "        selected_values.append(d[item])\n",
    "    else:\n",
    "        d.pop(item)\n",
    "        \n"
   ],
   "id": "91d5e4cdccabb96e"
  },
  {
   "metadata": {},
   "cell_type": "markdown",
   "source": "# GET LEN OF THE DICT ? ",
   "id": "8cbb5de9c17c5512"
  },
  {
   "metadata": {
    "ExecuteTime": {
     "end_time": "2024-11-10T08:54:15.086055Z",
     "start_time": "2024-11-10T08:54:15.081775Z"
    }
   },
   "cell_type": "code",
   "source": "print(len(info))",
   "id": "8e7a12654533139b",
   "outputs": [
    {
     "name": "stdout",
     "output_type": "stream",
     "text": [
      "3\n"
     ]
    }
   ],
   "execution_count": 32
  },
  {
   "metadata": {},
   "cell_type": "markdown",
   "source": "# use update function with dict ??",
   "id": "1acf624d6e2d2544"
  },
  {
   "metadata": {
    "ExecuteTime": {
     "end_time": "2024-11-10T09:03:27.415537Z",
     "start_time": "2024-11-10T09:03:27.401487Z"
    }
   },
   "cell_type": "code",
   "source": [
    "myinfo = {\n",
    "    \"name\": \"Hasnaa\", \n",
    "    \"age\": 24,\n",
    "    \"track\": \"td\"\n",
    "}"
   ],
   "id": "d23961a53e16fe13",
   "outputs": [],
   "execution_count": 4
  },
  {
   "metadata": {
    "ExecuteTime": {
     "end_time": "2024-11-10T09:03:28.706952Z",
     "start_time": "2024-11-10T09:03:28.702646Z"
    }
   },
   "cell_type": "code",
   "source": [
    "additional_info = {\n",
    "    \"fullname\": \"Hasnaa Mohamed\",\n",
    "    \"track\": \"Technical Director\",\n",
    "    'city': \"Banha\"\n",
    "}"
   ],
   "id": "8252a8fbf10a3c76",
   "outputs": [],
   "execution_count": 5
  },
  {
   "metadata": {
    "ExecuteTime": {
     "end_time": "2024-11-10T09:03:31.350412Z",
     "start_time": "2024-11-10T09:03:31.343360Z"
    }
   },
   "cell_type": "code",
   "source": [
    "myinfo.update(additional_info)\n",
    "print(myinfo)"
   ],
   "id": "d8318fbe6230a98",
   "outputs": [
    {
     "name": "stdout",
     "output_type": "stream",
     "text": [
      "{'name': 'Hasnaa', 'age': 24, 'track': 'Technical Director', 'fullname': 'Hasnaa Mohamed', 'city': 'Banha'}\n"
     ]
    }
   ],
   "execution_count": 6
  },
  {
   "metadata": {},
   "cell_type": "markdown",
   "source": "# when use in operator with dict -> search about given value in keys. ",
   "id": "ceeac6f3a79a009e"
  },
  {
   "metadata": {
    "ExecuteTime": {
     "end_time": "2024-11-10T09:03:32.417244Z",
     "start_time": "2024-11-10T09:03:32.403568Z"
    }
   },
   "cell_type": "code",
   "source": "print('track' in myinfo) ",
   "id": "1a7fd8f21432ac7c",
   "outputs": [
    {
     "name": "stdout",
     "output_type": "stream",
     "text": [
      "True\n"
     ]
    }
   ],
   "execution_count": 7
  },
  {
   "metadata": {},
   "cell_type": "markdown",
   "source": "I need to find if the given values exists in dictionary values ",
   "id": "91b8bbbcafa4130d"
  },
  {
   "metadata": {},
   "cell_type": "code",
   "outputs": [],
   "execution_count": null,
   "source": "print(\"track\" in myinfo.values())",
   "id": "625e3f799e9ea383"
  }
 ],
 "metadata": {
  "kernelspec": {
   "display_name": "Python 3",
   "language": "python",
   "name": "python3"
  },
  "language_info": {
   "codemirror_mode": {
    "name": "ipython",
    "version": 2
   },
   "file_extension": ".py",
   "mimetype": "text/x-python",
   "name": "python",
   "nbconvert_exporter": "python",
   "pygments_lexer": "ipython2",
   "version": "2.7.6"
  }
 },
 "nbformat": 4,
 "nbformat_minor": 5
}
