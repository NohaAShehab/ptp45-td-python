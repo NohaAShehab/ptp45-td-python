{
 "cells": [
  {
   "cell_type": "code",
   "id": "initial_id",
   "metadata": {
    "collapsed": true,
    "ExecuteTime": {
     "end_time": "2024-11-10T09:27:08.497770Z",
     "start_time": "2024-11-10T09:27:08.493242Z"
    }
   },
   "source": "print(\"iti\")",
   "outputs": [
    {
     "ename": "SyntaxError",
     "evalue": "unterminated string literal (detected at line 1) (1376378543.py, line 1)",
     "output_type": "error",
     "traceback": [
      "\u001B[0;36m  Cell \u001B[0;32mIn[1], line 1\u001B[0;36m\u001B[0m\n\u001B[0;31m    print(\"iti)\u001B[0m\n\u001B[0m          ^\u001B[0m\n\u001B[0;31mSyntaxError\u001B[0m\u001B[0;31m:\u001B[0m unterminated string literal (detected at line 1)\n"
     ]
    }
   ],
   "execution_count": 1
  },
  {
   "metadata": {
    "ExecuteTime": {
     "end_time": "2024-11-10T09:30:00.735767Z",
     "start_time": "2024-11-10T09:30:00.718975Z"
    }
   },
   "cell_type": "code",
   "source": [
    "num1 = 9\n",
    "num2 = 2\n",
    "res = num1 * num2\n",
    "print(res)"
   ],
   "id": "41fa067df91e7fb4",
   "outputs": [
    {
     "name": "stdout",
     "output_type": "stream",
     "text": [
      "18\n"
     ]
    }
   ],
   "execution_count": 3
  },
  {
   "metadata": {},
   "cell_type": "code",
   "outputs": [],
   "execution_count": null,
   "source": "# run time errors ",
   "id": "2015044a654a58d1"
  },
  {
   "metadata": {
    "ExecuteTime": {
     "end_time": "2024-11-10T09:39:57.980296Z",
     "start_time": "2024-11-10T09:39:54.646375Z"
    }
   },
   "cell_type": "code",
   "source": [
    "num  = int(input(\"Enter a number: \"))\n",
    "print(num, type(num))"
   ],
   "id": "37238bad1c13768e",
   "outputs": [
    {
     "ename": "ValueError",
     "evalue": "invalid literal for int() with base 10: 'ghjhg'",
     "output_type": "error",
     "traceback": [
      "\u001B[0;31m---------------------------------------------------------------------------\u001B[0m",
      "\u001B[0;31mValueError\u001B[0m                                Traceback (most recent call last)",
      "Cell \u001B[0;32mIn[5], line 1\u001B[0m\n\u001B[0;32m----> 1\u001B[0m num  \u001B[38;5;241m=\u001B[39m \u001B[38;5;28;43mint\u001B[39;49m\u001B[43m(\u001B[49m\u001B[38;5;28;43minput\u001B[39;49m\u001B[43m(\u001B[49m\u001B[38;5;124;43m\"\u001B[39;49m\u001B[38;5;124;43mEnter a number: \u001B[39;49m\u001B[38;5;124;43m\"\u001B[39;49m\u001B[43m)\u001B[49m\u001B[43m)\u001B[49m\n\u001B[1;32m      2\u001B[0m \u001B[38;5;28mprint\u001B[39m(num, \u001B[38;5;28mtype\u001B[39m(num))\n",
      "\u001B[0;31mValueError\u001B[0m: invalid literal for int() with base 10: 'ghjhg'"
     ]
    }
   ],
   "execution_count": 5
  },
  {
   "metadata": {
    "ExecuteTime": {
     "end_time": "2024-11-10T09:40:34.780432Z",
     "start_time": "2024-11-10T09:40:34.759350Z"
    }
   },
   "cell_type": "code",
   "source": [
    "num1 = 10 \n",
    "num2 = 0 \n",
    "summ = num1 + num2\n",
    "diff = num1 - num2\n",
    "print(summ, diff)\n",
    "res = num1 / num2 "
   ],
   "id": "aea7236018c6536b",
   "outputs": [
    {
     "name": "stdout",
     "output_type": "stream",
     "text": [
      "10 10\n"
     ]
    },
    {
     "ename": "ZeroDivisionError",
     "evalue": "division by zero",
     "output_type": "error",
     "traceback": [
      "\u001B[0;31m---------------------------------------------------------------------------\u001B[0m",
      "\u001B[0;31mZeroDivisionError\u001B[0m                         Traceback (most recent call last)",
      "Cell \u001B[0;32mIn[6], line 6\u001B[0m\n\u001B[1;32m      4\u001B[0m diff \u001B[38;5;241m=\u001B[39m num1 \u001B[38;5;241m-\u001B[39m num2\n\u001B[1;32m      5\u001B[0m \u001B[38;5;28mprint\u001B[39m(summ, diff)\n\u001B[0;32m----> 6\u001B[0m res \u001B[38;5;241m=\u001B[39m \u001B[43mnum1\u001B[49m\u001B[43m \u001B[49m\u001B[38;5;241;43m/\u001B[39;49m\u001B[43m \u001B[49m\u001B[43mnum2\u001B[49m \n",
      "\u001B[0;31mZeroDivisionError\u001B[0m: division by zero"
     ]
    }
   ],
   "execution_count": 6
  },
  {
   "metadata": {
    "ExecuteTime": {
     "end_time": "2024-11-10T09:42:39.687601Z",
     "start_time": "2024-11-10T09:42:37.453786Z"
    }
   },
   "cell_type": "code",
   "source": [
    "try:\n",
    "    num = int(input(\"Enter a number: \"))\n",
    "    print(num, type(num))\n",
    "except:\n",
    "    print(\"---- problem happened\")\n",
    "\n",
    "print(\"---- after the block --------\")"
   ],
   "id": "2100db844d821a60",
   "outputs": [
    {
     "name": "stdout",
     "output_type": "stream",
     "text": [
      "---- problem happened\n",
      "---- after the block --------\n"
     ]
    }
   ],
   "execution_count": 8
  },
  {
   "metadata": {},
   "cell_type": "code",
   "outputs": [],
   "execution_count": null,
   "source": [
    "while True:\n",
    "    try:\n",
    "        num = int(input(\"Enter a number: \"))\n",
    "        print(num, type(num))\n",
    "        break\n",
    "    except:\n",
    "        print(\"--- please enter a valid number \")"
   ],
   "id": "7cc85d6aeb5fd020"
  },
  {
   "metadata": {},
   "cell_type": "markdown",
   "source": "# I need to know the exception type \n",
   "id": "3d09b6e7a9782fad"
  },
  {
   "metadata": {
    "ExecuteTime": {
     "end_time": "2024-11-10T09:46:38.906855Z",
     "start_time": "2024-11-10T09:46:36.516792Z"
    }
   },
   "cell_type": "code",
   "source": [
    "try: \n",
    "    num = int(input(\"Enter a number: \"))\n",
    "    num2 = int(input(\"Enter another number: \"))\n",
    "    summm = num + num2\n",
    "    diff = num - num2\n",
    "    divv = num / num2\n",
    "    print(summm, diff, divv)\n",
    "except:\n",
    "    print('---- Error happened ')"
   ],
   "id": "15aed2a5bb3c3967",
   "outputs": [
    {
     "name": "stdout",
     "output_type": "stream",
     "text": [
      "---- Error happened \n"
     ]
    }
   ],
   "execution_count": 12
  },
  {
   "metadata": {
    "ExecuteTime": {
     "end_time": "2024-11-10T09:47:39.125209Z",
     "start_time": "2024-11-10T09:47:34.365261Z"
    }
   },
   "cell_type": "code",
   "source": [
    "try: \n",
    "    num = int(input(\"Enter a number: \"))\n",
    "    num2 = int(input(\"Enter another number: \"))\n",
    "    summm = num + num2\n",
    "    diff = num - num2\n",
    "    divv = num / num2\n",
    "    print(summm, diff, divv)\n",
    "except Exception as abbass:\n",
    "    print(f'---- Error happened  {abbass}')"
   ],
   "id": "28fe0f77f91029c3",
   "outputs": [
    {
     "name": "stdout",
     "output_type": "stream",
     "text": [
      "---- Error happened  division by zero\n"
     ]
    }
   ],
   "execution_count": 15
  },
  {
   "metadata": {
    "ExecuteTime": {
     "end_time": "2024-11-10T09:51:56.770655Z",
     "start_time": "2024-11-10T09:51:53.900190Z"
    }
   },
   "cell_type": "code",
   "source": [
    "message= input(\"Enter a message: \")\n",
    "if message==\"I need money\":\n",
    "    raise Exception(\"NO MONEY HERE \")"
   ],
   "id": "9ed42c024b560dbf",
   "outputs": [
    {
     "ename": "Exception",
     "evalue": "NO MONEY HERE ",
     "output_type": "error",
     "traceback": [
      "\u001B[0;31m---------------------------------------------------------------------------\u001B[0m",
      "\u001B[0;31mException\u001B[0m                                 Traceback (most recent call last)",
      "Cell \u001B[0;32mIn[18], line 3\u001B[0m\n\u001B[1;32m      1\u001B[0m message\u001B[38;5;241m=\u001B[39m \u001B[38;5;28minput\u001B[39m(\u001B[38;5;124m\"\u001B[39m\u001B[38;5;124mEnter a message: \u001B[39m\u001B[38;5;124m\"\u001B[39m)\n\u001B[1;32m      2\u001B[0m \u001B[38;5;28;01mif\u001B[39;00m message\u001B[38;5;241m==\u001B[39m\u001B[38;5;124m\"\u001B[39m\u001B[38;5;124mI need money\u001B[39m\u001B[38;5;124m\"\u001B[39m:\n\u001B[0;32m----> 3\u001B[0m     \u001B[38;5;28;01mraise\u001B[39;00m \u001B[38;5;167;01mException\u001B[39;00m(\u001B[38;5;124m\"\u001B[39m\u001B[38;5;124mNO MONEY HERE \u001B[39m\u001B[38;5;124m\"\u001B[39m)\n",
      "\u001B[0;31mException\u001B[0m: NO MONEY HERE "
     ]
    }
   ],
   "execution_count": 18
  },
  {
   "metadata": {},
   "cell_type": "code",
   "outputs": [],
   "execution_count": null,
   "source": "",
   "id": "a6fe00abc7c56adb"
  }
 ],
 "metadata": {
  "kernelspec": {
   "display_name": "Python 3",
   "language": "python",
   "name": "python3"
  },
  "language_info": {
   "codemirror_mode": {
    "name": "ipython",
    "version": 2
   },
   "file_extension": ".py",
   "mimetype": "text/x-python",
   "name": "python",
   "nbconvert_exporter": "python",
   "pygments_lexer": "ipython2",
   "version": "2.7.6"
  }
 },
 "nbformat": 4,
 "nbformat_minor": 5
}
