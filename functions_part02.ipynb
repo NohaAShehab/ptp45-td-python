{
 "cells": [
  {
   "metadata": {},
   "cell_type": "markdown",
   "source": "# functions",
   "id": "38834f1787481434"
  },
  {
   "cell_type": "code",
   "execution_count": null,
   "id": "initial_id",
   "metadata": {
    "collapsed": true
   },
   "outputs": [],
   "source": [
    "from os import pread\n",
    "\n",
    "\n",
    "def myfunc():\n",
    "    pass \n",
    "\n",
    "## this function with None \n",
    "\n",
    "\n",
    "def myfunc2():\n",
    "    return    \n",
    "\n",
    "### this function will do nothing and return with None \n",
    "\n"
   ]
  },
  {
   "metadata": {},
   "cell_type": "code",
   "outputs": [],
   "execution_count": null,
   "source": [
    "# 2nd option\n",
    "# function return with result \n",
    "\n",
    "def askforfullname():\n",
    "    fname = input(\"Enter your first name: \")\n",
    "    lname = input(\"Enter your last name: \")\n",
    "    fullname=  f'{fname} {lname}'  # string \n",
    "    return fullname # string \n",
    "\n",
    "# this function accept no argument then return with result.\n"
   ],
   "id": "3a1963a5c1328fc6"
  },
  {
   "metadata": {
    "ExecuteTime": {
     "end_time": "2024-11-24T09:15:34.262130Z",
     "start_time": "2024-11-24T09:15:27.198397Z"
    }
   },
   "cell_type": "code",
   "source": [
    "#### function return more than one value \n",
    "\n",
    "def myfunc():\n",
    "    fname = input(\"Enter your first name: \")\n",
    "    lname = input(\"Enter your last name: \")\n",
    "    fullname=  f'{fname} {lname}'  # string \n",
    "    return fullname, fname, lname  # return inside a tuple \n",
    "\n",
    "\n",
    "res=myfunc()\n",
    "print(res)"
   ],
   "id": "ae5efe6148f2d8cb",
   "outputs": [
    {
     "name": "stdout",
     "output_type": "stream",
     "text": [
      "('moaz salem', 'moaz', 'salem')\n"
     ]
    }
   ],
   "execution_count": 1
  },
  {
   "metadata": {},
   "cell_type": "markdown",
   "source": "",
   "id": "297ad7552f638c15"
  },
  {
   "metadata": {},
   "cell_type": "code",
   "outputs": [],
   "execution_count": null,
   "source": [
    "# function accept arguments , return with result --\n",
    "def sumnum(num1, num2):  # arguments are required , mandatory\n",
    "    res = num1 + num2\n",
    "    return res\n",
    "\n",
    "result=sumnum(434,23)\n"
   ],
   "id": "61b44d6d810ff27"
  },
  {
   "metadata": {},
   "cell_type": "markdown",
   "source": "# <h1>Hint </h1>",
   "id": "6fe8f69021b61b25"
  },
  {
   "metadata": {
    "ExecuteTime": {
     "end_time": "2024-11-24T09:16:52.209054Z",
     "start_time": "2024-11-24T09:16:52.205189Z"
    }
   },
   "cell_type": "code",
   "source": [
    "# squence unpacking \n",
    "nums = [2,324,\"iti\"]\n",
    "a, b, c = nums\n",
    "print(a,b, c)"
   ],
   "id": "3e6838c2640ea0f6",
   "outputs": [
    {
     "name": "stdout",
     "output_type": "stream",
     "text": [
      "2 324 iti\n"
     ]
    }
   ],
   "execution_count": 2
  },
  {
   "metadata": {},
   "cell_type": "code",
   "outputs": [],
   "execution_count": null,
   "source": "",
   "id": "aeb9521be69623fd"
  },
  {
   "metadata": {},
   "cell_type": "markdown",
   "source": "# <h1 style='color:purple'> Functions with default arguments ??</h1> ",
   "id": "29a337ec4de52729"
  },
  {
   "metadata": {
    "ExecuteTime": {
     "end_time": "2024-11-24T09:20:32.028939Z",
     "start_time": "2024-11-24T09:20:32.012566Z"
    }
   },
   "cell_type": "code",
   "source": [
    "def sumnum(num1, num2):\n",
    "    res = num1 + num2 \n",
    "    print(f'num1 + num2 = {num1} + {num2} = {res}')\n",
    "    return res\n",
    "\n",
    "result = sumnum(3,4)"
   ],
   "id": "d7526733bf6febf0",
   "outputs": [
    {
     "name": "stdout",
     "output_type": "stream",
     "text": [
      "num1 + num2 = 3 + 4 = 7\n"
     ]
    }
   ],
   "execution_count": 3
  },
  {
   "metadata": {
    "ExecuteTime": {
     "end_time": "2024-11-24T09:20:49.368867Z",
     "start_time": "2024-11-24T09:20:49.106147Z"
    }
   },
   "cell_type": "code",
   "source": "sumnum(3)",
   "id": "e0e953ddc005f1bb",
   "outputs": [
    {
     "ename": "TypeError",
     "evalue": "sumnum() missing 1 required positional argument: 'num2'",
     "output_type": "error",
     "traceback": [
      "\u001B[0;31m---------------------------------------------------------------------------\u001B[0m",
      "\u001B[0;31mTypeError\u001B[0m                                 Traceback (most recent call last)",
      "Cell \u001B[0;32mIn[4], line 1\u001B[0m\n\u001B[0;32m----> 1\u001B[0m \u001B[43msumnum\u001B[49m\u001B[43m(\u001B[49m\u001B[38;5;241;43m3\u001B[39;49m\u001B[43m)\u001B[49m\n",
      "\u001B[0;31mTypeError\u001B[0m: sumnum() missing 1 required positional argument: 'num2'"
     ]
    }
   ],
   "execution_count": 4
  },
  {
   "metadata": {},
   "cell_type": "markdown",
   "source": "# Add default values ",
   "id": "32cf57c4083b2e71"
  },
  {
   "metadata": {
    "ExecuteTime": {
     "end_time": "2024-11-24T09:21:34.171731Z",
     "start_time": "2024-11-24T09:21:34.166986Z"
    }
   },
   "cell_type": "code",
   "source": [
    "def sumnum(num1, num2=10):\n",
    "    res = num1 + num2 \n",
    "    print(f'num1 + num2 = {num1} + {num2} = {res}')\n",
    "    return res\n",
    "\n",
    "result = sumnum(3,4)\n",
    "result2 = sumnum(42)"
   ],
   "id": "193e7025107d873c",
   "outputs": [
    {
     "name": "stdout",
     "output_type": "stream",
     "text": [
      "num1 + num2 = 3 + 4 = 7\n",
      "num1 + num2 = 42 + 10 = 52\n"
     ]
    }
   ],
   "execution_count": 5
  },
  {
   "metadata": {
    "ExecuteTime": {
     "end_time": "2024-11-24T09:22:07.427780Z",
     "start_time": "2024-11-24T09:22:07.423701Z"
    }
   },
   "cell_type": "code",
   "source": [
    "print(\"hello\") # end =\"\\n\"\n",
    "print('world')"
   ],
   "id": "1d629359b8be597b",
   "outputs": [
    {
     "name": "stdout",
     "output_type": "stream",
     "text": [
      "hello\n",
      "world\n"
     ]
    }
   ],
   "execution_count": 6
  },
  {
   "metadata": {
    "ExecuteTime": {
     "end_time": "2024-11-24T09:24:00.881621Z",
     "start_time": "2024-11-24T09:24:00.867870Z"
    }
   },
   "cell_type": "code",
   "source": [
    "print(\"hello\", end='$' )\n",
    "print(\"world\")"
   ],
   "id": "7204926a27cc324a",
   "outputs": [
    {
     "name": "stdout",
     "output_type": "stream",
     "text": [
      "hello$world\n"
     ]
    }
   ],
   "execution_count": 7
  },
  {
   "metadata": {
    "ExecuteTime": {
     "end_time": "2024-11-24T09:24:55.935495Z",
     "start_time": "2024-11-24T09:24:55.925820Z"
    }
   },
   "cell_type": "code",
   "source": "print(3, type(3), 'noha', sep=\";\")",
   "id": "600b91ec401df9e8",
   "outputs": [
    {
     "name": "stdout",
     "output_type": "stream",
     "text": [
      "3;<class 'int'>;noha\n"
     ]
    }
   ],
   "execution_count": 9
  },
  {
   "metadata": {
    "ExecuteTime": {
     "end_time": "2024-11-24T09:26:37.657627Z",
     "start_time": "2024-11-24T09:26:37.652643Z"
    }
   },
   "cell_type": "code",
   "source": [
    "def mulnum1(num1=10, num2):\n",
    "    res = num1 * num2\n",
    "    print(f'num1 * num2 = {num1} * {num2} = {res}')\n",
    "    \n",
    "mulnum1(4)"
   ],
   "id": "84ebc5cffa620eda",
   "outputs": [
    {
     "ename": "SyntaxError",
     "evalue": "parameter without a default follows parameter with a default (3868828831.py, line 1)",
     "output_type": "error",
     "traceback": [
      "\u001B[0;36m  Cell \u001B[0;32mIn[10], line 1\u001B[0;36m\u001B[0m\n\u001B[0;31m    def mulnum1(num1=10, num2):\u001B[0m\n\u001B[0m                         ^\u001B[0m\n\u001B[0;31mSyntaxError\u001B[0m\u001B[0;31m:\u001B[0m parameter without a default follows parameter with a default\n"
     ]
    }
   ],
   "execution_count": 10
  },
  {
   "metadata": {
    "ExecuteTime": {
     "end_time": "2024-11-24T09:28:22.782529Z",
     "start_time": "2024-11-24T09:28:22.774914Z"
    }
   },
   "cell_type": "code",
   "source": [
    "def mulnum1(num1, num2=23):\n",
    "    res = num1 * num2\n",
    "    print(f'num1 * num2 = {num1} * {num2} = {res}')\n",
    "    \n",
    "mulnum1(4)"
   ],
   "id": "964de040351ef8b8",
   "outputs": [
    {
     "name": "stdout",
     "output_type": "stream",
     "text": [
      "num1 * num2 = 4 * 23 = 92\n"
     ]
    }
   ],
   "execution_count": 11
  },
  {
   "metadata": {
    "ExecuteTime": {
     "end_time": "2024-11-24T09:28:31.191342Z",
     "start_time": "2024-11-24T09:28:31.174052Z"
    }
   },
   "cell_type": "code",
   "source": [
    "def mulnum1(num1=10, num2=12):\n",
    "    res = num1 * num2\n",
    "    print(f'num1 * num2 = {num1} * {num2} = {res}')\n",
    "    \n",
    "mulnum1(4)"
   ],
   "id": "9474081f80bc9cd0",
   "outputs": [
    {
     "name": "stdout",
     "output_type": "stream",
     "text": [
      "num1 * num2 = 4 * 12 = 48\n"
     ]
    }
   ],
   "execution_count": 12
  },
  {
   "metadata": {
    "ExecuteTime": {
     "end_time": "2024-11-24T09:29:37.097039Z",
     "start_time": "2024-11-24T09:29:37.080838Z"
    }
   },
   "cell_type": "code",
   "source": "mulnum1(num2=3)",
   "id": "7900cc3b4036fd78",
   "outputs": [
    {
     "name": "stdout",
     "output_type": "stream",
     "text": [
      "num1 * num2 = 10 * 3 = 30\n"
     ]
    }
   ],
   "execution_count": 14
  },
  {
   "metadata": {
    "ExecuteTime": {
     "end_time": "2024-11-24T09:30:09.501395Z",
     "start_time": "2024-11-24T09:30:09.492209Z"
    }
   },
   "cell_type": "code",
   "source": "print(\"iti\" , \"td\", 'function', sep='_')",
   "id": "b331eec730fd7859",
   "outputs": [
    {
     "name": "stdout",
     "output_type": "stream",
     "text": [
      "iti_td_function\n"
     ]
    }
   ],
   "execution_count": 15
  },
  {
   "metadata": {},
   "cell_type": "markdown",
   "source": "# check this .....",
   "id": "80330fda4416bfa4"
  },
  {
   "metadata": {
    "ExecuteTime": {
     "end_time": "2024-11-24T09:32:14.204458Z",
     "start_time": "2024-11-24T09:32:14.188335Z"
    }
   },
   "cell_type": "code",
   "source": [
    "print(\"Ahmed\")\n",
    "print(20, 13,31)\n",
    "print(\"Ahmed\", \"Hasnaa\", \"Ola\", \"Nardine\", 3123, True )"
   ],
   "id": "14d7079d595502af",
   "outputs": [
    {
     "name": "stdout",
     "output_type": "stream",
     "text": [
      "Ahmed\n",
      "20 13 31\n",
      "Ahmed Hasnaa Ola Nardine 3123 True\n"
     ]
    }
   ],
   "execution_count": 16
  },
  {
   "metadata": {},
   "cell_type": "code",
   "outputs": [],
   "execution_count": null,
   "source": "",
   "id": "aa1e4c8ed2c80ff0"
  },
  {
   "metadata": {},
   "cell_type": "markdown",
   "source": [
    "<div style = 'border : 3px solid purple; background-color:#f5eaec;padding:10px'>\n",
    " \n",
    "- ###  <span style=\"color:purple; text-align:center\">Functions with Variable number of arguments ?? -unknown- </span>\n",
    "</div>"
   ],
   "id": "4ca55ce32d15ee4d"
  },
  {
   "metadata": {
    "ExecuteTime": {
     "end_time": "2024-11-24T09:34:41.527867Z",
     "start_time": "2024-11-24T09:34:41.444343Z"
    }
   },
   "cell_type": "code",
   "source": [
    "def askforstudents(students):\n",
    "    print(students)\n",
    "    \n",
    "askforstudents('Ahmed', 'Hasnaa', 'Ola', 'Nardine')"
   ],
   "id": "df1d4535bec62f55",
   "outputs": [
    {
     "ename": "TypeError",
     "evalue": "askforstudents() takes 1 positional argument but 4 were given",
     "output_type": "error",
     "traceback": [
      "\u001B[0;31m---------------------------------------------------------------------------\u001B[0m",
      "\u001B[0;31mTypeError\u001B[0m                                 Traceback (most recent call last)",
      "Cell \u001B[0;32mIn[17], line 4\u001B[0m\n\u001B[1;32m      1\u001B[0m \u001B[38;5;28;01mdef\u001B[39;00m \u001B[38;5;21maskforstudents\u001B[39m(students):\n\u001B[1;32m      2\u001B[0m     \u001B[38;5;28mprint\u001B[39m(students)\n\u001B[0;32m----> 4\u001B[0m \u001B[43maskforstudents\u001B[49m\u001B[43m(\u001B[49m\u001B[38;5;124;43m'\u001B[39;49m\u001B[38;5;124;43mAhmed\u001B[39;49m\u001B[38;5;124;43m'\u001B[39;49m\u001B[43m,\u001B[49m\u001B[43m \u001B[49m\u001B[38;5;124;43m'\u001B[39;49m\u001B[38;5;124;43mHasnaa\u001B[39;49m\u001B[38;5;124;43m'\u001B[39;49m\u001B[43m,\u001B[49m\u001B[43m \u001B[49m\u001B[38;5;124;43m'\u001B[39;49m\u001B[38;5;124;43mOla\u001B[39;49m\u001B[38;5;124;43m'\u001B[39;49m\u001B[43m,\u001B[49m\u001B[43m \u001B[49m\u001B[38;5;124;43m'\u001B[39;49m\u001B[38;5;124;43mNardine\u001B[39;49m\u001B[38;5;124;43m'\u001B[39;49m\u001B[43m)\u001B[49m\n",
      "\u001B[0;31mTypeError\u001B[0m: askforstudents() takes 1 positional argument but 4 were given"
     ]
    }
   ],
   "execution_count": 17
  },
  {
   "metadata": {
    "ExecuteTime": {
     "end_time": "2024-11-24T09:35:34.253271Z",
     "start_time": "2024-11-24T09:35:34.235372Z"
    }
   },
   "cell_type": "code",
   "source": [
    "def askforstudents(*students):  # function accept zero or more argument.\n",
    "    print(students, type(students))\n",
    "    \n",
    "askforstudents('Ahmed', 'Hasnaa', 'Ola', 'Nardine')"
   ],
   "id": "e1c3f54a3cbeeef6",
   "outputs": [
    {
     "name": "stdout",
     "output_type": "stream",
     "text": [
      "('Ahmed', 'Hasnaa', 'Ola', 'Nardine') <class 'tuple'>\n"
     ]
    }
   ],
   "execution_count": 19
  },
  {
   "metadata": {
    "ExecuteTime": {
     "end_time": "2024-11-24T09:37:15.140450Z",
     "start_time": "2024-11-24T09:37:15.135516Z"
    }
   },
   "cell_type": "code",
   "source": [
    "print(\"--------------\")\n",
    "print() # print new empty line \n",
    "print(\"-------------------\")\n",
    "print(end='#')\n",
    "print(\"---\")"
   ],
   "id": "51d59139dc89d1aa",
   "outputs": [
    {
     "name": "stdout",
     "output_type": "stream",
     "text": [
      "--------------\n",
      "\n",
      "-------------------\n",
      "#---\n"
     ]
    }
   ],
   "execution_count": 22
  },
  {
   "metadata": {
    "ExecuteTime": {
     "end_time": "2024-11-24T09:39:49.231554Z",
     "start_time": "2024-11-24T09:39:49.213146Z"
    }
   },
   "cell_type": "code",
   "source": [
    "def askforstudents(*students): # *- -->># function accept zero or more argument.\n",
    "    print(students, type(students)) # accept input argument in a tuple ////\n",
    "    \n",
    "askforstudents('Ahmed', 'Hasnaa', 'Ola', 'Nardine', 'Abanoub')\n",
    "\n",
    "askforstudents() ####"
   ],
   "id": "310ab2e63b6172cf",
   "outputs": [
    {
     "name": "stdout",
     "output_type": "stream",
     "text": [
      "('Ahmed', 'Hasnaa', 'Ola', 'Nardine', 'Abanoub') <class 'tuple'>\n",
      "() <class 'tuple'>\n"
     ]
    }
   ],
   "execution_count": 25
  },
  {
   "metadata": {},
   "cell_type": "code",
   "outputs": [],
   "execution_count": null,
   "source": "",
   "id": "e69502c55f355689"
  },
  {
   "metadata": {},
   "cell_type": "markdown",
   "source": "# format function",
   "id": "6a687c35b4d98ef7"
  },
  {
   "metadata": {
    "ExecuteTime": {
     "end_time": "2024-11-24T09:41:27.315097Z",
     "start_time": "2024-11-24T09:41:27.301308Z"
    }
   },
   "cell_type": "code",
   "source": [
    "message = \"we love {0} more than {1}\"\n",
    "print(message)"
   ],
   "id": "4cdd1f21ddf17078",
   "outputs": [
    {
     "name": "stdout",
     "output_type": "stream",
     "text": [
      "we love {0} more than {1}\n"
     ]
    }
   ],
   "execution_count": 26
  },
  {
   "metadata": {
    "ExecuteTime": {
     "end_time": "2024-11-24T09:41:43.190505Z",
     "start_time": "2024-11-24T09:41:43.178544Z"
    }
   },
   "cell_type": "code",
   "source": "message.format(\"python\", 'Houdini')",
   "id": "e7e7aaed47547845",
   "outputs": [
    {
     "data": {
      "text/plain": [
       "'we love python more than Houdini'"
      ]
     },
     "execution_count": 27,
     "metadata": {},
     "output_type": "execute_result"
    }
   ],
   "execution_count": 27
  },
  {
   "metadata": {
    "ExecuteTime": {
     "end_time": "2024-11-24T09:42:33.571622Z",
     "start_time": "2024-11-24T09:42:33.567543Z"
    }
   },
   "cell_type": "code",
   "source": [
    "mm = \"fff {0}, {1}, {2}, {3}\"\n",
    "print(mm.format(\"23\",\"qwe\", \"Qe\", \"qeer\"))"
   ],
   "id": "41bb0472adc15899",
   "outputs": [
    {
     "name": "stdout",
     "output_type": "stream",
     "text": [
      "fff 23, qwe, Qe, qeer\n"
     ]
    }
   ],
   "execution_count": 28
  },
  {
   "metadata": {},
   "cell_type": "markdown",
   "source": [
    "<div style = 'border : 3px solid red; background-color:#f5eaec;padding:10px'>\n",
    " \n",
    "- ###  <span style=\"color:red; text-align:center\">Functions with Variable number of keyword arguments ?? -unknown- </span>\n",
    "</div>"
   ],
   "id": "61f716977d0ac0b"
  },
  {
   "metadata": {
    "ExecuteTime": {
     "end_time": "2024-11-24T09:48:05.762787Z",
     "start_time": "2024-11-24T09:48:05.748331Z"
    }
   },
   "cell_type": "code",
   "source": [
    "def introduce_your_self(**info):\n",
    "    print(info)\n",
    "    \n",
    "    \n",
    "introduce_your_self(fname='hasnaa')\n",
    "introduce_your_self()\n",
    "introduce_your_self(fullname='moaz salem', track='td')"
   ],
   "id": "1a63b5158cb94b",
   "outputs": [
    {
     "name": "stdout",
     "output_type": "stream",
     "text": [
      "{'fname': 'hasnaa'}\n",
      "{}\n",
      "{'fullname': 'moaz salem', 'track': 'td'}\n"
     ]
    }
   ],
   "execution_count": 29
  },
  {
   "metadata": {},
   "cell_type": "code",
   "outputs": [],
   "execution_count": null,
   "source": "",
   "id": "51ffda9c9f08ebf0"
  }
 ],
 "metadata": {
  "kernelspec": {
   "display_name": "Python 3",
   "language": "python",
   "name": "python3"
  },
  "language_info": {
   "codemirror_mode": {
    "name": "ipython",
    "version": 2
   },
   "file_extension": ".py",
   "mimetype": "text/x-python",
   "name": "python",
   "nbconvert_exporter": "python",
   "pygments_lexer": "ipython2",
   "version": "2.7.6"
  }
 },
 "nbformat": 4,
 "nbformat_minor": 5
}
