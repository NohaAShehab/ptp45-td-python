{
 "cells": [
  {
   "cell_type": "code",
   "id": "initial_id",
   "metadata": {
    "collapsed": true,
    "ExecuteTime": {
     "end_time": "2024-11-24T07:29:13.402416Z",
     "start_time": "2024-11-24T07:29:13.398365Z"
    }
   },
   "source": [
    "from jinja2.compiler import operators\n",
    "\n",
    "print('hi')"
   ],
   "outputs": [
    {
     "name": "stdout",
     "output_type": "stream",
     "text": [
      "hi\n"
     ]
    }
   ],
   "execution_count": 1
  },
  {
   "metadata": {},
   "cell_type": "markdown",
   "source": "<h1 style='color:red'>Define a function </h1> ",
   "id": "59dccd5b2c2ef03d"
  },
  {
   "metadata": {},
   "cell_type": "code",
   "outputs": [],
   "execution_count": null,
   "source": [
    "##### 1- define function\n",
    "def myfunction():\n",
    "    pass\n",
    "\n",
    "# when define you to call it\n",
    "myfunction()"
   ],
   "id": "5cba784f5c7de0d1"
  },
  {
   "metadata": {},
   "cell_type": "markdown",
   "source": "<h1 style='color:yellow'>Define a function  that do something </h1> \n",
   "id": "97cc15e68f59e6cd"
  },
  {
   "metadata": {
    "ExecuteTime": {
     "end_time": "2024-11-24T07:38:38.575004Z",
     "start_time": "2024-11-24T07:38:38.570203Z"
    }
   },
   "cell_type": "code",
   "source": [
    "def sayhello():\n",
    "    print(\"----Hello world ------\")"
   ],
   "id": "3bf726bb8949261f",
   "outputs": [],
   "execution_count": 2
  },
  {
   "metadata": {
    "ExecuteTime": {
     "end_time": "2024-11-24T07:39:08.264793Z",
     "start_time": "2024-11-24T07:39:08.249755Z"
    }
   },
   "cell_type": "code",
   "source": [
    "# we need to call the function \n",
    "sayhello()\n",
    "sayhello()\n",
    "sayhello()"
   ],
   "id": "8a396f5df49d189a",
   "outputs": [
    {
     "name": "stdout",
     "output_type": "stream",
     "text": [
      "----Hello world ------\n",
      "----Hello world ------\n",
      "----Hello world ------\n"
     ]
    }
   ],
   "execution_count": 3
  },
  {
   "metadata": {},
   "cell_type": "markdown",
   "source": "<h1 style='color:blue'>Does this function return with something ? </h1> \n",
   "id": "da77ddf7cb8ae87c"
  },
  {
   "metadata": {
    "ExecuteTime": {
     "end_time": "2024-11-24T07:40:38.915649Z",
     "start_time": "2024-11-24T07:40:38.912022Z"
    }
   },
   "cell_type": "code",
   "source": [
    "# name ='ahmed'\n",
    "# newname = name.upper()\n",
    "\n",
    "res = sayhello()\n",
    "print(res)"
   ],
   "id": "7b359c2d669bde09",
   "outputs": [
    {
     "name": "stdout",
     "output_type": "stream",
     "text": [
      "----Hello world ------\n",
      "None\n"
     ]
    }
   ],
   "execution_count": 4
  },
  {
   "metadata": {},
   "cell_type": "markdown",
   "source": "<h1 style='color:pink'>Check this scenario </h1> \n",
   "id": "14b5b3386e700bad"
  },
  {
   "metadata": {
    "ExecuteTime": {
     "end_time": "2024-11-24T07:43:20.287828Z",
     "start_time": "2024-11-24T07:43:20.278831Z"
    }
   },
   "cell_type": "code",
   "source": [
    "def saywelcome():\n",
    "    print(\"---welcome to the most fruitful python course ---\")\n",
    "    return \n",
    "\n",
    "saywelcome()"
   ],
   "id": "1cde3f38fe1893ef",
   "outputs": [
    {
     "name": "stdout",
     "output_type": "stream",
     "text": [
      "---welcome to the most fruitful python course ---\n"
     ]
    }
   ],
   "execution_count": 6
  },
  {
   "metadata": {
    "ExecuteTime": {
     "end_time": "2024-11-24T07:43:22.720695Z",
     "start_time": "2024-11-24T07:43:22.712376Z"
    }
   },
   "cell_type": "code",
   "source": [
    "x = saywelcome()\n",
    "print(x)"
   ],
   "id": "99fea62a5dee16f1",
   "outputs": [
    {
     "name": "stdout",
     "output_type": "stream",
     "text": [
      "---welcome to the most fruitful python course ---\n",
      "None\n"
     ]
    }
   ],
   "execution_count": 7
  },
  {
   "metadata": {},
   "cell_type": "markdown",
   "source": "<h1 style='color:blue'> Function that return with something </h1> \n",
   "id": "5a2f98df5bc03c4d"
  },
  {
   "metadata": {
    "ExecuteTime": {
     "end_time": "2024-11-24T07:45:04.830472Z",
     "start_time": "2024-11-24T07:45:04.826453Z"
    }
   },
   "cell_type": "code",
   "source": [
    "def askforname():\n",
    "    name = input(\"What is your name? \")\n",
    "    name=  name.upper()\n",
    "    print(f\"name = {name}\")\n",
    "    return name "
   ],
   "id": "c64bc317c17f5040",
   "outputs": [],
   "execution_count": 8
  },
  {
   "metadata": {
    "ExecuteTime": {
     "end_time": "2024-11-24T07:45:40.041389Z",
     "start_time": "2024-11-24T07:45:36.823788Z"
    }
   },
   "cell_type": "code",
   "source": [
    "stdname=askforname()\n",
    "print(stdname, type(stdname))"
   ],
   "id": "2478832b9dfca92f",
   "outputs": [
    {
     "name": "stdout",
     "output_type": "stream",
     "text": [
      "name = NOHA\n",
      "NOHA <class 'str'>\n"
     ]
    }
   ],
   "execution_count": 9
  },
  {
   "metadata": {},
   "cell_type": "markdown",
   "source": "<h1 style='color:green'>check this scenario </h1> \n",
   "id": "991d90310974abd8"
  },
  {
   "metadata": {
    "ExecuteTime": {
     "end_time": "2024-11-24T07:50:20.485681Z",
     "start_time": "2024-11-24T07:50:12.675061Z"
    }
   },
   "cell_type": "code",
   "source": [
    "def askforfullname():\n",
    "    fname = input(\"What is your first name? \")\n",
    "    lname = input(\"What is your last name? \")\n",
    "    print(f'{fname} {lname}')\n",
    "    return fname, lname  # function with res --> I cannot modify the result ....\n",
    "\n",
    "res = askforfullname()\n",
    "print(res, type(res))\n"
   ],
   "id": "2150cb406fcc4ba8",
   "outputs": [
    {
     "name": "stdout",
     "output_type": "stream",
     "text": [
      "noha noha\n",
      "('noha', 'noha') <class 'tuple'>\n"
     ]
    }
   ],
   "execution_count": 11
  },
  {
   "metadata": {},
   "cell_type": "markdown",
   "source": "# <h1 style='color:red'>Sequence unpacking </h1> \n",
   "id": "3a7c747209097ca"
  },
  {
   "metadata": {
    "ExecuteTime": {
     "end_time": "2024-11-24T07:54:32.997864Z",
     "start_time": "2024-11-24T07:54:23.646850Z"
    }
   },
   "cell_type": "code",
   "source": [
    "fname, lname = askforfullname()  # tuple \n",
    "print(fname,type(fname),  lname, type(lname))"
   ],
   "id": "27d78b6f6e8cb3c3",
   "outputs": [
    {
     "name": "stdout",
     "output_type": "stream",
     "text": [
      "abdelkader mohamed\n",
      "abdelkader <class 'str'> mohamed <class 'str'>\n"
     ]
    }
   ],
   "execution_count": 13
  },
  {
   "metadata": {},
   "cell_type": "markdown",
   "source": [
    "# write a function that asks the user to enter a number \n",
    "if they enter a valid number \n",
    "return with it \n",
    "otherwise --> print an error message for him/her"
   ],
   "id": "6d9e7595c4dd2141"
  },
  {
   "metadata": {
    "ExecuteTime": {
     "end_time": "2024-11-24T08:07:18.360058Z",
     "start_time": "2024-11-24T08:07:18.355966Z"
    }
   },
   "cell_type": "code",
   "source": [
    "def askfornum():\n",
    "    num = input(\"Enter a number: \")\n",
    "    if num.isdigit():\n",
    "        num = int(num)\n",
    "        return num\n",
    "    print(\"----- please enter valid number \")"
   ],
   "id": "52554a27a44d83ca",
   "outputs": [],
   "execution_count": 14
  },
  {
   "metadata": {
    "ExecuteTime": {
     "end_time": "2024-11-24T08:07:43.659847Z",
     "start_time": "2024-11-24T08:07:41.047736Z"
    }
   },
   "cell_type": "code",
   "source": [
    "age=askfornum()\n",
    "print(age, type(age))"
   ],
   "id": "266c5224f0150d3",
   "outputs": [
    {
     "name": "stdout",
     "output_type": "stream",
     "text": [
      "4 <class 'int'>\n"
     ]
    }
   ],
   "execution_count": 15
  },
  {
   "metadata": {
    "ExecuteTime": {
     "end_time": "2024-11-24T08:07:58.575323Z",
     "start_time": "2024-11-24T08:07:56.104779Z"
    }
   },
   "cell_type": "code",
   "source": [
    "salary = askfornum()\n",
    "print(salary, type(salary))"
   ],
   "id": "92a09c99c34b6bb3",
   "outputs": [
    {
     "name": "stdout",
     "output_type": "stream",
     "text": [
      "----- please enter valid number \n",
      "None <class 'NoneType'>\n"
     ]
    }
   ],
   "execution_count": 16
  },
  {
   "metadata": {},
   "cell_type": "markdown",
   "source": [
    "<div style = 'border : 3px solid #bf959f; background-color:#f5eaec;padding:10px'>\n",
    " \n",
    "- ###  <span style=\"color:#bf959f\">Functions :- `Function with mandatory ... required arguments` </span>"
   ],
   "id": "994ea1b9e4ce90d4"
  },
  {
   "metadata": {},
   "cell_type": "markdown",
   "source": "# <h1 style='color:purple'>function that accept argument do something then return with result  </h1> \n",
   "id": "333ae1339a3ad45e"
  },
  {
   "metadata": {
    "ExecuteTime": {
     "end_time": "2024-11-24T08:09:47.034884Z",
     "start_time": "2024-11-24T08:09:47.031306Z"
    }
   },
   "cell_type": "code",
   "source": [
    "def sumnum(num1, num2):\n",
    "    res = num1 + num2\n",
    "    print(res)\n",
    "    return res"
   ],
   "id": "50591a73682f106d",
   "outputs": [],
   "execution_count": 17
  },
  {
   "metadata": {
    "ExecuteTime": {
     "end_time": "2024-11-24T08:10:16.180662Z",
     "start_time": "2024-11-24T08:10:16.174483Z"
    }
   },
   "cell_type": "code",
   "source": [
    "total = sumnum(100, 124)\n",
    "print(total, type(total))"
   ],
   "id": "2258b33d9b39310f",
   "outputs": [
    {
     "name": "stdout",
     "output_type": "stream",
     "text": [
      "224\n",
      "224 <class 'int'>\n"
     ]
    }
   ],
   "execution_count": 18
  },
  {
   "metadata": {
    "ExecuteTime": {
     "end_time": "2024-11-24T08:11:30.291209Z",
     "start_time": "2024-11-24T08:11:30.029343Z"
    }
   },
   "cell_type": "code",
   "source": "total2 =sumnum(23)",
   "id": "3658cb897b81e04e",
   "outputs": [
    {
     "ename": "TypeError",
     "evalue": "sumnum() missing 1 required positional argument: 'num2'",
     "output_type": "error",
     "traceback": [
      "\u001B[0;31m---------------------------------------------------------------------------\u001B[0m",
      "\u001B[0;31mTypeError\u001B[0m                                 Traceback (most recent call last)",
      "Cell \u001B[0;32mIn[19], line 1\u001B[0m\n\u001B[0;32m----> 1\u001B[0m total2 \u001B[38;5;241m=\u001B[39m\u001B[43msumnum\u001B[49m\u001B[43m(\u001B[49m\u001B[38;5;241;43m23\u001B[39;49m\u001B[43m)\u001B[49m\n",
      "\u001B[0;31mTypeError\u001B[0m: sumnum() missing 1 required positional argument: 'num2'"
     ]
    }
   ],
   "execution_count": 19
  },
  {
   "metadata": {},
   "cell_type": "markdown",
   "source": [
    "<div style = 'border : 3px solid #bf959f; background-color:#f5eaec;padding:10px'>\n",
    " \n",
    "- ###  <span style=\"color:#bf959f\">Try- except  </span>"
   ],
   "id": "9baf5777ed78a1d6"
  },
  {
   "metadata": {
    "ExecuteTime": {
     "end_time": "2024-11-24T08:21:04.429292Z",
     "start_time": "2024-11-24T08:21:01.143969Z"
    }
   },
   "cell_type": "code",
   "source": [
    "### write a function that accepts a message as argument.\n",
    "# and ask use to enter a number --> make sure number is int then return with it ??\n",
    "\n",
    "\n",
    "def getnum(message):\n",
    "    # print(message)\n",
    "    # num = input(\"please enter any number\")\n",
    "    num = input(f\"{message}: \")\n",
    "    print(f\"you entered {num}\")\n",
    "    if num.isdigit():\n",
    "        return int(num)  # return -> make out from the function \n",
    "    print(\"please enter valid number \")\n",
    "    \n",
    "\n",
    "# getnum(\"Enter a number\")\n",
    "clock=getnum(\"please tell us how much clock ? \")\n",
    "print(clock)\n",
    "\n"
   ],
   "id": "9df3f224562bf95e",
   "outputs": [
    {
     "name": "stdout",
     "output_type": "stream",
     "text": [
      "you entered 2qwfsf\n",
      "please enter valid number \n",
      "None\n"
     ]
    }
   ],
   "execution_count": 28
  },
  {
   "metadata": {},
   "cell_type": "markdown",
   "source": "",
   "id": "1b529a65096e1528"
  },
  {
   "metadata": {
    "ExecuteTime": {
     "end_time": "2024-11-24T08:22:32.893743Z",
     "start_time": "2024-11-24T08:22:30.064076Z"
    }
   },
   "cell_type": "code",
   "source": [
    "def getnum2(message):\n",
    "    try:\n",
    "        num = input(f\"{message}: \")\n",
    "        num = int(num)\n",
    "        return num\n",
    "    except Exception as e:\n",
    "        print(\"please enter valid number \")\n",
    "        \n",
    "\n",
    "grade =  getnum2(\"please enter your grade ? \")\n",
    "print(grade)\n",
    "        "
   ],
   "id": "6032bf38bb1015b2",
   "outputs": [
    {
     "name": "stdout",
     "output_type": "stream",
     "text": [
      "100\n"
     ]
    }
   ],
   "execution_count": 29
  },
  {
   "metadata": {
    "ExecuteTime": {
     "end_time": "2024-11-24T08:22:53.323660Z",
     "start_time": "2024-11-24T08:22:50.505985Z"
    }
   },
   "cell_type": "code",
   "source": [
    "chapter = getnum2(\"please enter your chapter ? \")\n",
    "print(chapter)"
   ],
   "id": "2512001f330016b2",
   "outputs": [
    {
     "name": "stdout",
     "output_type": "stream",
     "text": [
      "please enter valid number \n",
      "None\n"
     ]
    }
   ],
   "execution_count": 30
  },
  {
   "metadata": {
    "ExecuteTime": {
     "end_time": "2024-11-24T08:27:41.775040Z",
     "start_time": "2024-11-24T08:27:41.769876Z"
    }
   },
   "cell_type": "code",
   "source": [
    "num1 = input(\"please enter your first number : \")\n",
    "num2 = input(\"please enter your second number : \")\n",
    "operator = input(\"please enter your operator : \")\n",
    "if num1.isdigit() and num2.isdigit() :\n",
    "    num1 = int(num1)\n",
    "    num2 = int(num2)\n",
    "    if operator in ['add','sub', 'mul', 'div']:\n",
    "        if operator == \"add\":\n",
    "            res = num1 + num2\n",
    "            print(res)\n",
    "        elif operator == \"sub\":\n",
    "            subb = num1 - num2\n",
    "            print(subb)\n",
    "        elif operator == \"mul\":\n",
    "            mull = num1 * num2\n",
    "            print(mull)\n",
    "        else:\n",
    "            divv = num1 / num2\n",
    "            \n",
    "    else:\n",
    "        print(\"please enter valid operator \")\n",
    "    \n",
    "else:\n",
    "    print(\"please make sure to enter valid numbers and \")\n",
    "    "
   ],
   "id": "cae659f1d28334f5",
   "outputs": [
    {
     "ename": "SyntaxError",
     "evalue": "expected ':' (1307750108.py, line 4)",
     "output_type": "error",
     "traceback": [
      "\u001B[0;36m  Cell \u001B[0;32mIn[31], line 4\u001B[0;36m\u001B[0m\n\u001B[0;31m    if num1.isdigit() and num2.isdigit() and operator in \"+-*\"\u001B[0m\n\u001B[0m                                                              ^\u001B[0m\n\u001B[0;31mSyntaxError\u001B[0m\u001B[0;31m:\u001B[0m expected ':'\n"
     ]
    }
   ],
   "execution_count": 31
  },
  {
   "metadata": {
    "ExecuteTime": {
     "end_time": "2024-11-24T08:36:25.842894Z",
     "start_time": "2024-11-24T08:36:15.818305Z"
    }
   },
   "cell_type": "code",
   "source": [
    "num1 = input(\"please enter your first number : \")\n",
    "num2 = input(\"please enter your second number : \")\n",
    "try:\n",
    "    num1 = int(num1)\n",
    "    num2 = int(num2)\n",
    "    operator = input(\"please enter your operator : \")\n",
    "    if operator in ['add','sub', 'mul', 'div']:\n",
    "        if operator == \"add\":\n",
    "            res = num1 + num2\n",
    "            print(res)\n",
    "        elif operator == \"sub\":\n",
    "            subb = num1 - num2\n",
    "            print(subb)\n",
    "        elif operator == \"mul\":\n",
    "            mull = num1 * num2\n",
    "            print(mull)\n",
    "        else:\n",
    "            divv = num1 / num2  \n",
    "    else:\n",
    "        print(\"please enter valid operator \")\n",
    "    \n",
    "except Exception as e :\n",
    "    print(f\"please make sure to enter valid numbers and operator {e} \")\n",
    "    "
   ],
   "id": "74343fafd4657b01",
   "outputs": [
    {
     "name": "stdout",
     "output_type": "stream",
     "text": [
      "please enter valid operator \n"
     ]
    }
   ],
   "execution_count": 39
  },
  {
   "metadata": {},
   "cell_type": "code",
   "outputs": [],
   "execution_count": null,
   "source": "",
   "id": "aacc16be1f3a8b5d"
  }
 ],
 "metadata": {
  "kernelspec": {
   "display_name": "Python 3",
   "language": "python",
   "name": "python3"
  },
  "language_info": {
   "codemirror_mode": {
    "name": "ipython",
    "version": 2
   },
   "file_extension": ".py",
   "mimetype": "text/x-python",
   "name": "python",
   "nbconvert_exporter": "python",
   "pygments_lexer": "ipython2",
   "version": "2.7.6"
  }
 },
 "nbformat": 4,
 "nbformat_minor": 5
}
