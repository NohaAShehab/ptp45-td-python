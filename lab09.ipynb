{
 "cells": [
  {
   "metadata": {},
   "cell_type": "markdown",
   "source": [
    "# Write a function that takes a string and returns the top N most frequent words in descending order of frequency.\n",
    "# text = \"hello world hello\" \n",
    "\n",
    "# The output will be \n",
    "# [(\"hello\", 2), (\"world\", 1)]\n"
   ],
   "id": "783747bcfe9ac6b3"
  },
  {
   "cell_type": "code",
   "id": "initial_id",
   "metadata": {
    "collapsed": true,
    "ExecuteTime": {
     "end_time": "2024-11-25T09:14:21.242631Z",
     "start_time": "2024-11-25T09:14:21.226069Z"
    }
   },
   "source": [
    "from debugpy.common.timestamp import reset\n",
    "from pycparser.ply.yacc import resultlimit\n",
    "from soupsieve.util import lower\n",
    "from webcolors import name_to_rgb\n",
    "\n",
    "\n",
    "def top_frequent(anystring):\n",
    "    print(anystring)\n",
    "    # split string to a list \n",
    "    list_of_words = anystring.split()\n",
    "    print(list_of_words)\n",
    "    # list of tuples :::\n",
    "    occurences = {}\n",
    "    for word in list_of_words:\n",
    "        if word in occurences:\n",
    "            occurences[word] += 1\n",
    "        else:\n",
    "            occurences[word] = 1\n",
    "            \n",
    "    print(occurences)\n",
    "    \n",
    "    \n",
    "    \n",
    "            \n",
    "                \n",
    "       \n",
    "    \n",
    "\n",
    "top_frequent(\" iti  hello hello User hello iti \")"
   ],
   "outputs": [
    {
     "name": "stdout",
     "output_type": "stream",
     "text": [
      " iti  hello hello User hello iti \n",
      "['iti', 'hello', 'hello', 'User', 'hello', 'iti']\n",
      "{'iti': 2, 'hello': 3, 'User': 1}\n"
     ]
    }
   ],
   "execution_count": 34
  },
  {
   "metadata": {},
   "cell_type": "markdown",
   "source": "",
   "id": "28364f31ecbb505"
  },
  {
   "metadata": {
    "ExecuteTime": {
     "end_time": "2024-11-25T09:18:36.745944Z",
     "start_time": "2024-11-25T09:18:36.734300Z"
    }
   },
   "cell_type": "code",
   "source": [
    "\n",
    "def top(message):\n",
    "    words=list(message.split(\" \"))\n",
    "    print(words)\n",
    "    dect={}\n",
    "    for i in words:\n",
    "        if i not in dect:\n",
    "            dect[i]=1\n",
    "        else:\n",
    "            dect[i]+=1\n",
    "    print(dect)\n",
    "   \n",
    "    l=list(dect.values())\n",
    "    l.sort(reverse=True)\n",
    "    print(l)\n",
    "    newdect={}\n",
    "    for i in l:  # values  3 2 1 1 \n",
    "        for key in dect:\n",
    "            if dect[key]==i:\n",
    "                newdect[key]=i\n",
    "                \n",
    "    newdect = list(newdect.items())\n",
    "    if len(newdect)>2:\n",
    "        newdect = newdect[0:2]\n",
    "    return newdect\n",
    "\n",
    "message=\"hello iti iti iti hello welcome \"  \n",
    "print(top(message))"
   ],
   "id": "490c4c30f034418d",
   "outputs": [
    {
     "name": "stdout",
     "output_type": "stream",
     "text": [
      "['hello', 'iti', 'iti', 'iti', 'hello', 'welcome', '']\n",
      "{'hello': 2, 'iti': 3, 'welcome': 1, '': 1}\n",
      "[3, 2, 1, 1]\n",
      "[('iti', 3), ('hello', 2)]\n"
     ]
    }
   ],
   "execution_count": 42
  },
  {
   "metadata": {
    "ExecuteTime": {
     "end_time": "2024-11-25T09:27:07.590904Z",
     "start_time": "2024-11-25T09:27:07.584143Z"
    }
   },
   "cell_type": "code",
   "source": [
    "def top(message):\n",
    "    words = list(message.split(\" \"))\n",
    "    print(words)\n",
    "    dect = {}\n",
    "    for i in words:\n",
    "        if i not in dect:\n",
    "            dect[i] = 1\n",
    "        else:\n",
    "            dect[i] += 1\n",
    "    print(dect)\n",
    "\n",
    "    l = list(dect.values())\n",
    "    l.sort(reverse=True)\n",
    "    print(l)\n",
    "    newdect = {}\n",
    "    for i in l:  # values  3 2 1 1\n",
    "        for key in dect:\n",
    "            if dect[key] == i and key not in newdect:\n",
    "                newdect[key] = i\n",
    "\n",
    "    newdect = list(newdect.items())\n",
    "    if len(newdect) > 2:\n",
    "        newdect = newdect[0:2]\n",
    "    return newdect\n",
    "\n",
    "message=\"hello iti iti iti hello welcome \"  \n",
    "print(top(message))"
   ],
   "id": "c8d029ca106c5991",
   "outputs": [
    {
     "name": "stdout",
     "output_type": "stream",
     "text": [
      "['hello', 'iti', 'iti', 'iti', 'hello', 'welcome', '']\n",
      "{'hello': 2, 'iti': 3, 'welcome': 1, '': 1}\n",
      "[3, 2, 1, 1]\n",
      "[('iti', 3), ('hello', 2)]\n"
     ]
    }
   ],
   "execution_count": 43
  },
  {
   "metadata": {},
   "cell_type": "code",
   "outputs": [],
   "execution_count": null,
   "source": "",
   "id": "85baab6d57658b25"
  },
  {
   "metadata": {},
   "cell_type": "markdown",
   "source": [
    "# sudoko \n",
    "<pre> \n",
    "Write a function is_valid_sudoku(grid) to check if a 9x9 Sudoku grid is valid. A valid Sudoku grid satisfies:\n",
    "Each row contains unique digits (1-9).\n",
    "Each column contains unique digits (1-9).\n",
    "Each 3x3 subgrid contains unique digits (1-9).\n",
    "Input:\n",
    "\tgrid = [\n",
    "    [5, 3, 0, 0, 7, 0, 0, 0, 0],  # true \n",
    "    [6, 0, 0, 1, 9, 5, 0, 0, 0],\n",
    "    [0, 9, 8, 0, 0, 0, 0, 6, 0],\n",
    "    [8, 0, 0, 0, 6, 0, 0, 0, 3],\n",
    "    [4, 0, 0, 8, 0, 3, 0, 0, 1],\n",
    "    [7, 0, 0, 0, 2, 0, 0, 0, 6],\n",
    "    [0, 6, 0, 0, 0, 0, 2, 8, 0],\n",
    "    [0, 0, 0, 4, 1, 9, 0, 0, 5],\n",
    "    [0, 0, 0, 0, 8, 0, 0, 7, 9]\n",
    "]\n",
    "\n",
    "Output: \n",
    "True or false \n",
    "\n",
    "</pre>"
   ],
   "id": "335a11bb4b43f933"
  },
  {
   "metadata": {
    "ExecuteTime": {
     "end_time": "2024-11-25T10:01:14.707172Z",
     "start_time": "2024-11-25T10:01:14.690915Z"
    }
   },
   "cell_type": "code",
   "source": [
    "def valid_group(values):\n",
    "    digits = []\n",
    "    ## unique ---> len(values) === len (set(values))\n",
    "    for val in values:\n",
    "        if val !=0 :\n",
    "            digits.append(val)\n",
    "        elif val > 9 or val < 0:\n",
    "            return False\n",
    "        \n",
    "    if len(digits) == len(set(digits)):\n",
    "        return True\n",
    "    return False\n",
    "\n",
    "    \n",
    "def is_valid_sudoko(grid):\n",
    "    # check row , check column , check group\n",
    "    # check that each row contains unique disgits \n",
    "    # print(grid)\n",
    "    for row in grid:\n",
    "        if not valid_group(row):\n",
    "            return False # exit from the function \n",
    "    \n",
    "    # check cols \n",
    "    # get no_of_cols \n",
    "    no_cols= len(grid[0])\n",
    "    # print(no_cols)   \n",
    "    # first column [row[0][0], row[1][0]====>]\n",
    "    # second column [row[0][1]  ,row[1][1], row[2][1]  \n",
    "    allcols = [] # get each col\n",
    "    for col in range(no_cols):\n",
    "        newcol =[]\n",
    "        for i in range(no_cols):\n",
    "            if grid[i][col] != 0:\n",
    "                newcol.append(grid[i][col])\n",
    "        allcols.append(newcol)\n",
    "    # print(allcols)\n",
    "    # to check if cols valid\n",
    "    for c in allcols:\n",
    "        if not valid_group(c):\n",
    "            return False\n",
    "        \n",
    "        \n",
    "    ############## 3 by 3 \n",
    "    for start_row in range(0, no_cols, 3):\n",
    "        for start_col in range(0, no_cols, 3):\n",
    "            # we need to create subgrid ?\n",
    "            subgrid = []\n",
    "            ### we need 2 fors \n",
    "            for i in range(start_row, start_row+3):\n",
    "                for j in range(start_col, start_col+3):\n",
    "                    subgrid.append(grid[i][j])\n",
    "                    \n",
    "            print(subgrid)\n",
    "            if not valid_group(subgrid):\n",
    "                return False\n",
    "            \n",
    "    return True\n",
    "\n",
    "testgrid=  [\n",
    "    [5, 3, 0, 0, 7, 0, 0, 0, 0],  # true \n",
    "    [6, 0, 0, 1, 9, 5, 0, 0, 0],\n",
    "    [0, 9, 8, 0, 0, 0, 0, 6, 0],\n",
    "    [8, 0, 0, 0, 6, 0, 0, 0, 3],\n",
    "    [4, 0, 0, 8, 0, 3, 0, 0, 1],\n",
    "    [7, 0, 0, 0, 2, 0, 0, 0, 6],\n",
    "    [0, 6, 0, 0, 0, 0, 2, 8, 0],\n",
    "    [0, 0, 0, 4, 1, 9, 0, 0, 5],\n",
    "    [0, 0, 0, 0, 8, 0, 0, 7, 9]\n",
    "]\n",
    "\n",
    "\n",
    "\n",
    "correct = is_valid_sudoko(testgrid)\n",
    "print(correct)\n"
   ],
   "id": "7b0bf02ee353f5ed",
   "outputs": [
    {
     "name": "stdout",
     "output_type": "stream",
     "text": [
      "[5, 3, 0, 6, 0, 0, 0, 9, 8]\n",
      "[0, 7, 0, 1, 9, 5, 0, 0, 0]\n",
      "[0, 0, 0, 0, 0, 0, 0, 6, 0]\n",
      "[8, 0, 0, 4, 0, 0, 7, 0, 0]\n",
      "[0, 6, 0, 8, 0, 3, 0, 2, 0]\n",
      "[0, 0, 3, 0, 0, 1, 0, 0, 6]\n",
      "[0, 6, 0, 0, 0, 0, 0, 0, 0]\n",
      "[0, 0, 0, 4, 1, 9, 0, 8, 0]\n",
      "[2, 8, 0, 0, 0, 5, 0, 7, 9]\n",
      "True\n"
     ]
    }
   ],
   "execution_count": 60
  },
  {
   "metadata": {},
   "cell_type": "code",
   "outputs": [],
   "execution_count": null,
   "source": "",
   "id": "9e713b0220984953"
  },
  {
   "metadata": {},
   "cell_type": "markdown",
   "source": [
    "# matrix \n",
    "<pre> \n",
    " Write a function spiral_order(matrix) to traverse a 2D matrix in spiral order.\n",
    "\n",
    "input 👍\n",
    "matrix = [\n",
    "    [1, 2, 3],  \n",
    "    [4, 5, 6], \n",
    "    [7, 8, 9] ] \n",
    "\n",
    "\n",
    "Output:\n",
    "[1, 2, 3, 6, 9, 8, 7, 4, 5]\n",
    "\n",
    "</pre>\n"
   ],
   "id": "a0af5342948fe8fd"
  },
  {
   "metadata": {
    "ExecuteTime": {
     "end_time": "2024-11-25T10:24:28.108091Z",
     "start_time": "2024-11-25T10:24:28.099494Z"
    }
   },
   "cell_type": "code",
   "source": [
    "def spartial_order(matrix):\n",
    "    \n",
    "    top = 0\n",
    "    bottom = len(matrix)-1 \n",
    "    left = 0\n",
    "    right = len(matrix[0])-1   \n",
    "    \n",
    "    result = []\n",
    "    while top <= bottom and left <=right:\n",
    "        for col in range(left,right +1 ):\n",
    "            result.append(matrix[top][col])\n",
    "        top += 1\n",
    "        \n",
    "        print(f\"top ={top}\")\n",
    "        print(f\"bottom = {bottom}\")\n",
    "        for row in range(top, bottom +1):\n",
    "            result.append(matrix[row][right]) \n",
    "            \n",
    "        # I need 8, 7\n",
    "        right -= 1\n",
    "        if top <= bottom:\n",
    "            for col in range(right, left -1, -1):\n",
    "                result.append(matrix[bottom][col])\n",
    "            bottom -=1\n",
    "            \n",
    "            \n",
    "        if left <= right:\n",
    "            for row in range(bottom, top-1, -1):\n",
    "                result.append(matrix[row][left])\n",
    "            left += 1\n",
    "   \n",
    "   \n",
    "   \n",
    "    print(result)\n",
    "\n",
    "\n",
    "\n",
    "matrix = [\n",
    "    [1, 2, 3],  \n",
    "    [4, 5, 6], \n",
    "    [7, 8, 9] ]      \n",
    "        \n",
    "spartial_order(matrix)       \n",
    "            \n",
    "    \n"
   ],
   "id": "cb2ba73636d92c22",
   "outputs": [
    {
     "name": "stdout",
     "output_type": "stream",
     "text": [
      "top =1\n",
      "bottom = 2\n",
      "top =2\n",
      "bottom = 1\n",
      "[1, 2, 3, 6, 9, 8, 7, 4, 5]\n"
     ]
    }
   ],
   "execution_count": 69
  },
  {
   "metadata": {},
   "cell_type": "markdown",
   "source": [
    "# problem 5 \n",
    "<pre> Write a function first_unique_char(s) to find the index of the first non-repeating character in a string. If all characters repeat, return -1.\n",
    "input = \"leetcode\"\n",
    "output= 0\n",
    "<pre>"
   ],
   "id": "a22264d60be7395c"
  },
  {
   "metadata": {
    "ExecuteTime": {
     "end_time": "2024-11-25T11:19:31.167568Z",
     "start_time": "2024-11-25T11:19:31.136952Z"
    }
   },
   "cell_type": "code",
   "source": [
    "def first_unique(anstring):\n",
    "    char_occurrence = {}\n",
    "    for char in anstring:\n",
    "        if char not in char_occurrence:\n",
    "            char_occurrence[char] = 1\n",
    "        else:\n",
    "            char_occurrence[char] += 1\n",
    "    print(char_occurrence)\n",
    "    \n",
    "    for key, value in char_occurrence.items():\n",
    "        if value == 1:\n",
    "            return key \n",
    "    return -1\n",
    "first_unique(\"xhheellwoo\")"
   ],
   "id": "59ed59ea869b6417",
   "outputs": [
    {
     "name": "stdout",
     "output_type": "stream",
     "text": [
      "{'x': 1, 'h': 2, 'e': 2, 'l': 2, 'w': 1, 'o': 2}\n"
     ]
    },
    {
     "data": {
      "text/plain": [
       "'x'"
      ]
     },
     "execution_count": 75,
     "metadata": {},
     "output_type": "execute_result"
    }
   ],
   "execution_count": 75
  },
  {
   "metadata": {
    "ExecuteTime": {
     "end_time": "2024-11-25T11:21:40.435746Z",
     "start_time": "2024-11-25T11:21:40.424653Z"
    }
   },
   "cell_type": "code",
   "source": [
    "def method_2(anystring):\n",
    "    for char in anystring:\n",
    "        if anystring.count(char)==1:\n",
    "            return char\n",
    "    return -1\n",
    "\n",
    "method_2(\"xhheellwoo\")"
   ],
   "id": "85ea8605f5d27005",
   "outputs": [
    {
     "data": {
      "text/plain": [
       "'x'"
      ]
     },
     "execution_count": 78,
     "metadata": {},
     "output_type": "execute_result"
    }
   ],
   "execution_count": 78
  },
  {
   "metadata": {},
   "cell_type": "markdown",
   "source": "",
   "id": "3712dabf847206e3"
  },
  {
   "metadata": {},
   "cell_type": "markdown",
   "source": [
    "# problem 6 \n",
    "<pre> \n",
    "Write a function generate_matrix(n) to generate an n x n spiral matrix filled with numbers from 1 to n2n^2n2.\n",
    "\n",
    "Example input: 3\n",
    "Output: \n",
    "[ [1, 2, 3], \n",
    "  [8, 9, 4],\n",
    "   [7, 6, 5] ]\n",
    "<pre>"
   ],
   "id": "ae380827fc0aef19"
  },
  {
   "metadata": {
    "ExecuteTime": {
     "end_time": "2024-11-25T11:52:21.134236Z",
     "start_time": "2024-11-25T11:52:21.106853Z"
    }
   },
   "cell_type": "code",
   "source": [
    "# [[1, 2,3],\n",
    "# [8,9,4],\n",
    "# [7,6,5]] \n",
    "def generate_matrix(number):\n",
    "    end = number*number\n",
    "    matrix = []\n",
    "    for i in range(number):\n",
    "        row =[]\n",
    "        for j in range(number):\n",
    "            row.append(0)\n",
    "        matrix.append(row)\n",
    "    \n",
    "    top=0\n",
    "    left=0\n",
    "    right=number-1\n",
    "    bottom=number-1\n",
    "    \n",
    "    num=1\n",
    "    ### \n",
    "    while top<=bottom and left<=right:\n",
    "        # fill top row ?\n",
    "        for col in range(left,right+1):\n",
    "            matrix[top][col] = num\n",
    "            num+=1\n",
    "        \n",
    "        top +=1\n",
    "        \n",
    "        #### 2nd condition ??==> fill right col\n",
    "        for row in range(top, bottom +1):\n",
    "            matrix[row][right] = num\n",
    "            num+=1\n",
    "        right  -=1\n",
    "        \n",
    "        # fill bottom row ?\n",
    "        if top <= bottom:\n",
    "            for col in range(right, left -1, -1):\n",
    "                matrix[bottom][col] = num\n",
    "                num+=1\n",
    "            bottom -=1\n",
    "        \n",
    "        if left <= right:\n",
    "            for row in range(bottom, top-1, -1):\n",
    "                matrix[row][left] = num\n",
    "                num+=1\n",
    "            left +=1\n",
    "                \n",
    "    \n",
    "    print(matrix)\n",
    "    return matrix"
   ],
   "id": "a3cea66107d74d10",
   "outputs": [],
   "execution_count": 94
  },
  {
   "metadata": {
    "ExecuteTime": {
     "end_time": "2024-11-25T11:52:21.666708Z",
     "start_time": "2024-11-25T11:52:21.658559Z"
    }
   },
   "cell_type": "code",
   "source": "",
   "id": "f9f624641272ab27",
   "outputs": [],
   "execution_count": null
  },
  {
   "metadata": {
    "ExecuteTime": {
     "end_time": "2024-11-25T11:52:26.837017Z",
     "start_time": "2024-11-25T11:52:26.828083Z"
    }
   },
   "cell_type": "code",
   "source": "generate_matrix(4)",
   "id": "2eff7b4ce1744842",
   "outputs": [
    {
     "name": "stdout",
     "output_type": "stream",
     "text": [
      "[[1, 2, 3, 4], [12, 13, 14, 5], [11, 16, 15, 6], [10, 9, 8, 7]]\n"
     ]
    },
    {
     "data": {
      "text/plain": [
       "[[1, 2, 3, 4], [12, 13, 14, 5], [11, 16, 15, 6], [10, 9, 8, 7]]"
      ]
     },
     "execution_count": 96,
     "metadata": {},
     "output_type": "execute_result"
    }
   ],
   "execution_count": 96
  },
  {
   "metadata": {},
   "cell_type": "markdown",
   "source": [
    "# 7 \n",
    "<pre> \n",
    "Write a function top_k_frequent(nums, k) that returns the k most frequent elements in a list.\n",
    "\n",
    "Example:\n",
    "nums = [1, 1, 1, 2, 2, 3] : k = 2\n",
    "\n",
    "</p>"
   ],
   "id": "bd2f442197d9732e"
  },
  {
   "metadata": {
    "ExecuteTime": {
     "end_time": "2024-11-25T12:05:09.044097Z",
     "start_time": "2024-11-25T12:05:09.021323Z"
    }
   },
   "cell_type": "code",
   "source": [
    "def top_k_frequent(listofnums, k):\n",
    "    #frequency of each element \n",
    "    frequency = {}\n",
    "    for num in listofnums:\n",
    "        if num in frequency:\n",
    "            frequency[num] += 1\n",
    "        else:\n",
    "            frequency[num] = 1\n",
    "    print(frequency)\n",
    "\n",
    "    # sort decending based on value \n",
    "    values = frequency.values()\n",
    "    values = list(values)\n",
    "    values.sort(reverse=True)\n",
    "    print(values)\n",
    "    sorted_frequency = {}\n",
    "    for v in values:\n",
    "        for k , val in frequency.items():\n",
    "            if v == val:\n",
    "                sorted_frequency[k] = v\n",
    "                \n",
    "    \n",
    "    print(sorted_frequency)\n",
    "top_k_frequent([2, 2, 1, 1, 1, 3], 2)    # {1:3, 2:2, 3:1}"
   ],
   "id": "eddda63627fdd447",
   "outputs": [
    {
     "name": "stdout",
     "output_type": "stream",
     "text": [
      "{2: 2, 1: 3, 3: 1}\n",
      "[3, 2, 1]\n",
      "{1: 3, 2: 2, 3: 1}\n"
     ]
    }
   ],
   "execution_count": 113
  },
  {
   "metadata": {},
   "cell_type": "markdown",
   "source": [
    "# problem 8 \n",
    "<pre> \n",
    " Write a function largest_number(nums) that rearranges a list of numbers to form the largest possible number.\n",
    "\n",
    "Input:nums = [3, 30, 34, 5, 9]\n",
    "Output: \"9534330\"\n",
    "</pre>"
   ],
   "id": "9a2376dea2804ce6"
  },
  {
   "metadata": {
    "ExecuteTime": {
     "end_time": "2024-11-25T12:25:30.981118Z",
     "start_time": "2024-11-25T12:25:30.975737Z"
    }
   },
   "cell_type": "code",
   "source": [
    "def largest_number(nums):\n",
    "    print(nums)\n",
    "    newl = []\n",
    "    for num in nums:\n",
    "        newl.append(str(num))\n",
    "    print(newl)\n",
    "    # split each number to generate parts \n",
    "    more_parts= []\n",
    "    for item in newl:\n",
    "        for char in item:\n",
    "            more_parts.append(char)\n",
    "        \n",
    "    more_parts.sort(reverse=True)\n",
    "    newnum = \"\".join(more_parts)\n",
    "    newnum = int(newnum)\n",
    "    print(newnum)\n",
    "    print(more_parts)\n",
    "largest_number([3, 30, 34, 5, 9])"
   ],
   "id": "a6a5d32a58bb4ff9",
   "outputs": [
    {
     "name": "stdout",
     "output_type": "stream",
     "text": [
      "[3, 30, 34, 5, 9]\n",
      "['3', '30', '34', '5', '9']\n",
      "9543330\n",
      "['9', '5', '4', '3', '3', '3', '0']\n"
     ]
    }
   ],
   "execution_count": 123
  },
  {
   "metadata": {
    "ExecuteTime": {
     "end_time": "2024-11-25T12:27:53.056307Z",
     "start_time": "2024-11-25T12:27:53.036287Z"
    }
   },
   "cell_type": "code",
   "source": [
    "def largest_number(nums):\n",
    "    newstring=\"\"\n",
    "    for num in nums:\n",
    "        newstring+=str(num)\n",
    "    print(newstring)\n",
    "    \n",
    "    newstring = list(newstring)\n",
    "    newstring.sort(reverse=True)\n",
    "    print(newstring)\n",
    "    num = \"\".join(newstring)\n",
    "    print(num)\n",
    "    num = int(num)\n",
    "    print(num, type(num))\n",
    "largest_number([3, 30, 34, 5, 9, 2453,88888,9813])\n"
   ],
   "id": "29edafea05a7dd9e",
   "outputs": [
    {
     "name": "stdout",
     "output_type": "stream",
     "text": [
      "33034592453888889813\n",
      "['9', '9', '8', '8', '8', '8', '8', '8', '5', '5', '4', '4', '3', '3', '3', '3', '3', '2', '1', '0']\n",
      "99888888554433333210\n",
      "99888888554433333210 <class 'int'>\n"
     ]
    }
   ],
   "execution_count": 129
  },
  {
   "metadata": {
    "ExecuteTime": {
     "end_time": "2024-11-25T12:50:18.162106Z",
     "start_time": "2024-11-25T12:50:18.156721Z"
    }
   },
   "cell_type": "code",
   "source": [
    "def listofnum(nums):\n",
    "    newnum = []\n",
    "    for num in nums:\n",
    "        newnum.append(str(num))\n",
    "        \n",
    "    newnum.sort(reverse=True)\n",
    "    print(newnum)\n",
    "    newstring =\"\"\n",
    "    n = len(newnum)\n",
    "    for item in newnum:\n",
    "        for char in item:\n",
    "            print(item, char)\n",
    "            if item==char:\n",
    "                newstring+=char\n",
    "                break\n",
    "            \n",
    "                \n",
    "                \n",
    "                \n",
    "            \n",
    "                \n",
    "        print('----')\n",
    "        print(newstring)\n",
    "        \n",
    "            \n",
    "                \n",
    "    \n",
    "listofnum([3, 30, 34, 5, 9])"
   ],
   "id": "1d3b2726060dcb6a",
   "outputs": [
    {
     "name": "stdout",
     "output_type": "stream",
     "text": [
      "['9', '5', '34', '30', '3']\n",
      "9 9\n",
      "----\n",
      "9\n",
      "5 5\n",
      "----\n",
      "95\n",
      "34 3\n",
      "34 4\n",
      "----\n",
      "95\n",
      "30 3\n",
      "30 0\n",
      "----\n",
      "95\n",
      "3 3\n",
      "----\n",
      "953\n"
     ]
    }
   ],
   "execution_count": 142
  },
  {
   "metadata": {},
   "cell_type": "code",
   "outputs": [],
   "execution_count": null,
   "source": [
    "listofnum([3, 30, 34, 5, 9, 100])\n",
    "### 9634330100\n",
    "\n",
    "[9, 5,34,3,30, 100]\n"
   ],
   "id": "26c4f11fb55a20f7"
  },
  {
   "metadata": {
    "ExecuteTime": {
     "end_time": "2024-11-25T13:03:03.892153Z",
     "start_time": "2024-11-25T13:03:03.883509Z"
    }
   },
   "cell_type": "code",
   "source": [
    "def listofnum(nums):\n",
    "    newnums = []\n",
    "    # convert to list of strings \n",
    "    for num in nums:\n",
    "        newnums.append(str(num))\n",
    "        \n",
    "    n = len(newnums)\n",
    "    for i in range(n):\n",
    "        ## I need to compare the number with all number in the list --> my own compare \n",
    "        for j in range(n-i-1):\n",
    "            print(newnums[j], newnums[j+1])\n",
    "            # 30+3 = 303 < 3+30 = 330\n",
    "            if newnums[j] + newnums[j+1] < newnums[j+1] + newnums[j]:\n",
    "                temp = newnums[j] \n",
    "                newnums[j] = newnums[j+1]\n",
    "                newnums[j+1] = temp\n",
    "            \n",
    "            \n",
    "        print(newnums)\n",
    "        \n",
    "        res  =''.join(newnums)\n",
    "        print(res)\n",
    "                \n",
    "    \n",
    "\n",
    "listofnum([3, 30, 34, 5, 9, 100, 33, 100, 9 , 5])      \n",
    "    "
   ],
   "id": "dba9921b50c55d89",
   "outputs": [
    {
     "name": "stdout",
     "output_type": "stream",
     "text": [
      "3 30\n",
      "30 34\n",
      "30 5\n",
      "30 9\n",
      "30 100\n",
      "100 33\n",
      "100 100\n",
      "100 9\n",
      "100 5\n",
      "['3', '34', '5', '9', '30', '33', '100', '9', '5', '100']\n",
      "33459303310095100\n",
      "3 34\n",
      "3 5\n",
      "3 9\n",
      "3 30\n",
      "30 33\n",
      "30 100\n",
      "100 9\n",
      "100 5\n",
      "['34', '5', '9', '3', '33', '30', '9', '5', '100', '100']\n",
      "34593333095100100\n",
      "34 5\n",
      "34 9\n",
      "34 3\n",
      "3 33\n",
      "33 30\n",
      "30 9\n",
      "30 5\n",
      "['5', '9', '34', '3', '33', '9', '5', '30', '100', '100']\n",
      "59343339530100100\n",
      "5 9\n",
      "5 34\n",
      "34 3\n",
      "3 33\n",
      "33 9\n",
      "33 5\n",
      "['9', '5', '34', '3', '9', '5', '33', '30', '100', '100']\n",
      "95343953330100100\n",
      "9 5\n",
      "5 34\n",
      "34 3\n",
      "3 9\n",
      "3 5\n",
      "['9', '5', '34', '9', '5', '3', '33', '30', '100', '100']\n",
      "95349533330100100\n",
      "9 5\n",
      "5 34\n",
      "34 9\n",
      "34 5\n",
      "['9', '5', '9', '5', '34', '3', '33', '30', '100', '100']\n",
      "95953433330100100\n",
      "9 5\n",
      "5 9\n",
      "5 5\n",
      "['9', '9', '5', '5', '34', '3', '33', '30', '100', '100']\n",
      "99553433330100100\n",
      "9 9\n",
      "9 5\n",
      "['9', '9', '5', '5', '34', '3', '33', '30', '100', '100']\n",
      "99553433330100100\n",
      "9 9\n",
      "['9', '9', '5', '5', '34', '3', '33', '30', '100', '100']\n",
      "99553433330100100\n",
      "['9', '9', '5', '5', '34', '3', '33', '30', '100', '100']\n",
      "99553433330100100\n"
     ]
    }
   ],
   "execution_count": 151
  },
  {
   "metadata": {},
   "cell_type": "markdown",
   "source": [
    "# problem 9 \n",
    "<pre> \n",
    "Write a function count_inversions(nums) to count how many inversions are in the array. An inversion occurs if nums[i] > nums[j] for i < j\n",
    "\n",
    "Example\n",
    "nums = [2, 4, 1, 3, 5]\n",
    "\n",
    "Output:3  # Pairs: (2, 1), (4, 1), (4, 3)\n",
    "\n",
    "</pre> "
   ],
   "id": "d9c8e5bc7ee1429e"
  },
  {
   "metadata": {
    "ExecuteTime": {
     "end_time": "2024-11-25T13:09:16.073007Z",
     "start_time": "2024-11-25T13:09:16.066068Z"
    }
   },
   "cell_type": "code",
   "source": [
    "def count_inversions(nums):\n",
    "    print(nums)\n",
    "    newl = []\n",
    "    for index in range(len(nums)):\n",
    "        item = nums[index]\n",
    "        for i in range(index+1, len(nums)):\n",
    "            if item >  nums[i]:\n",
    "                newl.append((item, nums[i]))\n",
    "\n",
    "\n",
    "    print(newl)\n",
    "            \n",
    "        \n",
    "        \n",
    "count_inversions([2, 4, 1, 3, 5])"
   ],
   "id": "55eaa00a8f9df60f",
   "outputs": [
    {
     "name": "stdout",
     "output_type": "stream",
     "text": [
      "[2, 4, 1, 3, 5]\n",
      "[(2, 1), (4, 1), (4, 3)]\n"
     ]
    }
   ],
   "execution_count": 155
  },
  {
   "metadata": {},
   "cell_type": "markdown",
   "source": "",
   "id": "4f781e02757af280"
  }
 ],
 "metadata": {
  "kernelspec": {
   "display_name": "Python 3",
   "language": "python",
   "name": "python3"
  },
  "language_info": {
   "codemirror_mode": {
    "name": "ipython",
    "version": 2
   },
   "file_extension": ".py",
   "mimetype": "text/x-python",
   "name": "python",
   "nbconvert_exporter": "python",
   "pygments_lexer": "ipython2",
   "version": "2.7.6"
  }
 },
 "nbformat": 4,
 "nbformat_minor": 5
}
