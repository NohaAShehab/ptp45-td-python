{
 "cells": [
  {
   "metadata": {},
   "cell_type": "markdown",
   "source": "# 1- define a list ",
   "id": "2735883fdfae71e4"
  },
  {
   "metadata": {},
   "cell_type": "code",
   "source": [
    "l = []\n",
    "\n",
    "myl =  list()\n",
    "\n",
    "print(l)\n",
    "print(myl)"
   ],
   "id": "31ef4fde1a059fc4",
   "outputs": [],
   "execution_count": null
  },
  {
   "metadata": {},
   "cell_type": "code",
   "source": [
    "if l:\n",
    "    print(\"found\")\n",
    "else:\n",
    "    print(\"not found \")"
   ],
   "id": "92a14b590f879ce9",
   "outputs": [],
   "execution_count": null
  },
  {
   "metadata": {},
   "cell_type": "markdown",
   "source": "# list can hold different values from different datatypes ",
   "id": "6455d43f4b2b68db"
  },
  {
   "metadata": {},
   "cell_type": "code",
   "source": [
    "myl = [\"Ahmed\", True, 344.233, 4+5j , None , \"iti\", ['3dmodeling', \"English\", 'softskills'], 4234]\n",
    "\n",
    "print(myl)"
   ],
   "id": "a099b014f8b051f7",
   "outputs": [],
   "execution_count": null
  },
  {
   "metadata": {},
   "cell_type": "markdown",
   "source": "# access list elements using index ",
   "id": "e029ad6fd8422064"
  },
  {
   "metadata": {},
   "cell_type": "code",
   "source": "print(myl[5])",
   "id": "7d7a291e82bfb365",
   "outputs": [],
   "execution_count": null
  },
  {
   "metadata": {},
   "cell_type": "code",
   "source": "print(myl[6][1])",
   "id": "9e727ccf7d9986be",
   "outputs": [],
   "execution_count": null
  },
  {
   "metadata": {},
   "cell_type": "markdown",
   "source": "# get len of the list ",
   "id": "ab5dc735d0dff25"
  },
  {
   "metadata": {},
   "cell_type": "code",
   "source": "print(len(myl))",
   "id": "b4f43adc7bf953c3",
   "outputs": [],
   "execution_count": null
  },
  {
   "metadata": {},
   "cell_type": "markdown",
   "source": "",
   "id": "a58d7da73a1391e3"
  },
  {
   "metadata": {},
   "cell_type": "code",
   "source": "print(myl[::-1])  # return new list reversed",
   "id": "40af5c9f2a203191",
   "outputs": [],
   "execution_count": null
  },
  {
   "metadata": {},
   "cell_type": "markdown",
   "source": "# count element occurrence ",
   "id": "1318fc073037fe0f"
  },
  {
   "metadata": {},
   "cell_type": "code",
   "source": "print(myl.count(\"iti\"))",
   "id": "e94532efa9b1032a",
   "outputs": [],
   "execution_count": null
  },
  {
   "metadata": {},
   "cell_type": "markdown",
   "source": "# check if element exists in list ? ",
   "id": "ed1f818861771ee5"
  },
  {
   "metadata": {},
   "cell_type": "code",
   "source": "print(\"noha\" in myl)",
   "id": "8442f80128f81eb2",
   "outputs": [],
   "execution_count": null
  },
  {
   "metadata": {},
   "cell_type": "code",
   "source": "print(myl.count(\"noha\"))",
   "id": "837786ac39b43796",
   "outputs": [],
   "execution_count": null
  },
  {
   "metadata": {},
   "cell_type": "markdown",
   "source": "# get index of element ?",
   "id": "f7ccbb8c4012fa22"
  },
  {
   "metadata": {},
   "cell_type": "code",
   "source": "print(myl.index(\"iti\"))",
   "id": "28d4b8c873da8c58",
   "outputs": [],
   "execution_count": null
  },
  {
   "metadata": {},
   "cell_type": "code",
   "source": [
    "# string example \n",
    "name = \"ahmed\"\n",
    "print(name.index(\"e\"))"
   ],
   "id": "8c7f6af95d1e69d",
   "outputs": [],
   "execution_count": null
  },
  {
   "metadata": {},
   "cell_type": "code",
   "source": "newl = [\"iti\",\"ahmed\", \"abbass\", 3034, \"iti\", 3123, \"iti\" ]",
   "id": "f861bd7bd72345b0",
   "outputs": [],
   "execution_count": null
  },
  {
   "metadata": {},
   "cell_type": "code",
   "source": "print(newl)",
   "id": "d9643f8fdc995083",
   "outputs": [],
   "execution_count": null
  },
  {
   "metadata": {},
   "cell_type": "code",
   "source": "print(newl.index(\"iti\")) # return with the index of the first occurrence of the element. ",
   "id": "f7c0dd8b6799a9c3",
   "outputs": [],
   "execution_count": null
  },
  {
   "metadata": {},
   "cell_type": "markdown",
   "source": "# iterate over the list items using for-loop",
   "id": "5e1b7ae491e29122"
  },
  {
   "metadata": {},
   "cell_type": "code",
   "source": [
    "for element in myl:\n",
    "    print(f\"Element =  {element}\")"
   ],
   "id": "acfd016cb8df4383",
   "outputs": [],
   "execution_count": null
  },
  {
   "metadata": {},
   "cell_type": "markdown",
   "source": "# display element and its index ? \n",
   "id": "28dbc0093b43d0d4"
  },
  {
   "metadata": {},
   "cell_type": "code",
   "source": [
    "item_index = 0 \n",
    "for element in myl:\n",
    "    print(f'Element = {element}: index = {item_index}')\n",
    "    item_index += 1"
   ],
   "id": "3b74c0d970669cc2",
   "outputs": [],
   "execution_count": null
  },
  {
   "metadata": {},
   "cell_type": "code",
   "source": [
    "for item in myl:\n",
    "    print(f\"item = {item}, index = {myl.index(item)}\")"
   ],
   "id": "36f4f68e2d7868e5",
   "outputs": [],
   "execution_count": null
  },
  {
   "metadata": {},
   "cell_type": "code",
   "source": "print(newl)",
   "id": "b1e7396a533010f8",
   "outputs": [],
   "execution_count": null
  },
  {
   "metadata": {},
   "cell_type": "code",
   "source": [
    "for n in newl:\n",
    "    print(f\"{n}, index = {newl.index(n)}\")\n",
    "    # ignore repeated elements."
   ],
   "id": "950839aac37399fa",
   "outputs": [],
   "execution_count": null
  },
  {
   "metadata": {},
   "cell_type": "code",
   "source": [
    "for ss in newl:\n",
    "    print(f\"ss = {ss}\")"
   ],
   "id": "f42a246cf9968083",
   "outputs": [],
   "execution_count": null
  },
  {
   "metadata": {},
   "cell_type": "markdown",
   "source": "# list is mutable data type ? ---> can be changed after creation. ",
   "id": "7616a55cc13d43e1"
  },
  {
   "metadata": {},
   "cell_type": "code",
   "source": "print(myl)",
   "id": "878d21e50328aa8f",
   "outputs": [],
   "execution_count": null
  },
  {
   "metadata": {},
   "cell_type": "markdown",
   "source": "# you can access element using index --> start from 0 ?? ",
   "id": "90b46b4156f2b3ee"
  },
  {
   "metadata": {},
   "cell_type": "code",
   "source": "print(myl[5])",
   "id": "afbb2d512bdf2148",
   "outputs": [],
   "execution_count": null
  },
  {
   "metadata": {},
   "cell_type": "code",
   "source": [
    "print(myl)\n",
    "myl[5]=\"updated\"\n",
    "print(myl)"
   ],
   "id": "af04f3245e14c85",
   "outputs": [],
   "execution_count": null
  },
  {
   "metadata": {},
   "cell_type": "code",
   "source": "myl[100]=\"updated element\" # runtime error  # list assignment index out of range",
   "id": "e9b28fedc5baa6d4",
   "outputs": [],
   "execution_count": null
  },
  {
   "metadata": {},
   "cell_type": "markdown",
   "source": "# adding elements to the list ",
   "id": "aa8513297135b7f5"
  },
  {
   "metadata": {},
   "cell_type": "code",
   "source": [
    "# append \n",
    "print(myl)\n",
    "myl.append('new element appended ')  # append element to the end of the list \n",
    "print(myl)"
   ],
   "id": "5eb8e7ec98940095",
   "outputs": [],
   "execution_count": null
  },
  {
   "metadata": {},
   "cell_type": "code",
   "source": [
    "# insert ---> insert(index, item) put item at the given index ??\n",
    "print(myl)\n",
    "myl.insert(4, \"inserted\")\n",
    "print(myl)"
   ],
   "id": "a2fcf8cc3a22949f",
   "outputs": [],
   "execution_count": null
  },
  {
   "metadata": {},
   "cell_type": "code",
   "source": [
    "myl.insert(100, \"Abbasss\")  # if index doesn't exists ? --> append it to the end the list \n",
    "print(myl)"
   ],
   "id": "a6a38d6a2d116600",
   "outputs": [],
   "execution_count": null
  },
  {
   "metadata": {},
   "cell_type": "markdown",
   "source": "# remove elements from the list ??",
   "id": "ab49bb70d5d7d0ca"
  },
  {
   "metadata": {},
   "cell_type": "code",
   "source": [
    "# 1- pop ---> remove element from the end of the list (pop the last element)\n",
    "print(myl)\n",
    "popped_element = myl.pop()  # return with popped element \n",
    "print(myl)\n",
    "print(popped_element)"
   ],
   "id": "15480b1e6ecce275",
   "outputs": [],
   "execution_count": null
  },
  {
   "metadata": {},
   "cell_type": "code",
   "source": [
    "# remove element at certain index ??\n",
    "print(myl)\n",
    "popped_element=myl.pop(4)\n",
    "print(myl)\n",
    "print(popped_element)"
   ],
   "id": "9a12447ceeea7e78",
   "outputs": [],
   "execution_count": null
  },
  {
   "metadata": {},
   "cell_type": "code",
   "source": [
    "myl.append(\"\")\n",
    "print(myl)"
   ],
   "id": "14fe02ae6240970e",
   "outputs": [],
   "execution_count": null
  },
  {
   "metadata": {},
   "cell_type": "markdown",
   "source": "",
   "id": "f00cb37d344cac2f"
  },
  {
   "metadata": {},
   "cell_type": "code",
   "source": [
    "# I know the element I need to remove ?? \n",
    "# remove \n",
    "print(myl)\n",
    "myl.remove(344.233)\n",
    "print(myl)"
   ],
   "id": "bfa65d60797a415c",
   "outputs": [],
   "execution_count": null
  },
  {
   "metadata": {},
   "cell_type": "code",
   "source": "print(newl)",
   "id": "a28d9b4e7a5493c8",
   "outputs": [],
   "execution_count": null
  },
  {
   "metadata": {},
   "cell_type": "code",
   "source": [
    "newl.remove(\"iti\") # remove first occurrence of the element\n",
    "print(newl)"
   ],
   "id": "196530fef1366f81",
   "outputs": [],
   "execution_count": null
  },
  {
   "metadata": {},
   "cell_type": "markdown",
   "source": "",
   "id": "65e6dbcaab87b739"
  },
  {
   "metadata": {},
   "cell_type": "code",
   "source": [
    "# remove all elements --> \"iti\" \n",
    "for item in newl:\n",
    "    if item=='iti':\n",
    "        newl.remove(item)\n",
    "        \n",
    "print(newl )"
   ],
   "id": "a6f3a32f08d1bf4e",
   "outputs": [],
   "execution_count": null
  },
  {
   "metadata": {},
   "cell_type": "code",
   "source": [
    "newl2 = [\"iti\", \"abc\", \"iti\", \"mdms\", \"iti\", \"rrr\", \"iti\"]\n",
    "print(newl2)\n"
   ],
   "id": "4d5761a1a3f5a0a8",
   "outputs": [],
   "execution_count": null
  },
  {
   "metadata": {},
   "cell_type": "code",
   "source": [
    "# use while?\n",
    "# 1- get count(\"iti\")\n",
    "no_of_items = newl2.count(\"iti\")  # 4\n",
    "while no_of_items > 0:\n",
    "    newl2.remove(\"iti\")\n",
    "    no_of_items -= 1\n",
    "\n",
    "print(newl2)"
   ],
   "id": "82e54aa85803e253",
   "outputs": [],
   "execution_count": null
  },
  {
   "metadata": {},
   "cell_type": "code",
   "source": [
    "newl2= ['iti', 'abc', 'iti', 'mdms', 'iti', 'rrr', 'iti']\n",
    "no_of_items = newl2.count(\"iti\")  # 4\n",
    "while no_of_items > 0:\n",
    "    newl2.remove(\"iti\")\n",
    "    no_of_items = newl2.count(\"iti\")\n",
    "\n",
    "print(newl2)"
   ],
   "id": "25733d9d87003007",
   "outputs": [],
   "execution_count": null
  },
  {
   "metadata": {},
   "cell_type": "markdown",
   "source": "# Concat list ?",
   "id": "1a0b1777f79df025"
  },
  {
   "metadata": {},
   "cell_type": "code",
   "source": [
    "l1 =[\"Ahmed\", 'iti', \"TD\", \"ABC\", \"mm\", \"ss\", 2323, True , 35355]\n",
    "l2 = [\"test\", \"kiwi\", \"strawberry\", \"Orange\", 3423, 132124,23435]\n",
    "# use + operator \n",
    "\n",
    "l3 = l1 + l2   # return new list \n",
    "print(l3)"
   ],
   "id": "e00b802365f88d89",
   "outputs": [],
   "execution_count": null
  },
  {
   "metadata": {},
   "cell_type": "code",
   "source": [
    "# extend list content\n",
    "fruits= [\"kiwi\", \"orange\", \"strawberry\", \"banana\", \"Orange2\", \"Tomato\"]\n",
    "vegetables = [\"Watermelon\", \"carrot\", 'Gargeer', 'Botato', 'onions', 'eggplant']\n",
    "\n",
    "fruits.extend(vegetables)\n",
    "\n",
    "print(fruits)  # extend the fruits list content with the other vegetables content \n",
    "\n"
   ],
   "id": "e0e49f01688fdf27",
   "outputs": [],
   "execution_count": null
  },
  {
   "metadata": {},
   "cell_type": "markdown",
   "source": "# Sort the list items ",
   "id": "e272c4a67961ca49"
  },
  {
   "metadata": {},
   "cell_type": "code",
   "source": [
    "std_names = [\"AbdelKader\", \"Moaz\", \"Hasnaa\", \"Nardeen\", 'ola', 'sayed', 'mostafa']\n",
    "print(std_names)"
   ],
   "id": "4b945ad3feafac74",
   "outputs": [],
   "execution_count": null
  },
  {
   "metadata": {},
   "cell_type": "code",
   "source": [
    "std_names.sort()  # sort elements in the list alphapitcal ,\n",
    "# sort the elements in the same variable\n",
    "print(std_names)    "
   ],
   "id": "b118ed510ac135db",
   "outputs": [],
   "execution_count": null
  },
  {
   "metadata": {},
   "cell_type": "code",
   "source": [
    "infooo = [\"noha\", \"iti\", 32, True, 28.4]\n",
    "print(infooo)"
   ],
   "id": "9d3e38319b5227cb",
   "outputs": [],
   "execution_count": null
  },
  {
   "metadata": {},
   "cell_type": "code",
   "source": [
    "infooo.sort()  # sorting in python --> list elements must be from the same type \n",
    "# using < , > is not supported between instances from different datatypes "
   ],
   "id": "d974186c61467e0b",
   "outputs": [],
   "execution_count": null
  },
  {
   "metadata": {},
   "cell_type": "code",
   "source": "# user define functions for sorting --> define function to sort . ",
   "id": "b9a4d3a5ab8eb83",
   "outputs": [],
   "execution_count": null
  },
  {
   "metadata": {},
   "cell_type": "code",
   "source": [
    "std_names = [\"AbdelKader\", \"Moaz\", \"Hasnaa\", \"Nardeen\", 'ola', 'sayed', 'mostafa','abanoub']\n",
    "std_names.sort(reverse=True)\n",
    "print(std_names)  # still in the same variable \n"
   ],
   "id": "cb8653021e605375",
   "outputs": [],
   "execution_count": null
  },
  {
   "metadata": {},
   "cell_type": "markdown",
   "source": "# reverse a list >??\n",
   "id": "bcf7f11f1263af71"
  },
  {
   "metadata": {},
   "cell_type": "code",
   "source": "print(myl)",
   "id": "e23c81844cff42f9",
   "outputs": [],
   "execution_count": null
  },
  {
   "metadata": {},
   "cell_type": "code",
   "source": [
    "myl.reverse()\n",
    "print(myl)"
   ],
   "id": "bc309545d179da82",
   "outputs": [],
   "execution_count": null
  },
  {
   "metadata": {},
   "cell_type": "markdown",
   "source": "# tips ",
   "id": "736574647ae8a604"
  },
  {
   "metadata": {},
   "cell_type": "code",
   "source": [
    "# num = 10\n",
    "# num = str(num)\n",
    "# cast string to a list ?\n",
    "name = 'noha'\n",
    "name = list(name)\n",
    "print(name)\n",
    "\n",
    "# [\"noha\"] ,  [\"n\", \"o\", \"h\", \"a\"] , [noha] , ['name'], [name]"
   ],
   "id": "1a777a0d8d6fbbcf",
   "outputs": [],
   "execution_count": null
  },
  {
   "metadata": {},
   "cell_type": "code",
   "source": [
    "num = 100 \n",
    "num = list(num)\n",
    "print(num) # TypeError: 'int' object is not iterable"
   ],
   "id": "2fa8c31969664036",
   "outputs": [],
   "execution_count": null
  },
  {
   "metadata": {},
   "cell_type": "markdown",
   "source": "# check this ",
   "id": "9171ae8a8f7f5fcf"
  },
  {
   "metadata": {
    "ExecuteTime": {
     "end_time": "2024-11-07T09:36:17.166488Z",
     "start_time": "2024-11-07T09:36:17.159816Z"
    }
   },
   "cell_type": "code",
   "source": [
    "message = \"My name is Noha Iam working at ITI\" # string \n",
    "# reassign to the output of the list.\n",
    "message = message.split(\" \") \n",
    "print(message, type(message)) # return with list of strings -->"
   ],
   "id": "8ce6b1cdbb8b31bc",
   "outputs": [
    {
     "name": "stdout",
     "output_type": "stream",
     "text": [
      "['My', 'name', 'is', 'Noha', 'Iam', 'working', 'at', 'ITI'] <class 'list'>\n"
     ]
    }
   ],
   "execution_count": 67
  },
  {
   "metadata": {
    "ExecuteTime": {
     "end_time": "2024-11-07T09:44:07.961511Z",
     "start_time": "2024-11-07T09:44:07.950344Z"
    }
   },
   "cell_type": "code",
   "source": [
    "\n",
    "## join \n",
    "\n",
    "newstring = '_'.join(message) # message is a list \n",
    "print(newstring)  # merge list items with _"
   ],
   "id": "183ec5cefcf63c68",
   "outputs": [
    {
     "name": "stdout",
     "output_type": "stream",
     "text": [
      "My_name_is_Noha_Iam_working_at_ITI\n"
     ]
    }
   ],
   "execution_count": 74
  },
  {
   "metadata": {
    "ExecuteTime": {
     "end_time": "2024-11-07T09:31:34.899142Z",
     "start_time": "2024-11-07T09:31:34.894971Z"
    }
   },
   "cell_type": "code",
   "source": [
    "outstirng = \"\"\n",
    "for word in message:\n",
    "    outstirng += word \n",
    "    outstirng += \"_\"\n",
    "\n",
    "print(outstirng)\n",
    "outstirng = outstirng.strip(\"_\")\n",
    "print(outstirng)\n",
    "    "
   ],
   "id": "5993b9b0ad1255c9",
   "outputs": [
    {
     "name": "stdout",
     "output_type": "stream",
     "text": [
      "My_name_is_Noha_Iam_working_at_ITI_\n",
      "My_name_is_Noha_Iam_working_at_ITI\n"
     ]
    }
   ],
   "execution_count": 61
  },
  {
   "metadata": {
    "ExecuteTime": {
     "end_time": "2024-11-07T09:37:14.503746Z",
     "start_time": "2024-11-07T09:37:14.498766Z"
    }
   },
   "cell_type": "code",
   "source": [
    "nums = [3,45,624,222,34,444]\n",
    "print(nums)"
   ],
   "id": "fd066505afa7ce13",
   "outputs": [
    {
     "name": "stdout",
     "output_type": "stream",
     "text": [
      "[3, 45, 624, 222, 34, 444]\n"
     ]
    }
   ],
   "execution_count": 68
  },
  {
   "metadata": {
    "ExecuteTime": {
     "end_time": "2024-11-07T09:42:13.502324Z",
     "start_time": "2024-11-07T09:42:13.483685Z"
    }
   },
   "cell_type": "code",
   "source": [
    "### \n",
    "\n",
    "\n",
    "outstring = ''\n",
    "string_parts = ['My', 'name', 'is', 'Noha', 'Iam', 'working', 'at', 'ITI', \"name\", \"is\"]\n",
    "for word in string_parts:\n",
    "    outstring += word\n",
    "    if string_parts.index(word) < len(string_parts)-1:\n",
    "        outstring += \"_\"\n",
    "        \n",
    "print(outstring)\n",
    "\n",
    "## My_name_is_Noha"
   ],
   "id": "b98ea118e0476dc0",
   "outputs": [
    {
     "name": "stdout",
     "output_type": "stream",
     "text": [
      "My_name_is_Noha_Iam_working_at_ITI_name_is_\n"
     ]
    }
   ],
   "execution_count": 72
  },
  {
   "metadata": {
    "ExecuteTime": {
     "end_time": "2024-11-07T09:46:54.729411Z",
     "start_time": "2024-11-07T09:46:54.721580Z"
    }
   },
   "cell_type": "code",
   "source": [
    "custommessage= \"weneedthebreak\"\n",
    "newmessage='_'.join(custommessage)  # join 00> accept iterable \n",
    "print(newmessage)\n"
   ],
   "id": "e30f71cbe80cb70e",
   "outputs": [
    {
     "name": "stdout",
     "output_type": "stream",
     "text": [
      "w_e_n_e_e_d_t_h_e_b_r_e_a_k\n"
     ]
    }
   ],
   "execution_count": 75
  },
  {
   "metadata": {
    "ExecuteTime": {
     "end_time": "2024-11-07T09:51:31.292300Z",
     "start_time": "2024-11-07T09:51:31.286694Z"
    }
   },
   "cell_type": "code",
   "source": [
    "dataaa = [\"ahmed\", \"noha\", 23, \"iti\", \"abc\",True]\n",
    "print(dataaa)"
   ],
   "id": "6d48c35bfd7fc67d",
   "outputs": [
    {
     "name": "stdout",
     "output_type": "stream",
     "text": [
      "['ahmed', 'noha', 23, 'iti', 'abc', True]\n"
     ]
    }
   ],
   "execution_count": 76
  },
  {
   "metadata": {
    "ExecuteTime": {
     "end_time": "2024-11-07T09:51:55.800292Z",
     "start_time": "2024-11-07T09:51:55.779783Z"
    }
   },
   "cell_type": "code",
   "source": [
    "res  = \"_\".join(dataaa)  # dataa items must be strings \n",
    "print(res)"
   ],
   "id": "71ca7b3fa39aa6ba",
   "outputs": [
    {
     "ename": "TypeError",
     "evalue": "sequence item 2: expected str instance, int found",
     "output_type": "error",
     "traceback": [
      "\u001B[0;31m---------------------------------------------------------------------------\u001B[0m",
      "\u001B[0;31mTypeError\u001B[0m                                 Traceback (most recent call last)",
      "Cell \u001B[0;32mIn[77], line 1\u001B[0m\n\u001B[0;32m----> 1\u001B[0m res  \u001B[38;5;241m=\u001B[39m \u001B[38;5;124;43m\"\u001B[39;49m\u001B[38;5;124;43m_\u001B[39;49m\u001B[38;5;124;43m\"\u001B[39;49m\u001B[38;5;241;43m.\u001B[39;49m\u001B[43mjoin\u001B[49m\u001B[43m(\u001B[49m\u001B[43mdataaa\u001B[49m\u001B[43m)\u001B[49m\n\u001B[1;32m      2\u001B[0m \u001B[38;5;28mprint\u001B[39m(res)\n",
      "\u001B[0;31mTypeError\u001B[0m: sequence item 2: expected str instance, int found"
     ]
    }
   ],
   "execution_count": 77
  },
  {
   "metadata": {},
   "cell_type": "markdown",
   "source": "# join \"_\".join(items) ---> items (iterable) must be consists of only strings ",
   "id": "171160ad27f597d8"
  },
  {
   "metadata": {},
   "cell_type": "code",
   "outputs": [],
   "execution_count": null,
   "source": "",
   "id": "f0233410f01d061"
  }
 ],
 "metadata": {
  "kernelspec": {
   "display_name": "Python 3",
   "language": "python",
   "name": "python3"
  },
  "language_info": {
   "codemirror_mode": {
    "name": "ipython",
    "version": 2
   },
   "file_extension": ".py",
   "mimetype": "text/x-python",
   "name": "python",
   "nbconvert_exporter": "python",
   "pygments_lexer": "ipython2",
   "version": "2.7.6"
  }
 },
 "nbformat": 4,
 "nbformat_minor": 5
}
