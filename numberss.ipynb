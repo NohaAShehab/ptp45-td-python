{
 "cells": [
  {
   "cell_type": "code",
   "id": "initial_id",
   "metadata": {
    "collapsed": true,
    "ExecuteTime": {
     "end_time": "2024-11-05T09:03:10.565654Z",
     "start_time": "2024-11-05T09:03:10.560806Z"
    }
   },
   "source": "print('hi')",
   "outputs": [
    {
     "name": "stdout",
     "output_type": "stream",
     "text": [
      "hi\n"
     ]
    }
   ],
   "execution_count": 1
  },
  {
   "metadata": {
    "ExecuteTime": {
     "end_time": "2024-11-05T09:03:38.532806Z",
     "start_time": "2024-11-05T09:03:38.528613Z"
    }
   },
   "cell_type": "code",
   "source": [
    "import  sys\n",
    "print(sys.getsizeof(10))"
   ],
   "id": "e6a8d133c7cf1213",
   "outputs": [
    {
     "name": "stdout",
     "output_type": "stream",
     "text": [
      "28\n"
     ]
    }
   ],
   "execution_count": 2
  },
  {
   "metadata": {
    "ExecuteTime": {
     "end_time": "2024-11-05T09:06:02.216396Z",
     "start_time": "2024-11-05T09:06:02.211473Z"
    }
   },
   "cell_type": "code",
   "source": [
    "num = 10\n",
    "print(num, type(num))"
   ],
   "id": "17a7fab8fcfc0ed0",
   "outputs": [
    {
     "name": "stdout",
     "output_type": "stream",
     "text": [
      "10 <class 'int'>\n"
     ]
    }
   ],
   "execution_count": 3
  },
  {
   "metadata": {
    "ExecuteTime": {
     "end_time": "2024-11-05T09:06:16.543650Z",
     "start_time": "2024-11-05T09:06:16.530173Z"
    }
   },
   "cell_type": "code",
   "source": [
    "fnumber = 4.55\n",
    "print(fnumber, type(fnumber))"
   ],
   "id": "455f2925172c6ac6",
   "outputs": [
    {
     "name": "stdout",
     "output_type": "stream",
     "text": [
      "4.55 <class 'float'>\n"
     ]
    }
   ],
   "execution_count": 4
  },
  {
   "metadata": {
    "ExecuteTime": {
     "end_time": "2024-11-05T09:06:36.126393Z",
     "start_time": "2024-11-05T09:06:36.114199Z"
    }
   },
   "cell_type": "code",
   "source": [
    "# complex number \n",
    "mycomplex = 3 + 5j\n",
    "print(mycomplex, type(mycomplex))"
   ],
   "id": "284069de5c062dc0",
   "outputs": [
    {
     "name": "stdout",
     "output_type": "stream",
     "text": [
      "(3+5j) <class 'complex'>\n"
     ]
    }
   ],
   "execution_count": 5
  },
  {
   "metadata": {},
   "cell_type": "markdown",
   "source": "# min function ",
   "id": "3632747fcd741e34"
  },
  {
   "metadata": {
    "ExecuteTime": {
     "end_time": "2024-11-05T09:11:13.401229Z",
     "start_time": "2024-11-05T09:11:13.383555Z"
    }
   },
   "cell_type": "code",
   "source": [
    "num1 =10\n",
    "num2 = -102\n",
    "num3 =24235235\n",
    "print(min(num1, num2, num3))\n",
    "print(max(num1, num2, num3))"
   ],
   "id": "57b2730104491b25",
   "outputs": [
    {
     "name": "stdout",
     "output_type": "stream",
     "text": [
      "-102\n",
      "24235235\n"
     ]
    }
   ],
   "execution_count": 10
  },
  {
   "metadata": {
    "ExecuteTime": {
     "end_time": "2024-11-05T09:11:37.981199Z",
     "start_time": "2024-11-05T09:11:37.965481Z"
    }
   },
   "cell_type": "code",
   "source": [
    "testnum = 10.3324\n",
    "print(round(testnum))"
   ],
   "id": "a06d300fec211d6f",
   "outputs": [
    {
     "name": "stdout",
     "output_type": "stream",
     "text": [
      "10\n"
     ]
    }
   ],
   "execution_count": 11
  },
  {
   "metadata": {
    "ExecuteTime": {
     "end_time": "2024-11-05T09:11:57.421531Z",
     "start_time": "2024-11-05T09:11:57.406223Z"
    }
   },
   "cell_type": "code",
   "source": [
    "testnum = 72683.8865\n",
    "print(round(testnum))"
   ],
   "id": "5c7b1c3e90b53a45",
   "outputs": [
    {
     "name": "stdout",
     "output_type": "stream",
     "text": [
      "72684\n"
     ]
    }
   ],
   "execution_count": 12
  },
  {
   "metadata": {
    "ExecuteTime": {
     "end_time": "2024-11-05T09:12:18.448529Z",
     "start_time": "2024-11-05T09:12:18.437187Z"
    }
   },
   "cell_type": "code",
   "source": [
    "testnum = 10.3324\n",
    "print(round(testnum, 2))"
   ],
   "id": "d41a5072a1fc9723",
   "outputs": [
    {
     "name": "stdout",
     "output_type": "stream",
     "text": [
      "10.33\n"
     ]
    }
   ],
   "execution_count": 13
  },
  {
   "metadata": {
    "ExecuteTime": {
     "end_time": "2024-11-05T09:12:47.375746Z",
     "start_time": "2024-11-05T09:12:47.370006Z"
    }
   },
   "cell_type": "code",
   "source": [
    "testnum = 72683.8865\n",
    "print(round(testnum, 2))"
   ],
   "id": "15762fe97cf7a027",
   "outputs": [
    {
     "name": "stdout",
     "output_type": "stream",
     "text": [
      "72683.89\n"
     ]
    }
   ],
   "execution_count": 14
  },
  {
   "metadata": {},
   "cell_type": "markdown",
   "source": "# check this syntax ",
   "id": "1e6438f718e95871"
  },
  {
   "metadata": {
    "ExecuteTime": {
     "end_time": "2024-11-05T09:14:01.797003Z",
     "start_time": "2024-11-05T09:14:01.783359Z"
    }
   },
   "cell_type": "code",
   "source": [
    "a, b , c , d = 10 , 23, 34, 24\n",
    "print(f\"a= {a}, b= {b}, c= {c}, d= {d}\")\n",
    "\n"
   ],
   "id": "85a5bf573dc37bc2",
   "outputs": [
    {
     "name": "stdout",
     "output_type": "stream",
     "text": [
      "a= 10, b= 23, c= 34, d= 24\n"
     ]
    }
   ],
   "execution_count": 15
  },
  {
   "metadata": {
    "ExecuteTime": {
     "end_time": "2024-11-05T09:14:33.960734Z",
     "start_time": "2024-11-05T09:14:33.944193Z"
    }
   },
   "cell_type": "code",
   "source": [
    "name , id = \"noha\", 12\n",
    "print(name, id)"
   ],
   "id": "931ebe38b6148c2f",
   "outputs": [
    {
     "name": "stdout",
     "output_type": "stream",
     "text": [
      "noha 12\n"
     ]
    }
   ],
   "execution_count": 16
  },
  {
   "metadata": {
    "ExecuteTime": {
     "end_time": "2024-11-05T09:16:08.990979Z",
     "start_time": "2024-11-05T09:16:02.134058Z"
    }
   },
   "cell_type": "code",
   "source": [
    "fname, id = input(\"Enter your name: \"), input(\"Enter your id: \")\n",
    "print(f'fname ={fname}')\n",
    "print(f'id ={id}')"
   ],
   "id": "791b7218486806f4",
   "outputs": [
    {
     "name": "stdout",
     "output_type": "stream",
     "text": [
      "fname =noha\n",
      "id =id\n"
     ]
    }
   ],
   "execution_count": 17
  },
  {
   "metadata": {},
   "cell_type": "code",
   "outputs": [],
   "execution_count": null,
   "source": "",
   "id": "3b167bd2513d5da4"
  }
 ],
 "metadata": {
  "kernelspec": {
   "display_name": "Python 3",
   "language": "python",
   "name": "python3"
  },
  "language_info": {
   "codemirror_mode": {
    "name": "ipython",
    "version": 2
   },
   "file_extension": ".py",
   "mimetype": "text/x-python",
   "name": "python",
   "nbconvert_exporter": "python",
   "pygments_lexer": "ipython2",
   "version": "2.7.6"
  }
 },
 "nbformat": 4,
 "nbformat_minor": 5
}
