{
 "cells": [
  {
   "cell_type": "code",
   "id": "initial_id",
   "metadata": {
    "collapsed": true,
    "ExecuteTime": {
     "end_time": "2024-11-09T07:40:24.701234Z",
     "start_time": "2024-11-09T07:40:24.687283Z"
    }
   },
   "source": "print(\"tuples\")",
   "outputs": [
    {
     "name": "stdout",
     "output_type": "stream",
     "text": [
      "tuples\n"
     ]
    }
   ],
   "execution_count": 1
  },
  {
   "metadata": {
    "ExecuteTime": {
     "end_time": "2024-11-09T07:53:13.736425Z",
     "start_time": "2024-11-09T07:53:13.716066Z"
    }
   },
   "cell_type": "code",
   "source": [
    "# generate list of numbers 1 , 10 \n",
    "num = 1 \n",
    "newl = []\n",
    "while num <=10:\n",
    "    newl.append(num)\n",
    "    num +=1 \n",
    "print(newl)"
   ],
   "id": "13c146d7d1bc993e",
   "outputs": [
    {
     "name": "stdout",
     "output_type": "stream",
     "text": [
      "[1, 2, 3, 4, 5, 6, 7, 8, 9, 10]\n"
     ]
    }
   ],
   "execution_count": 2
  },
  {
   "metadata": {},
   "cell_type": "markdown",
   "source": [
    "# Range  \n",
    "# new sequence datatype --> Range "
   ],
   "id": "2dde24c1f6a028ea"
  },
  {
   "metadata": {
    "ExecuteTime": {
     "end_time": "2024-11-09T07:55:31.305746Z",
     "start_time": "2024-11-09T07:55:31.291706Z"
    }
   },
   "cell_type": "code",
   "source": [
    "myr = range(10)\n",
    "print(myr)"
   ],
   "id": "90ee653c60bbc8cc",
   "outputs": [
    {
     "name": "stdout",
     "output_type": "stream",
     "text": [
      "range(0, 10)\n"
     ]
    }
   ],
   "execution_count": 3
  },
  {
   "metadata": {},
   "cell_type": "markdown",
   "source": "# range is iterable ",
   "id": "1af8efb6e201003d"
  },
  {
   "metadata": {
    "ExecuteTime": {
     "end_time": "2024-11-09T07:56:18.040332Z",
     "start_time": "2024-11-09T07:56:18.023969Z"
    }
   },
   "cell_type": "code",
   "source": [
    "for num in myr:  # generate values in range start to stop-1 \n",
    "    print(f\"num = {num}\")"
   ],
   "id": "3c2f1676535e5df3",
   "outputs": [
    {
     "name": "stdout",
     "output_type": "stream",
     "text": [
      "num = 0\n",
      "num = 1\n",
      "num = 2\n",
      "num = 3\n",
      "num = 4\n",
      "num = 5\n",
      "num = 6\n",
      "num = 7\n",
      "num = 8\n",
      "num = 9\n"
     ]
    }
   ],
   "execution_count": 4
  },
  {
   "metadata": {
    "ExecuteTime": {
     "end_time": "2024-11-09T07:58:40.234267Z",
     "start_time": "2024-11-09T07:58:40.217043Z"
    }
   },
   "cell_type": "code",
   "source": [
    "r2 = range(0, 11) # --> 0 , 10 \n",
    "nums_list=  list(r2)\n",
    "print(nums_list)"
   ],
   "id": "caede9f257f2355",
   "outputs": [
    {
     "name": "stdout",
     "output_type": "stream",
     "text": [
      "[0, 1, 2, 3, 4, 5, 6, 7, 8, 9, 10]\n"
     ]
    }
   ],
   "execution_count": 5
  },
  {
   "metadata": {
    "ExecuteTime": {
     "end_time": "2024-11-09T07:59:28.853733Z",
     "start_time": "2024-11-09T07:59:28.834219Z"
    }
   },
   "cell_type": "code",
   "source": "r2.count(2)",
   "id": "bb70251599ebc770",
   "outputs": [
    {
     "data": {
      "text/plain": [
       "1"
      ]
     },
     "execution_count": 7,
     "metadata": {},
     "output_type": "execute_result"
    }
   ],
   "execution_count": 7
  },
  {
   "metadata": {
    "ExecuteTime": {
     "end_time": "2024-11-09T07:59:45.677024Z",
     "start_time": "2024-11-09T07:59:45.667702Z"
    }
   },
   "cell_type": "code",
   "source": "r2.step",
   "id": "dfdb4ab3bb06585f",
   "outputs": [
    {
     "data": {
      "text/plain": [
       "1"
      ]
     },
     "execution_count": 8,
     "metadata": {},
     "output_type": "execute_result"
    }
   ],
   "execution_count": 8
  },
  {
   "metadata": {
    "ExecuteTime": {
     "end_time": "2024-11-09T08:00:17.888714Z",
     "start_time": "2024-11-09T08:00:17.867063Z"
    }
   },
   "cell_type": "code",
   "source": [
    "newr222 = range(3,100, 3)\n",
    "print(list(newr222))"
   ],
   "id": "87d916cbef136f7a",
   "outputs": [
    {
     "name": "stdout",
     "output_type": "stream",
     "text": [
      "[3, 6, 9, 12, 15, 18, 21, 24, 27, 30, 33, 36, 39, 42, 45, 48, 51, 54, 57, 60, 63, 66, 69, 72, 75, 78, 81, 84, 87, 90, 93, 96, 99]\n"
     ]
    }
   ],
   "execution_count": 9
  },
  {
   "metadata": {
    "ExecuteTime": {
     "end_time": "2024-11-09T08:00:39.497163Z",
     "start_time": "2024-11-09T08:00:39.401815Z"
    }
   },
   "cell_type": "code",
   "source": "",
   "id": "d53ef3a7b50e75ce",
   "outputs": [
    {
     "ename": "AttributeError",
     "evalue": "readonly attribute",
     "output_type": "error",
     "traceback": [
      "\u001B[0;31m---------------------------------------------------------------------------\u001B[0m",
      "\u001B[0;31mAttributeError\u001B[0m                            Traceback (most recent call last)",
      "Cell \u001B[0;32mIn[10], line 1\u001B[0m\n\u001B[0;32m----> 1\u001B[0m \u001B[43mnewr222\u001B[49m\u001B[38;5;241;43m.\u001B[39;49m\u001B[43mstep\u001B[49m \u001B[38;5;241m=\u001B[39m \u001B[38;5;241m4\u001B[39m\n",
      "\u001B[0;31mAttributeError\u001B[0m: readonly attribute"
     ]
    }
   ],
   "execution_count": 10
  },
  {
   "metadata": {},
   "cell_type": "code",
   "outputs": [],
   "execution_count": null,
   "source": [
    "stop= input(\"please enter number : \")\n",
    "if stop.isdigit():\n",
    "    stop = int(stop)\n",
    "    newrange=  range(0, stop)\n",
    "    print(newrange)"
   ],
   "id": "8eab3ed4317ed2b0"
  },
  {
   "metadata": {
    "ExecuteTime": {
     "end_time": "2024-11-09T08:04:41.848485Z",
     "start_time": "2024-11-09T08:04:41.831838Z"
    }
   },
   "cell_type": "code",
   "source": [
    "rr = range(0, 5)\n",
    "print(rr)  # range object --> iterable object \n",
    "for n in rr:\n",
    "    print(f\"n={n}\")\n"
   ],
   "id": "1e6414e362985236",
   "outputs": [
    {
     "name": "stdout",
     "output_type": "stream",
     "text": [
      "range(0, 5)\n",
      "n=0\n",
      "n=1\n",
      "n=2\n",
      "n=3\n",
      "n=4\n"
     ]
    }
   ],
   "execution_count": 13
  },
  {
   "metadata": {},
   "cell_type": "markdown",
   "source": "range can be casted to a list ",
   "id": "a75cdf180e8f7a69"
  },
  {
   "metadata": {
    "ExecuteTime": {
     "end_time": "2024-11-09T08:04:59.358386Z",
     "start_time": "2024-11-09T08:04:59.342616Z"
    }
   },
   "cell_type": "code",
   "source": [
    "abbass = list(rr)  # rr is the range \n",
    "# convert rr from range datatype to list datatype \n",
    "print(abbass)   #name of the list \n",
    "# range is immutable datatype \n"
   ],
   "id": "c28478c19df5bbd6",
   "outputs": [
    {
     "name": "stdout",
     "output_type": "stream",
     "text": [
      "[0, 1, 2, 3, 4]\n"
     ]
    }
   ],
   "execution_count": 14
  },
  {
   "metadata": {},
   "cell_type": "markdown",
   "source": "# implement multiplication table using range ",
   "id": "97c4bf828c6efb63"
  },
  {
   "metadata": {},
   "cell_type": "code",
   "outputs": [],
   "execution_count": null,
   "source": [
    "while True:\n",
    "    num = input(\"please enter number : \")\n",
    "    if num.isdigit():\n",
    "        num = int(num)\n",
    "        \n",
    "        \n",
    "        break \n",
    "        \n",
    "    print(\"----- please re-inter \")"
   ],
   "id": "f318cf5c323fa0ee"
  },
  {
   "metadata": {
    "ExecuteTime": {
     "end_time": "2024-11-09T08:15:31.809150Z",
     "start_time": "2024-11-09T08:15:29.631261Z"
    }
   },
   "cell_type": "code",
   "source": [
    "num = input(\"please enter a number: \")\n",
    "while not num.isdigit():\n",
    "    num = input(\"please enter valid number: \")\n",
    "    \n",
    "num = int(num)\n",
    "myrange = range(1, num+1)\n",
    "table = []\n",
    "# print(list(myrange))\n",
    "for i in myrange:\n",
    "    newl= []\n",
    "    print(i)\n",
    "    # i=1 then 1 , i=2 1,2 , i=2 1,2,3 , i=4, 1,2,3,4\n",
    "    ### we need to populate the newl \n",
    "    newrange = range(1, i+1) \n",
    "    # print(list(newrange))\n",
    "    for j in newrange:\n",
    "        newl.append(j*i)\n",
    "        \n",
    "        \n",
    "    table.append(newl)\n",
    "\n",
    "print(table)\n"
   ],
   "id": "572530a35de67fc",
   "outputs": [
    {
     "name": "stdout",
     "output_type": "stream",
     "text": [
      "1\n",
      "2\n",
      "3\n",
      "4\n",
      "5\n",
      "[[1], [2, 4], [3, 6, 9], [4, 8, 12, 16], [5, 10, 15, 20, 25]]\n"
     ]
    }
   ],
   "execution_count": 21
  },
  {
   "metadata": {
    "ExecuteTime": {
     "end_time": "2024-11-09T08:17:24.190680Z",
     "start_time": "2024-11-09T08:17:22.043319Z"
    }
   },
   "cell_type": "code",
   "source": [
    "num = input(\"please enter a number: \")\n",
    "table =[]\n",
    "if num.isdigit():\n",
    "    num = int(num)\n",
    "    for i in range(1, num+1):  # 1 ===> \n",
    "        newl = []\n",
    "        for j in range(1, i+1):\n",
    "            newl.append(j*i)\n",
    "        \n",
    "        table.append(newl)\n",
    "\n",
    "print(table)\n"
   ],
   "id": "568baab09f9c50dd",
   "outputs": [
    {
     "name": "stdout",
     "output_type": "stream",
     "text": [
      "[[1], [2, 4], [3, 6, 9], [4, 8, 12, 16], [5, 10, 15, 20, 25]]\n"
     ]
    }
   ],
   "execution_count": 23
  },
  {
   "metadata": {},
   "cell_type": "code",
   "outputs": [],
   "execution_count": null,
   "source": "",
   "id": "8d2977ef1c6b93fc"
  }
 ],
 "metadata": {
  "kernelspec": {
   "display_name": "Python 3",
   "language": "python",
   "name": "python3"
  },
  "language_info": {
   "codemirror_mode": {
    "name": "ipython",
    "version": 2
   },
   "file_extension": ".py",
   "mimetype": "text/x-python",
   "name": "python",
   "nbconvert_exporter": "python",
   "pygments_lexer": "ipython2",
   "version": "2.7.6"
  }
 },
 "nbformat": 4,
 "nbformat_minor": 5
}
