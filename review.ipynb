{
 "cells": [
  {
   "cell_type": "code",
   "id": "initial_id",
   "metadata": {
    "collapsed": true,
    "ExecuteTime": {
     "end_time": "2024-11-23T07:30:03.165736Z",
     "start_time": "2024-11-23T07:30:03.157969Z"
    }
   },
   "source": "print(\"Hello world\")",
   "outputs": [
    {
     "name": "stdout",
     "output_type": "stream",
     "text": [
      "Hello world\n"
     ]
    }
   ],
   "execution_count": 1
  },
  {
   "metadata": {},
   "cell_type": "code",
   "outputs": [],
   "execution_count": null,
   "source": [
    "\n",
    "name = \"Abdelkader\"\n",
    "# get brief version of it ?? --> remove char [a,e,i,o,u]\n",
    "# generate brief version --> new place --> to the chars\n",
    "briefname= \"\"\n",
    "for char in name:\n",
    "    print(f\"char = {char}\")\n",
    "    if not(char in 'aeiou'):\n",
    "        briefname += char\n",
    "\n",
    "print(briefname)"
   ],
   "id": "428b53c9dcca04db"
  },
  {
   "metadata": {},
   "cell_type": "markdown",
   "source": "<h1 style='color:red'> Another option </h1>",
   "id": "f181ad28735ade9"
  },
  {
   "metadata": {
    "ExecuteTime": {
     "end_time": "2024-11-23T07:38:09.123923Z",
     "start_time": "2024-11-23T07:38:09.109382Z"
    }
   },
   "cell_type": "code",
   "source": [
    "counter = 0 \n",
    "name = 'AbdelkadEr'\n",
    "briefname= \"\"\n",
    "name = name.lower()\n",
    "while counter < len(name):\n",
    "    if not (name[counter] in 'aeiou'):\n",
    "        briefname += name[counter]\n",
    "    \n",
    "    counter += 1\n",
    "\n",
    "print(briefname)\n",
    "    \n"
   ],
   "id": "8da0ab1829ae5996",
   "outputs": [
    {
     "name": "stdout",
     "output_type": "stream",
     "text": [
      "bdlkdr\n"
     ]
    }
   ],
   "execution_count": 7
  },
  {
   "metadata": {},
   "cell_type": "markdown",
   "source": [
    "<pre > \n",
    "    given this list of grades for some students \n",
    "    grades = [45, 78, 88, 34, 90, 67, 55, 39, 100, 62]\n",
    "    write a program that calculates the min grade, max grade , total grades, average of the grades \n",
    "    for the given students \n",
    "</pre>"
   ],
   "id": "168b4fb441828e1a"
  },
  {
   "metadata": {
    "ExecuteTime": {
     "end_time": "2024-11-23T07:58:10.836985Z",
     "start_time": "2024-11-23T07:58:10.810810Z"
    }
   },
   "cell_type": "code",
   "source": [
    "grades = [45, 78, 88, 34, 90, 67, 55, 39, 100, 62]\n",
    "\n",
    "mingrade=grades[0]\n",
    "maxgrade = grades[0]\n",
    "total_sum=0\n",
    "avg = 0 \n",
    "for grade in grades:\n",
    "    if grade > maxgrade :\n",
    "        maxgrade = grade\n",
    "    if grade < mingrade :\n",
    "        mingrade = grade\n",
    "    total_sum += grade\n",
    "\n",
    "print(f\"maxgrade = {maxgrade}\")\n",
    "print(f\"mingrade = {mingrade}\")\n",
    "print(f\"total_sum = {total_sum}\")\n",
    "avg= total_sum/len(grades)\n",
    "print(f\"avg = {avg}\")\n",
    "        \n"
   ],
   "id": "4e1a3efdec205bba",
   "outputs": [
    {
     "name": "stdout",
     "output_type": "stream",
     "text": [
      "maxgrade = 100\n",
      "mingrade = 34\n",
      "total_sum = 658\n",
      "avg = 65.8\n"
     ]
    }
   ],
   "execution_count": 9
  },
  {
   "metadata": {
    "ExecuteTime": {
     "end_time": "2024-11-23T08:00:37.040171Z",
     "start_time": "2024-11-23T08:00:37.014256Z"
    }
   },
   "cell_type": "code",
   "source": [
    "# while loop\n",
    "grades = [45, 78, 88, 34, 90, 67, 55, 39, 100, 62]\n",
    "\n",
    "mingrade=grades[0]\n",
    "maxgrade = grades[0]\n",
    "total_sum=0\n",
    "avg = 0 \n",
    "count_of_elements=0 \n",
    "while count_of_elements < len(grades):\n",
    "    if grades[count_of_elements] > maxgrade :\n",
    "        maxgrade = grades[count_of_elements]\n",
    "    if grades[count_of_elements] < mingrade :\n",
    "        mingrade = grades[count_of_elements]\n",
    "    total_sum += grades[count_of_elements]\n",
    "    count_of_elements+=1\n",
    "\n",
    "print(f\"maxgrade = {maxgrade}\")\n",
    "print(f\"mingrade = {mingrade}\")\n",
    "print(f\"total_sum = {total_sum}\")\n",
    "print(f\"avg = {total_sum/len(grades)}\")"
   ],
   "id": "28472f56cbd85aea",
   "outputs": [
    {
     "name": "stdout",
     "output_type": "stream",
     "text": [
      "maxgrade = 100\n",
      "mingrade = 34\n",
      "total_sum = 658\n",
      "avg = 65.8\n"
     ]
    }
   ],
   "execution_count": 10
  },
  {
   "metadata": {},
   "cell_type": "markdown",
   "source": "<h1 style = 'color:green'>Lists </h1>",
   "id": "44f51b5ca2594820"
  },
  {
   "metadata": {
    "ExecuteTime": {
     "end_time": "2024-11-23T08:04:19.059117Z",
     "start_time": "2024-11-23T08:04:19.044063Z"
    }
   },
   "cell_type": "code",
   "source": "l = [\"Ahmed\", \"Mahmoud\", \"Abdelkader\", 'hasnaa', 'ola', 'mostafa', 45, True , ['python', 'Houdini', 'maya', 'english']]",
   "id": "a79e392cdf400d86",
   "outputs": [],
   "execution_count": 11
  },
  {
   "metadata": {},
   "cell_type": "markdown",
   "source": [
    "<pre> \n",
    "<span style='color:green'>Given the below list of students and their grades students = [\n",
    "[\"Alice\", 85, 90, 78],\n",
    "[\"Bob\", 72, 88, 91],\n",
    "[\"Charlie\", 90, 87, 85],\n",
    "[\"Diana\", 60, 65, 70]\n",
    "] </span>\n",
    "we need to \n",
    "<span style='color:red'> 1- calculate the average grades for each student then add it to the end of their list \n",
    "[[\"Alice\", 85, 90, 78, 84.33], [\"Bob\", 72, 88, 91, 83.67], [\"Charlie\", 90, 87, 85, 87.33], [\"Diana\", 60, 65, 70, 65.00]] </span>\n",
    "2- Get the top student? \n",
    "[\"Charlie\", 90, 87, 85, 87.33]\n",
    "3- sort the students by their average, desc .\n",
    "[[\"Charlie\", 90, 87, 85, 87.33], [\"Alice\", 85, 90, 78, 84.33], [\"Bob\", 72, 88, 91, 83.67], [\"Diana\", 60, 65, 70, 65.00]]\n",
    "4- add the total grade , good , pass , very good , excellent \n",
    "[[\"Alice\", 85, 90, 78, 84.33, \"Very good\"], [\"Bob\", 72, 88, 91, 83.67, \"verygood\"], [\"Charlie\", 90, 87, 85, 87.33, \"Excellent\"], [\"Diana\", 60, 65, 70, 65.00, \"Good\"]]\n",
    "hint(pass >=60, good >=65, verygood >=75, Excellent >=85]\n",
    "5- I need the average of the class ?\n",
    "80.58\n",
    "</pre>"
   ],
   "id": "97f375afd7abdce7"
  },
  {
   "metadata": {},
   "cell_type": "markdown",
   "source": "# 1- - calculate the average grades for each student then add it to the end of their list ",
   "id": "67d878e21a31ee3e"
  },
  {
   "metadata": {},
   "cell_type": "code",
   "outputs": [],
   "execution_count": null,
   "source": "",
   "id": "ffb9be3d0f1fbd35"
  },
  {
   "metadata": {
    "ExecuteTime": {
     "end_time": "2024-11-23T08:54:53.299812Z",
     "start_time": "2024-11-23T08:54:53.289954Z"
    }
   },
   "cell_type": "code",
   "source": [
    "students_list=  [\n",
    "    [\"Alice\", 85, 90, 78],  # average grade ? \n",
    "    [\"Bob\", 72, 88, 91],\n",
    "    [\"Charlie\", 90, 87, 85],\n",
    "    [\"Diana\", 60, 65, 70]]\n",
    "\n",
    "for std in students_list:  # each std is a list ?\n",
    "    # I need to calculate average of grade for each student ? \n",
    "    avg = 0\n",
    "    no_of_courses = 0\n",
    "    total_of_grades = 0\n",
    "    for grade in std:\n",
    "        if isinstance(grade, int) or isinstance(grade, float):\n",
    "            total_of_grades += grade\n",
    "            no_of_courses += 1\n",
    "    else:\n",
    "        avg = total_of_grades/no_of_courses\n",
    "    std.append(avg)\n",
    "    print(std)"
   ],
   "id": "7f52037c33e4e582",
   "outputs": [
    {
     "name": "stdout",
     "output_type": "stream",
     "text": [
      "['Alice', 85, 90, 78, 84.33333333333333]\n",
      "['Bob', 72, 88, 91, 83.66666666666667]\n",
      "['Charlie', 90, 87, 85, 87.33333333333333]\n",
      "['Diana', 60, 65, 70, 65.0]\n"
     ]
    }
   ],
   "execution_count": 15
  },
  {
   "metadata": {},
   "cell_type": "code",
   "outputs": [],
   "execution_count": null,
   "source": "",
   "id": "f423fbc1261da205"
  },
  {
   "metadata": {
    "ExecuteTime": {
     "end_time": "2024-11-23T09:00:43.520860Z",
     "start_time": "2024-11-23T09:00:43.504579Z"
    }
   },
   "cell_type": "code",
   "source": [
    "num1 = 10\n",
    "num2 = 44.3234\n",
    "print(num1 + num2)"
   ],
   "id": "bf19e0421cacff36",
   "outputs": [
    {
     "name": "stdout",
     "output_type": "stream",
     "text": [
      "54.3234\n"
     ]
    }
   ],
   "execution_count": 16
  },
  {
   "metadata": {},
   "cell_type": "markdown",
   "source": "# point 2- Get the top student? ",
   "id": "c02ce4047f724b17"
  },
  {
   "metadata": {
    "ExecuteTime": {
     "end_time": "2024-11-23T09:02:18.643711Z",
     "start_time": "2024-11-23T09:02:18.629254Z"
    }
   },
   "cell_type": "code",
   "source": [
    "# who is the top student ? is the student with the max avg ?\n",
    "print(students_list)"
   ],
   "id": "f995815f1b7ffabf",
   "outputs": [
    {
     "name": "stdout",
     "output_type": "stream",
     "text": [
      "[['Alice', 85, 90, 78, 84.33333333333333], ['Bob', 72, 88, 91, 83.66666666666667], ['Charlie', 90, 87, 85, 87.33333333333333], ['Diana', 60, 65, 70, 65.0]]\n"
     ]
    }
   ],
   "execution_count": 17
  },
  {
   "metadata": {
    "ExecuteTime": {
     "end_time": "2024-11-23T09:06:42.953771Z",
     "start_time": "2024-11-23T09:06:42.944909Z"
    }
   },
   "cell_type": "code",
   "source": [
    "# let that the top_student is the first student in the list ?\n",
    "print(students_list)\n",
    "top_student =students_list[0]\n",
    "print(top_student)\n",
    "\n",
    "for std in students_list:\n",
    "    if std[-1] > top_student[-1]:\n",
    "        top_student = std\n",
    "        \n",
    "print(f\"top student is {top_student}\")\n"
   ],
   "id": "1f4fab4b8074302e",
   "outputs": [
    {
     "name": "stdout",
     "output_type": "stream",
     "text": [
      "[['Alice', 85, 90, 78, 84.33333333333333], ['Bob', 72, 88, 91, 83.66666666666667], ['Charlie', 90, 87, 85, 87.33333333333333], ['Diana', 60, 65, 70, 65.0]]\n",
      "['Alice', 85, 90, 78, 84.33333333333333]\n",
      "top student is ['Charlie', 90, 87, 85, 87.33333333333333]\n"
     ]
    }
   ],
   "execution_count": 21
  },
  {
   "metadata": {},
   "cell_type": "markdown",
   "source": "#  3- sort the students by their average, desc .",
   "id": "177aed72b268fb22"
  },
  {
   "metadata": {
    "ExecuteTime": {
     "end_time": "2024-11-23T09:07:49.364928Z",
     "start_time": "2024-11-23T09:07:49.351343Z"
    }
   },
   "cell_type": "code",
   "source": "print(students_list)",
   "id": "4736088d645460fd",
   "outputs": [
    {
     "name": "stdout",
     "output_type": "stream",
     "text": [
      "[['Alice', 85, 90, 78, 84.33333333333333], ['Bob', 72, 88, 91, 83.66666666666667], ['Charlie', 90, 87, 85, 87.33333333333333], ['Diana', 60, 65, 70, 65.0]]\n"
     ]
    }
   ],
   "execution_count": 22
  },
  {
   "metadata": {
    "ExecuteTime": {
     "end_time": "2024-11-23T09:15:44.445815Z",
     "start_time": "2024-11-23T09:15:44.441269Z"
    }
   },
   "cell_type": "code",
   "source": [
    "sorted_students = []\n",
    "# the higher average --> added to the first element of the list ??\n",
    "# then \n",
    "\n",
    "sorted_students.append(students_list[0])\n",
    "print(sorted_students)"
   ],
   "id": "2ba794d464b6c0",
   "outputs": [
    {
     "name": "stdout",
     "output_type": "stream",
     "text": [
      "[['Alice', 85, 90, 78, 84.33333333333333]]\n"
     ]
    }
   ],
   "execution_count": 35
  },
  {
   "metadata": {
    "ExecuteTime": {
     "end_time": "2024-11-23T09:15:46.611151Z",
     "start_time": "2024-11-23T09:15:46.591096Z"
    }
   },
   "cell_type": "code",
   "source": [
    "for std in students_list[1:]:\n",
    "    # print(std)\n",
    "    if std[-1] > sorted_students[0][-1]:\n",
    "        sorted_students.append(std)\n",
    "    else:\n",
    "        sorted_students.insert(0, std)\n",
    "        \n",
    "\n",
    "# print(sorted_students)\n",
    "sorted_students.reverse()\n",
    "print(sorted_students)\n",
    "\n",
    "# sorted_students.sort(reverse=True)"
   ],
   "id": "6c8b950e1bffa270",
   "outputs": [
    {
     "name": "stdout",
     "output_type": "stream",
     "text": [
      "[['Charlie', 90, 87, 85, 87.33333333333333], ['Alice', 85, 90, 78, 84.33333333333333], ['Bob', 72, 88, 91, 83.66666666666667], ['Diana', 60, 65, 70, 65.0]]\n"
     ]
    }
   ],
   "execution_count": 36
  },
  {
   "metadata": {
    "ExecuteTime": {
     "end_time": "2024-11-23T09:15:49.206785Z",
     "start_time": "2024-11-23T09:15:49.202235Z"
    }
   },
   "cell_type": "code",
   "source": "print(sorted_students)",
   "id": "9d64e870c50b7ba1",
   "outputs": [
    {
     "name": "stdout",
     "output_type": "stream",
     "text": [
      "[['Charlie', 90, 87, 85, 87.33333333333333], ['Alice', 85, 90, 78, 84.33333333333333], ['Bob', 72, 88, 91, 83.66666666666667], ['Diana', 60, 65, 70, 65.0]]\n"
     ]
    }
   ],
   "execution_count": 37
  },
  {
   "metadata": {},
   "cell_type": "markdown",
   "source": "# add the total grade , good , pass , very good , excellent ",
   "id": "873532c106a420ae"
  },
  {
   "metadata": {
    "ExecuteTime": {
     "end_time": "2024-11-23T09:16:59.087612Z",
     "start_time": "2024-11-23T09:16:59.082327Z"
    }
   },
   "cell_type": "code",
   "source": "print(students_list)",
   "id": "15f0e26212ab4b67",
   "outputs": [
    {
     "name": "stdout",
     "output_type": "stream",
     "text": [
      "[['Alice', 85, 90, 78, 84.33333333333333], ['Bob', 72, 88, 91, 83.66666666666667], ['Charlie', 90, 87, 85, 87.33333333333333], ['Diana', 60, 65, 70, 65.0]]\n"
     ]
    }
   ],
   "execution_count": 38
  },
  {
   "metadata": {
    "ExecuteTime": {
     "end_time": "2024-11-23T09:18:39.190690Z",
     "start_time": "2024-11-23T09:18:39.178357Z"
    }
   },
   "cell_type": "code",
   "source": [
    "for std in students_list:\n",
    "    if std[-1] >= 85:\n",
    "        std.append(\"Excellent\")\n",
    "    elif std[-1] >= 75:\n",
    "        std.append(\"Very Good\")\n",
    "    elif std[-1] >= 65:\n",
    "        std.append(\"Good\")\n",
    "    elif std[-1] >= 60:\n",
    "        std.append(\"Pass\")\n",
    "    else:\n",
    "        std.append(\"Fail\")\n",
    "\n",
    "print(students_list)"
   ],
   "id": "105868b80ca64bae",
   "outputs": [
    {
     "name": "stdout",
     "output_type": "stream",
     "text": [
      "[['Alice', 85, 90, 78, 84.33333333333333, 'Very Good'], ['Bob', 72, 88, 91, 83.66666666666667, 'Very Good'], ['Charlie', 90, 87, 85, 87.33333333333333, 'Excellent'], ['Diana', 60, 65, 70, 65.0, 'Good']]\n"
     ]
    }
   ],
   "execution_count": 39
  },
  {
   "metadata": {},
   "cell_type": "markdown",
   "source": "# 5- I need the average of the class ?",
   "id": "691dcfcf497a29f0"
  },
  {
   "metadata": {
    "ExecuteTime": {
     "end_time": "2024-11-23T09:19:19.489876Z",
     "start_time": "2024-11-23T09:19:19.486403Z"
    }
   },
   "cell_type": "code",
   "source": "print(students_list)",
   "id": "f72ca3891cd0cda0",
   "outputs": [
    {
     "name": "stdout",
     "output_type": "stream",
     "text": [
      "[['Alice', 85, 90, 78, 84.33333333333333, 'Very Good'], ['Bob', 72, 88, 91, 83.66666666666667, 'Very Good'], ['Charlie', 90, 87, 85, 87.33333333333333, 'Excellent'], ['Diana', 60, 65, 70, 65.0, 'Good']]\n"
     ]
    }
   ],
   "execution_count": 40
  },
  {
   "metadata": {
    "ExecuteTime": {
     "end_time": "2024-11-23T09:19:57.414679Z",
     "start_time": "2024-11-23T09:19:57.410399Z"
    }
   },
   "cell_type": "code",
   "source": [
    "total_class = 0\n",
    "for s in students_list:\n",
    "    total_class += s[-2]\n",
    "\n",
    "avg_class = total_class/len(students_list)\n",
    "print(avg_class)"
   ],
   "id": "da2f742ad822aa66",
   "outputs": [
    {
     "name": "stdout",
     "output_type": "stream",
     "text": [
      "80.08333333333333\n"
     ]
    }
   ],
   "execution_count": 41
  },
  {
   "metadata": {},
   "cell_type": "code",
   "outputs": [],
   "execution_count": null,
   "source": "",
   "id": "6c3dbcaf603937f9"
  },
  {
   "metadata": {},
   "cell_type": "markdown",
   "source": [
    "# for else\n",
    "# I use this block when I need some code to be executed after loop finishes its works "
   ],
   "id": "3c76018a6e846ef3"
  },
  {
   "metadata": {
    "ExecuteTime": {
     "end_time": "2024-11-23T09:36:58.572996Z",
     "start_time": "2024-11-23T09:36:58.555318Z"
    }
   },
   "cell_type": "code",
   "source": [
    "for i in range(5):\n",
    "    print(i)\n",
    "    \n",
    "print(f'the loop is completed successfully ' )"
   ],
   "id": "a736e7df2fb6d710",
   "outputs": [
    {
     "name": "stdout",
     "output_type": "stream",
     "text": [
      "0\n",
      "1\n",
      "2\n",
      "3\n",
      "4\n",
      "after the loop\n"
     ]
    }
   ],
   "execution_count": 42
  },
  {
   "metadata": {
    "ExecuteTime": {
     "end_time": "2024-11-23T09:37:36.226939Z",
     "start_time": "2024-11-23T09:37:36.210092Z"
    }
   },
   "cell_type": "code",
   "source": [
    "for i in range(5):\n",
    "    if i ==3:\n",
    "        break\n",
    "    print(i)\n",
    "    \n",
    "    \n",
    "print(f'the loop is completed successfully ' )"
   ],
   "id": "bfa4797a5994f04e",
   "outputs": [
    {
     "name": "stdout",
     "output_type": "stream",
     "text": [
      "0\n",
      "1\n",
      "2\n",
      "the loop is completed successfully \n"
     ]
    }
   ],
   "execution_count": 43
  },
  {
   "metadata": {
    "ExecuteTime": {
     "end_time": "2024-11-23T09:38:02.223598Z",
     "start_time": "2024-11-23T09:38:02.219811Z"
    }
   },
   "cell_type": "code",
   "source": [
    "for i in range(5):\n",
    "    if i ==3:\n",
    "        continue\n",
    "    print(i)\n",
    "    \n",
    "    \n",
    "print(f'the loop is completed successfully ' )"
   ],
   "id": "b5bf2f46239014ba",
   "outputs": [
    {
     "name": "stdout",
     "output_type": "stream",
     "text": [
      "0\n",
      "1\n",
      "2\n",
      "4\n",
      "the loop is completed successfully \n"
     ]
    }
   ],
   "execution_count": 44
  },
  {
   "metadata": {
    "ExecuteTime": {
     "end_time": "2024-11-23T09:39:29.591325Z",
     "start_time": "2024-11-23T09:39:29.587062Z"
    }
   },
   "cell_type": "code",
   "source": [
    "# if you need an action to be executed if the loop was completed \n",
    "# you can put the action in the else block of for \n",
    "\n",
    "for j in range(5):\n",
    "    print(j)\n",
    "else:\n",
    "    print(\"---- loop completed successfully ----\")"
   ],
   "id": "fffb9b3ee91229c7",
   "outputs": [
    {
     "name": "stdout",
     "output_type": "stream",
     "text": [
      "0\n",
      "1\n",
      "2\n",
      "3\n",
      "4\n",
      "---- loop completed successfully ----\n"
     ]
    }
   ],
   "execution_count": 45
  },
  {
   "metadata": {
    "ExecuteTime": {
     "end_time": "2024-11-23T09:39:52.735340Z",
     "start_time": "2024-11-23T09:39:52.729796Z"
    }
   },
   "cell_type": "code",
   "source": [
    "for j in range(5):\n",
    "    if j == 3:\n",
    "        break\n",
    "    print(j)\n",
    "else:\n",
    "    print(\"---- loop completed successfully ----\")"
   ],
   "id": "a87871d1c95963df",
   "outputs": [
    {
     "name": "stdout",
     "output_type": "stream",
     "text": [
      "0\n",
      "1\n",
      "2\n"
     ]
    }
   ],
   "execution_count": 47
  },
  {
   "metadata": {},
   "cell_type": "markdown",
   "source": "# tuple recap",
   "id": "172f066bcde7654"
  },
  {
   "metadata": {},
   "cell_type": "code",
   "outputs": [],
   "execution_count": null,
   "source": [
    "# Given \n",
    "# data = (12, 45, 78, 23, 56, 89, 100, 34, 67, 90)\n",
    "# \n",
    "# Do the following\n",
    "# Extract the first three elements and last three elements into a new tuple.\n",
    "# Calculate the sum of all elements in the tuple.\n",
    "# Check if the number exists in the tuple.\n",
    "# Convert the tuple into a list, add the number at the end, and convert it back to a tuple.\n",
    "# Sort the tuple in ascending order and display the result."
   ],
   "id": "bb13b55e6fdb16b6"
  },
  {
   "metadata": {
    "ExecuteTime": {
     "end_time": "2024-11-23T10:58:17.331507Z",
     "start_time": "2024-11-23T10:58:17.323123Z"
    }
   },
   "cell_type": "code",
   "source": [
    "data = (12, 45, 78, 23, 56, 89, 100, 34, 67, 90)\n",
    "# extract first and last three \n",
    "first_three = data[:3]\n",
    "print(first_three)\n"
   ],
   "id": "4f82049048018c92",
   "outputs": [
    {
     "name": "stdout",
     "output_type": "stream",
     "text": [
      "(12, 45, 78)\n"
     ]
    }
   ],
   "execution_count": 48
  },
  {
   "metadata": {
    "ExecuteTime": {
     "end_time": "2024-11-23T10:58:39.368246Z",
     "start_time": "2024-11-23T10:58:39.364753Z"
    }
   },
   "cell_type": "code",
   "source": [
    "# last three\n",
    "last_three = data[-3:]\n",
    "print(last_three)"
   ],
   "id": "eb2b747c62a98a20",
   "outputs": [
    {
     "name": "stdout",
     "output_type": "stream",
     "text": [
      "(34, 67, 90)\n"
     ]
    }
   ],
   "execution_count": 49
  },
  {
   "metadata": {
    "ExecuteTime": {
     "end_time": "2024-11-23T10:59:17.005241Z",
     "start_time": "2024-11-23T10:59:16.990912Z"
    }
   },
   "cell_type": "code",
   "source": [
    "if len(data) >= 3:\n",
    "    first_three = data[:3]\n",
    "    last_three = data[-3:]\n",
    "print(first_three)\n",
    "print(last_three)"
   ],
   "id": "42ba1bd71efba32e",
   "outputs": [
    {
     "name": "stdout",
     "output_type": "stream",
     "text": [
      "(12, 45, 78)\n",
      "(34, 67, 90)\n"
     ]
    }
   ],
   "execution_count": 50
  },
  {
   "metadata": {},
   "cell_type": "markdown",
   "source": "<h3> Calculate the sum of all elements in the tuple.</h3>",
   "id": "c0ebc6516c82e798"
  },
  {
   "metadata": {
    "ExecuteTime": {
     "end_time": "2024-11-23T11:01:03.695123Z",
     "start_time": "2024-11-23T11:01:03.685289Z"
    }
   },
   "cell_type": "code",
   "source": [
    "sumof_elements =0\n",
    "for item in data:\n",
    "    if isinstance(item, int) or isinstance(item, float):\n",
    "        sumof_elements += item\n",
    "print(f\"sumof_elements = {sumof_elements}\")"
   ],
   "id": "c082e2c7fa74d665",
   "outputs": [
    {
     "name": "stdout",
     "output_type": "stream",
     "text": [
      "sumof_elements = 594\n"
     ]
    }
   ],
   "execution_count": 51
  },
  {
   "metadata": {
    "ExecuteTime": {
     "end_time": "2024-11-23T11:02:13.653319Z",
     "start_time": "2024-11-23T11:02:13.641771Z"
    }
   },
   "cell_type": "code",
   "source": "total=sum(data)  # accept iterable ",
   "id": "e5757ceacb68a450",
   "outputs": [],
   "execution_count": 52
  },
  {
   "metadata": {},
   "cell_type": "markdown",
   "source": "<h3 >Check if the number exists in the tuple. <h3>",
   "id": "5bd5a3410314a850"
  },
  {
   "metadata": {
    "ExecuteTime": {
     "end_time": "2024-11-23T11:03:55.962230Z",
     "start_time": "2024-11-23T11:03:53.751597Z"
    }
   },
   "cell_type": "code",
   "source": [
    "num= input(\"please enter the number: \")\n",
    "if num.isdigit():\n",
    "    num = int(num)\n",
    "    if num in data:\n",
    "        print(\"---- number found \")\n",
    "    else:\n",
    "        print(\"---- number not found \")\n",
    "else:\n",
    "    print(\"---- Not valid input ---- \")\n"
   ],
   "id": "22bf2d4f63b06d4a",
   "outputs": [
    {
     "name": "stdout",
     "output_type": "stream",
     "text": [
      "---- Not valid input ---- \n"
     ]
    }
   ],
   "execution_count": 56
  },
  {
   "metadata": {},
   "cell_type": "markdown",
   "source": [
    "<h3> Convert the tuple into a list, add the number at the end, and convert it back to a tuple.\n",
    "</h3>"
   ],
   "id": "a05dcdd481494c48"
  },
  {
   "metadata": {
    "ExecuteTime": {
     "end_time": "2024-11-23T11:07:06.110040Z",
     "start_time": "2024-11-23T11:07:02.167435Z"
    }
   },
   "cell_type": "code",
   "source": [
    "data = (12, 45, 78, 23, 56, 89, 100, 34, 67, 90)\n",
    "newl = list(data)\n",
    "num= input(\"please enter the number: \")\n",
    "if num.isdigit():\n",
    "    num = int(num)\n",
    "    newl.append(num)\n",
    "else:\n",
    "    print(\"not valid input\")\n",
    "    \n",
    "data = tuple(newl)\n",
    "print(data)"
   ],
   "id": "38f77766e3c338b4",
   "outputs": [
    {
     "name": "stdout",
     "output_type": "stream",
     "text": [
      "(12, 45, 78, 23, 56, 89, 100, 34, 67, 90, 888)\n"
     ]
    }
   ],
   "execution_count": 59
  },
  {
   "metadata": {},
   "cell_type": "markdown",
   "source": "<h3> Sort the tuple in ascending order and display the result. </h3>",
   "id": "d5c9cc69b80e6335"
  },
  {
   "metadata": {
    "ExecuteTime": {
     "end_time": "2024-11-23T11:11:07.777263Z",
     "start_time": "2024-11-23T11:11:07.761881Z"
    }
   },
   "cell_type": "code",
   "source": [
    "# 1- convert to list then sort then back to tuple ?\n",
    "# print(data)\n",
    "# data = list(data)\n",
    "# data.sort()\n",
    "# data = tuple(data)\n",
    "# print(data)\n",
    "\n",
    "#### another try ?\n",
    "sorted_tuple = []\n",
    "for item in data:\n",
    "    if len(sorted_tuple) == 0:\n",
    "        sorted_tuple.append(item)\n",
    "    else:\n",
    "        if sorted_tuple[0] > item:\n",
    "            sorted_tuple.insert(0, item)\n",
    "        else:\n",
    "            sorted_tuple.append(item)\n",
    "\n",
    "\n",
    "print(sorted_tuple)          "
   ],
   "id": "51a8767222dd5f66",
   "outputs": [
    {
     "name": "stdout",
     "output_type": "stream",
     "text": [
      "[12, 45, 78, 23, 56, 89, 100, 34, 67, 90, 888]\n"
     ]
    }
   ],
   "execution_count": 60
  },
  {
   "metadata": {},
   "cell_type": "code",
   "outputs": [],
   "execution_count": null,
   "source": "",
   "id": "f4f85d8418fc95ca"
  }
 ],
 "metadata": {
  "kernelspec": {
   "display_name": "Python 3",
   "language": "python",
   "name": "python3"
  },
  "language_info": {
   "codemirror_mode": {
    "name": "ipython",
    "version": 2
   },
   "file_extension": ".py",
   "mimetype": "text/x-python",
   "name": "python",
   "nbconvert_exporter": "python",
   "pygments_lexer": "ipython2",
   "version": "2.7.6"
  }
 },
 "nbformat": 4,
 "nbformat_minor": 5
}
