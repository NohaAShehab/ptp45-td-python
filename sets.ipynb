{
 "cells": [
  {
   "cell_type": "code",
   "id": "initial_id",
   "metadata": {
    "collapsed": true,
    "ExecuteTime": {
     "end_time": "2024-11-10T07:08:15.921339Z",
     "start_time": "2024-11-10T07:08:15.915222Z"
    }
   },
   "source": "print(\"----- hello  from Ghaza -----\")",
   "outputs": [
    {
     "name": "stdout",
     "output_type": "stream",
     "text": [
      "----- hello  from Ghaza -----\n"
     ]
    }
   ],
   "execution_count": 1
  },
  {
   "metadata": {},
   "cell_type": "markdown",
   "source": "# sets is one of non primtive datatypes ",
   "id": "5d9d9faab746f8f3"
  },
  {
   "metadata": {
    "ExecuteTime": {
     "end_time": "2024-11-10T07:09:48.194505Z",
     "start_time": "2024-11-10T07:09:48.178461Z"
    }
   },
   "cell_type": "code",
   "source": [
    "# 1- define a set \n",
    "mys = set()\n",
    "\n",
    "print(mys, type(mys))"
   ],
   "id": "bcd2c6391d18df52",
   "outputs": [
    {
     "name": "stdout",
     "output_type": "stream",
     "text": [
      "set() <class 'set'>\n"
     ]
    }
   ],
   "execution_count": 3
  },
  {
   "metadata": {},
   "cell_type": "markdown",
   "source": "set with values ",
   "id": "101ade71181a60b3"
  },
  {
   "metadata": {},
   "cell_type": "markdown",
   "source": [
    "# set properties \n",
    "1- remove duplicated elements\n",
    "2- un-ordered datatype "
   ],
   "id": "b8cce6466e2044c5"
  },
  {
   "metadata": {
    "ExecuteTime": {
     "end_time": "2024-11-10T07:13:30.639291Z",
     "start_time": "2024-11-10T07:13:30.621149Z"
    }
   },
   "cell_type": "code",
   "source": [
    "anyset = {\"iti\", \"Mostafa\", \"Nardine\", \"iti\",'Ezz', 'iti', 242, 234.45, True , True, None}\n",
    "print(anyset)"
   ],
   "id": "fab17622c15f3e0a",
   "outputs": [
    {
     "name": "stdout",
     "output_type": "stream",
     "text": [
      "{None, True, 'Mostafa', 'Ezz', 234.45, 'iti', 'Nardine', 242}\n"
     ]
    }
   ],
   "execution_count": 4
  },
  {
   "metadata": {},
   "cell_type": "code",
   "outputs": [],
   "execution_count": null,
   "source": "# use hashing in saving data ",
   "id": "a1d711423786d64e"
  },
  {
   "metadata": {
    "ExecuteTime": {
     "end_time": "2024-11-10T07:17:41.293093Z",
     "start_time": "2024-11-10T07:17:41.278034Z"
    }
   },
   "cell_type": "code",
   "source": [
    "mys2= {'iti', \"Ahmed\", \"iti\", \"Abanoub\", 4234, 23434, \"Hasnaa\", \"sayed\", (\"Potato\", 'Falafel'), 'iti'}\n",
    "print(mys2)"
   ],
   "id": "237c781c0c7052",
   "outputs": [
    {
     "name": "stdout",
     "output_type": "stream",
     "text": [
      "{'Abanoub', 4234, 'Ahmed', 23434, 'Hasnaa', 'iti', ('Potato', 'Falafel'), 'sayed'}\n"
     ]
    }
   ],
   "execution_count": 5
  },
  {
   "metadata": {
    "ExecuteTime": {
     "end_time": "2024-11-10T07:18:22.057007Z",
     "start_time": "2024-11-10T07:18:21.230684Z"
    }
   },
   "cell_type": "code",
   "source": [
    "mys2= {'iti', \"Ahmed\", \"iti\", \"Abanoub\", 4234, 23434, \"Hasnaa\", \"sayed\", [\"Potato\", 'Falafel'], 'iti'}\n",
    "print(mys2)"
   ],
   "id": "1adea76e91069cea",
   "outputs": [
    {
     "ename": "TypeError",
     "evalue": "unhashable type: 'list'",
     "output_type": "error",
     "traceback": [
      "\u001B[0;31m---------------------------------------------------------------------------\u001B[0m",
      "\u001B[0;31mTypeError\u001B[0m                                 Traceback (most recent call last)",
      "Cell \u001B[0;32mIn[6], line 1\u001B[0m\n\u001B[0;32m----> 1\u001B[0m mys2\u001B[38;5;241m=\u001B[39m {\u001B[38;5;124m'\u001B[39m\u001B[38;5;124miti\u001B[39m\u001B[38;5;124m'\u001B[39m, \u001B[38;5;124m\"\u001B[39m\u001B[38;5;124mAhmed\u001B[39m\u001B[38;5;124m\"\u001B[39m, \u001B[38;5;124m\"\u001B[39m\u001B[38;5;124miti\u001B[39m\u001B[38;5;124m\"\u001B[39m, \u001B[38;5;124m\"\u001B[39m\u001B[38;5;124mAbanoub\u001B[39m\u001B[38;5;124m\"\u001B[39m, \u001B[38;5;241m4234\u001B[39m, \u001B[38;5;241m23434\u001B[39m, \u001B[38;5;124m\"\u001B[39m\u001B[38;5;124mHasnaa\u001B[39m\u001B[38;5;124m\"\u001B[39m, \u001B[38;5;124m\"\u001B[39m\u001B[38;5;124msayed\u001B[39m\u001B[38;5;124m\"\u001B[39m, [\u001B[38;5;124m\"\u001B[39m\u001B[38;5;124mPotato\u001B[39m\u001B[38;5;124m\"\u001B[39m, \u001B[38;5;124m'\u001B[39m\u001B[38;5;124mFalafel\u001B[39m\u001B[38;5;124m'\u001B[39m], \u001B[38;5;124m'\u001B[39m\u001B[38;5;124miti\u001B[39m\u001B[38;5;124m'\u001B[39m}\n\u001B[1;32m      2\u001B[0m \u001B[38;5;28mprint\u001B[39m(mys2)\n",
      "\u001B[0;31mTypeError\u001B[0m: unhashable type: 'list'"
     ]
    }
   ],
   "execution_count": 6
  },
  {
   "metadata": {},
   "cell_type": "markdown",
   "source": [
    "# save data as hash \n",
    "\n",
    "# mutable or immutable ?\n",
    "# set is mutable "
   ],
   "id": "5ed2e4636b78212c"
  },
  {
   "metadata": {
    "ExecuteTime": {
     "end_time": "2024-11-10T07:23:01.208917Z",
     "start_time": "2024-11-10T07:23:01.192035Z"
    }
   },
   "cell_type": "code",
   "source": [
    "# is mutable datatype \n",
    "mys2.add(\"abdelkader\")\n",
    "print(mys2)"
   ],
   "id": "d022d8cb7bbeb98e",
   "outputs": [
    {
     "name": "stdout",
     "output_type": "stream",
     "text": [
      "{'Abanoub', 4234, 'Ahmed', 23434, 'Hasnaa', 'iti', ('Potato', 'Falafel'), 'sayed', 'abdelkader'}\n"
     ]
    }
   ],
   "execution_count": 7
  },
  {
   "metadata": {
    "ExecuteTime": {
     "end_time": "2024-11-10T07:23:17.774509Z",
     "start_time": "2024-11-10T07:23:17.762956Z"
    }
   },
   "cell_type": "code",
   "source": "mys2.add(\"abc\")",
   "id": "f76a4589692476cd",
   "outputs": [],
   "execution_count": 8
  },
  {
   "metadata": {
    "ExecuteTime": {
     "end_time": "2024-11-10T07:23:21.890514Z",
     "start_time": "2024-11-10T07:23:21.874217Z"
    }
   },
   "cell_type": "code",
   "source": "print(mys2)",
   "id": "924d7ef0ee300fc3",
   "outputs": [
    {
     "name": "stdout",
     "output_type": "stream",
     "text": [
      "{'Abanoub', 4234, 'Ahmed', 23434, 'Hasnaa', 'abc', 'iti', ('Potato', 'Falafel'), 'sayed', 'abdelkader'}\n"
     ]
    }
   ],
   "execution_count": 9
  },
  {
   "metadata": {
    "ExecuteTime": {
     "end_time": "2024-11-10T07:24:06.873654Z",
     "start_time": "2024-11-10T07:24:06.854667Z"
    }
   },
   "cell_type": "code",
   "source": "print(mys2)",
   "id": "aa295e8d4273e5ac",
   "outputs": [
    {
     "name": "stdout",
     "output_type": "stream",
     "text": [
      "{'Abanoub', 4234, 'Ahmed', 23434, 'Hasnaa', 'abc', 'iti', ('Potato', 'Falafel'), 'sayed', 'abdelkader'}\n"
     ]
    }
   ],
   "execution_count": 10
  },
  {
   "metadata": {
    "ExecuteTime": {
     "end_time": "2024-11-10T07:27:44.007945Z",
     "start_time": "2024-11-10T07:27:43.995233Z"
    }
   },
   "cell_type": "code",
   "source": [
    "# set can hold another set \n",
    "ss = { \"dfdf\", True, \"Hasnaa\", \"jkhskjhsfhk\"}\n",
    "\n",
    "ss.add('kjfskjhf')"
   ],
   "id": "547d87dd9de2bb42",
   "outputs": [],
   "execution_count": 11
  },
  {
   "metadata": {
    "ExecuteTime": {
     "end_time": "2024-11-10T07:27:48.777754Z",
     "start_time": "2024-11-10T07:27:48.761319Z"
    }
   },
   "cell_type": "code",
   "source": "print(ss)",
   "id": "944bc58ad457045b",
   "outputs": [
    {
     "name": "stdout",
     "output_type": "stream",
     "text": [
      "{True, 'dfdf', 'jkhskjhsfhk', 'Hasnaa', 'kjfskjhf'}\n"
     ]
    }
   ],
   "execution_count": 12
  },
  {
   "metadata": {
    "ExecuteTime": {
     "end_time": "2024-11-10T07:28:09.682331Z",
     "start_time": "2024-11-10T07:28:09.563336Z"
    }
   },
   "cell_type": "code",
   "source": [
    "s2 = {'abc', {\"dd\", 'dff'}, True}\n",
    "print(s2)"
   ],
   "id": "10ab7bc84716767b",
   "outputs": [
    {
     "ename": "TypeError",
     "evalue": "unhashable type: 'set'",
     "output_type": "error",
     "traceback": [
      "\u001B[0;31m---------------------------------------------------------------------------\u001B[0m",
      "\u001B[0;31mTypeError\u001B[0m                                 Traceback (most recent call last)",
      "Cell \u001B[0;32mIn[13], line 1\u001B[0m\n\u001B[0;32m----> 1\u001B[0m s2 \u001B[38;5;241m=\u001B[39m {\u001B[38;5;124m'\u001B[39m\u001B[38;5;124mabc\u001B[39m\u001B[38;5;124m'\u001B[39m, {\u001B[38;5;124m\"\u001B[39m\u001B[38;5;124mdd\u001B[39m\u001B[38;5;124m\"\u001B[39m, \u001B[38;5;124m'\u001B[39m\u001B[38;5;124mdff\u001B[39m\u001B[38;5;124m'\u001B[39m}, \u001B[38;5;28;01mTrue\u001B[39;00m}\n\u001B[1;32m      2\u001B[0m \u001B[38;5;28mprint\u001B[39m(s2)\n",
      "\u001B[0;31mTypeError\u001B[0m: unhashable type: 'set'"
     ]
    }
   ],
   "execution_count": 13
  },
  {
   "metadata": {},
   "cell_type": "markdown",
   "source": "# set can hold only immutable data type ",
   "id": "35f1da42367a38b5"
  },
  {
   "metadata": {},
   "cell_type": "markdown",
   "source": "# remove element ",
   "id": "ab1eeab4aa3cf89d"
  },
  {
   "metadata": {
    "ExecuteTime": {
     "end_time": "2024-11-10T07:29:25.932185Z",
     "start_time": "2024-11-10T07:29:25.923138Z"
    }
   },
   "cell_type": "code",
   "source": "print(ss)",
   "id": "278bb7d5d9c5328a",
   "outputs": [
    {
     "name": "stdout",
     "output_type": "stream",
     "text": [
      "{True, 'dfdf', 'jkhskjhsfhk', 'Hasnaa', 'kjfskjhf'}\n"
     ]
    }
   ],
   "execution_count": 15
  },
  {
   "metadata": {
    "ExecuteTime": {
     "end_time": "2024-11-10T07:29:40.876737Z",
     "start_time": "2024-11-10T07:29:40.858847Z"
    }
   },
   "cell_type": "code",
   "source": [
    "ss.add(\"noha\")\n",
    "print(ss)"
   ],
   "id": "fdc2eba7ea7e304",
   "outputs": [
    {
     "name": "stdout",
     "output_type": "stream",
     "text": [
      "{True, 'dfdf', 'jkhskjhsfhk', 'Hasnaa', 'noha', 'kjfskjhf'}\n"
     ]
    }
   ],
   "execution_count": 17
  },
  {
   "metadata": {
    "ExecuteTime": {
     "end_time": "2024-11-10T07:30:23.021526Z",
     "start_time": "2024-11-10T07:30:22.999390Z"
    }
   },
   "cell_type": "code",
   "source": [
    "popped_element = ss.pop()# remove random element and return with it \n",
    "print(popped_element)"
   ],
   "id": "e4b0d153732543a2",
   "outputs": [
    {
     "name": "stdout",
     "output_type": "stream",
     "text": [
      "True\n"
     ]
    }
   ],
   "execution_count": 18
  },
  {
   "metadata": {
    "ExecuteTime": {
     "end_time": "2024-11-10T07:30:32.408866Z",
     "start_time": "2024-11-10T07:30:32.401918Z"
    }
   },
   "cell_type": "code",
   "source": "print(ss)",
   "id": "1bae725d32a7e49",
   "outputs": [
    {
     "name": "stdout",
     "output_type": "stream",
     "text": [
      "{'dfdf', 'jkhskjhsfhk', 'Hasnaa', 'noha', 'kjfskjhf'}\n"
     ]
    }
   ],
   "execution_count": 19
  },
  {
   "metadata": {
    "ExecuteTime": {
     "end_time": "2024-11-10T07:30:56.005150Z",
     "start_time": "2024-11-10T07:30:55.996677Z"
    }
   },
   "cell_type": "code",
   "source": [
    "# check element exists or not ??\n",
    "print(\"noha\" in ss)\n"
   ],
   "id": "dc8fad4ff2689175",
   "outputs": [
    {
     "name": "stdout",
     "output_type": "stream",
     "text": [
      "True\n"
     ]
    }
   ],
   "execution_count": 20
  },
  {
   "metadata": {
    "ExecuteTime": {
     "end_time": "2024-11-10T07:31:10.897310Z",
     "start_time": "2024-11-10T07:31:10.875124Z"
    }
   },
   "cell_type": "code",
   "source": [
    "# loop over set ??\n",
    "for item in ss:\n",
    "    print(f\"item = {item}\")"
   ],
   "id": "9b1afa81e0c44bc3",
   "outputs": [
    {
     "name": "stdout",
     "output_type": "stream",
     "text": [
      "item = dfdf\n",
      "item = jkhskjhsfhk\n",
      "item = Hasnaa\n",
      "item = noha\n",
      "item = kjfskjhf\n"
     ]
    }
   ],
   "execution_count": 21
  },
  {
   "metadata": {
    "ExecuteTime": {
     "end_time": "2024-11-10T07:31:58.536148Z",
     "start_time": "2024-11-10T07:31:58.518325Z"
    }
   },
   "cell_type": "code",
   "source": [
    "# remove specific element (I know that this element exists)\n",
    "ss.remove(\"noha\")\n",
    "print(ss)"
   ],
   "id": "8b5e9357743637df",
   "outputs": [
    {
     "name": "stdout",
     "output_type": "stream",
     "text": [
      "{'dfdf', 'jkhskjhsfhk', 'Hasnaa', 'kjfskjhf'}\n"
     ]
    }
   ],
   "execution_count": 22
  },
  {
   "metadata": {
    "ExecuteTime": {
     "end_time": "2024-11-10T07:35:09.954528Z",
     "start_time": "2024-11-10T07:35:09.936384Z"
    }
   },
   "cell_type": "code",
   "source": [
    "strr = \"information technology institute\"\n",
    "mystr = set(strr)\n",
    "print(mystr)"
   ],
   "id": "cfcffdb5f04828b1",
   "outputs": [
    {
     "name": "stdout",
     "output_type": "stream",
     "text": [
      "{'a', 'l', 'i', ' ', 'g', 'o', 't', 'n', 'e', 'f', 'h', 'u', 'c', 'r', 'm', 'y', 's'}\n"
     ]
    }
   ],
   "execution_count": 23
  },
  {
   "metadata": {
    "ExecuteTime": {
     "end_time": "2024-11-10T07:36:13.153022Z",
     "start_time": "2024-11-10T07:36:13.127668Z"
    }
   },
   "cell_type": "code",
   "source": "print(\"_\".join(mystr))",
   "id": "22be27901dbde991",
   "outputs": [
    {
     "name": "stdout",
     "output_type": "stream",
     "text": [
      "a_l_i_ _g_o_t_n_e_f_h_u_c_r_m_y_s\n"
     ]
    }
   ],
   "execution_count": 24
  },
  {
   "metadata": {
    "ExecuteTime": {
     "end_time": "2024-11-10T07:37:52.601831Z",
     "start_time": "2024-11-10T07:37:52.584477Z"
    }
   },
   "cell_type": "code",
   "source": [
    "paragraph = \"My name is noha my full name is noha Abdelhady my car is black\"\n",
    "words = paragraph.split(' ')\n",
    "print(words)"
   ],
   "id": "8ca1b17b66334a9e",
   "outputs": [
    {
     "name": "stdout",
     "output_type": "stream",
     "text": [
      "['My', 'name', 'is', 'noha', 'my', 'full', 'name', 'is', 'noha', 'Abdelhady', 'my', 'car', 'is', 'black']\n"
     ]
    }
   ],
   "execution_count": 25
  },
  {
   "metadata": {
    "ExecuteTime": {
     "end_time": "2024-11-10T07:38:09.777130Z",
     "start_time": "2024-11-10T07:38:09.771122Z"
    }
   },
   "cell_type": "code",
   "source": [
    "words_set= set(words)\n",
    "print(words_set)"
   ],
   "id": "7e7a6bc07cf65b10",
   "outputs": [
    {
     "name": "stdout",
     "output_type": "stream",
     "text": [
      "{'name', 'Abdelhady', 'car', 'is', 'my', 'black', 'noha', 'My', 'full'}\n"
     ]
    }
   ],
   "execution_count": 26
  },
  {
   "metadata": {},
   "cell_type": "code",
   "outputs": [],
   "execution_count": null,
   "source": "",
   "id": "d4a71c22ced33cab"
  }
 ],
 "metadata": {
  "kernelspec": {
   "display_name": "Python 3",
   "language": "python",
   "name": "python3"
  },
  "language_info": {
   "codemirror_mode": {
    "name": "ipython",
    "version": 2
   },
   "file_extension": ".py",
   "mimetype": "text/x-python",
   "name": "python",
   "nbconvert_exporter": "python",
   "pygments_lexer": "ipython2",
   "version": "2.7.6"
  }
 },
 "nbformat": 4,
 "nbformat_minor": 5
}
