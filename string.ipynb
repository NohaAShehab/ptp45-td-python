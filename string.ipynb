{
 "cells": [
  {
   "metadata": {},
   "cell_type": "markdown",
   "source": "# define the string ",
   "id": "4121cb53f5ce0d23"
  },
  {
   "cell_type": "code",
   "id": "initial_id",
   "metadata": {
    "collapsed": true
   },
   "source": [
    "message = 'we are happy'\n",
    "print(message)"
   ],
   "outputs": [],
   "execution_count": null
  },
  {
   "metadata": {},
   "cell_type": "markdown",
   "source": "# get length of string",
   "id": "a9c9688375aaee13"
  },
  {
   "metadata": {},
   "cell_type": "code",
   "source": "print(len(message))",
   "id": "33bf24bfb3849bb",
   "outputs": [],
   "execution_count": null
  },
  {
   "metadata": {},
   "cell_type": "code",
   "source": "print(message.count('e'))",
   "id": "c3a3e6b17dcf1ca",
   "outputs": [],
   "execution_count": null
  },
  {
   "metadata": {},
   "cell_type": "markdown",
   "source": "# check if char exists in string ",
   "id": "a5e5adc8c4f3ce91"
  },
  {
   "metadata": {},
   "cell_type": "code",
   "source": "print(\"n\" in message)",
   "id": "a7c3761b121a6f65",
   "outputs": [],
   "execution_count": null
  },
  {
   "metadata": {},
   "cell_type": "markdown",
   "source": "# get char at index",
   "id": "e36e12bc44de39ff"
  },
  {
   "metadata": {},
   "cell_type": "code",
   "source": "print(message[7])",
   "id": "68f5edb4c59cb63e",
   "outputs": [],
   "execution_count": null
  },
  {
   "metadata": {},
   "cell_type": "markdown",
   "source": "# slicing the string ?",
   "id": "b17bbb7234a1b081"
  },
  {
   "metadata": {},
   "cell_type": "code",
   "source": "print(message[4:])",
   "id": "fe7015ecec770c87",
   "outputs": [],
   "execution_count": null
  },
  {
   "metadata": {},
   "cell_type": "code",
   "source": "print(message[4:8])",
   "id": "e542afecb7ca2915",
   "outputs": [],
   "execution_count": null
  },
  {
   "metadata": {},
   "cell_type": "code",
   "source": "print(message[::])",
   "id": "599613d223ed050",
   "outputs": [],
   "execution_count": null
  },
  {
   "metadata": {},
   "cell_type": "code",
   "source": "print(message[::2])\n",
   "id": "d89e5d162f7db791",
   "outputs": [],
   "execution_count": null
  },
  {
   "metadata": {},
   "cell_type": "code",
   "source": "print(message[::-1])\n",
   "id": "86613ae67e24410",
   "outputs": [],
   "execution_count": null
  },
  {
   "metadata": {},
   "cell_type": "markdown",
   "source": "# can I replace char at certain position in python?",
   "id": "d8f01d6076389ab3"
  },
  {
   "metadata": {},
   "cell_type": "code",
   "source": [
    "message[1]=\"$\"\n",
    "print(message)"
   ],
   "id": "b54c7ab5884461a",
   "outputs": [],
   "execution_count": null
  },
  {
   "metadata": {},
   "cell_type": "markdown",
   "source": [
    "# string is immutable datatype\n",
    "immutable 00> once created cannot be changed."
   ],
   "id": "105eb0fa07eb11a5"
  },
  {
   "metadata": {},
   "cell_type": "markdown",
   "source": "# change string content ---> but via creating new string ",
   "id": "d4fba69c2a315e6"
  },
  {
   "metadata": {},
   "cell_type": "markdown",
   "source": "# replace",
   "id": "3a7b3657e290d0d4"
  },
  {
   "metadata": {},
   "cell_type": "code",
   "source": [
    "message = 'we are happy e e e '\n",
    "abbass_message=message.replace(\"e\", \"$\") #return new string\n",
    "print(message)\n",
    "\n",
    "# message = message.replace(\"e\", \"$\")   # reassign variable with the new value "
   ],
   "id": "ef4b2833602ae436",
   "outputs": [],
   "execution_count": null
  },
  {
   "metadata": {},
   "cell_type": "code",
   "source": [
    "updated_message= message.replace(\"e\", \"$\", 2) #return new string\n",
    "print(updated_message)"
   ],
   "id": "afd3b40f8b5cf755",
   "outputs": [],
   "execution_count": null
  },
  {
   "metadata": {},
   "cell_type": "code",
   "source": [
    "updated_message= updated_message.replace(\"$\", \"e\", 1) #return new string\n",
    "print(updated_message)"
   ],
   "id": "86d908b3b6aaa545",
   "outputs": [],
   "execution_count": null
  },
  {
   "metadata": {},
   "cell_type": "code",
   "source": "print(message)",
   "id": "f73e693ca51daac6",
   "outputs": [],
   "execution_count": null
  },
  {
   "metadata": {},
   "cell_type": "code",
   "source": [
    "usename = 'moaz salem'\n",
    "print(usename.upper())  # return new string "
   ],
   "id": "8893150a5d9e7111",
   "outputs": [],
   "execution_count": null
  },
  {
   "metadata": {},
   "cell_type": "code",
   "source": "print(usename.lower())",
   "id": "7305905b20443fcd",
   "outputs": [],
   "execution_count": null
  },
  {
   "metadata": {},
   "cell_type": "code",
   "source": "print(usename.capitalize())",
   "id": "57a53c27131df0f5",
   "outputs": [],
   "execution_count": null
  },
  {
   "metadata": {},
   "cell_type": "code",
   "source": "print(usename.title())",
   "id": "9d738356ab2ac050",
   "outputs": [],
   "execution_count": null
  },
  {
   "metadata": {},
   "cell_type": "markdown",
   "source": [
    " # string1  + string 2\n",
    " \n",
    "# string concatenation"
   ],
   "id": "a3267cde756efe05"
  },
  {
   "metadata": {},
   "cell_type": "code",
   "source": [
    "fname = 'noha'\n",
    "midname = 'abdelhady'\n",
    "lname = 'shehab'\n"
   ],
   "id": "300c0469c1967fa7",
   "outputs": [],
   "execution_count": null
  },
  {
   "metadata": {},
   "cell_type": "code",
   "source": [
    "fullname = fname  + midname \n",
    "print(fullname)"
   ],
   "id": "56fabdcc3dcfb467",
   "outputs": [],
   "execution_count": null
  },
  {
   "metadata": {},
   "cell_type": "code",
   "source": [
    "fullname = fname  + midname + lname\n",
    "print(fullname)"
   ],
   "id": "c5616823d0ebef1b",
   "outputs": [],
   "execution_count": null
  },
  {
   "metadata": {},
   "cell_type": "code",
   "source": [
    "fullname = fname +\" \" + midname + \" \" + lname \n",
    "print(fullname)"
   ],
   "id": "e04ed03a5ba29ab3",
   "outputs": [],
   "execution_count": null
  },
  {
   "metadata": {},
   "cell_type": "code",
   "source": [
    "fullname = fname  + midname  + 5\n",
    "print(fullname)"
   ],
   "id": "4d4ca6eb84bf7ff1",
   "outputs": [],
   "execution_count": null
  },
  {
   "metadata": {},
   "cell_type": "code",
   "source": [
    "num = 10\n",
    "fullname = fname  + midname + str(5) + str(num)\n",
    "print(fullname)"
   ],
   "id": "9ecb77f4072e69ba",
   "outputs": [],
   "execution_count": null
  },
  {
   "metadata": {},
   "cell_type": "code",
   "source": [
    "no_of_students = 12\n",
    "coursename = 'python'\n",
    "# msg = \"We have   in    coursename\"\n",
    "msg = \"We have \" + str(no_of_students) +  \" students in \" +  coursename\n",
    "\n",
    "print(msg)"
   ],
   "id": "eb622a18abd9b504",
   "outputs": [],
   "execution_count": null
  },
  {
   "metadata": {
    "ExecuteTime": {
     "end_time": "2024-11-02T13:36:09.047018Z",
     "start_time": "2024-11-02T13:36:09.042098Z"
    }
   },
   "cell_type": "code",
   "source": [
    "#### format \n",
    "temp = \"we have  {0}  students in  {1} course\"\n",
    "print(temp)"
   ],
   "id": "ad6dec0ba5cc520e",
   "outputs": [
    {
     "name": "stdout",
     "output_type": "stream",
     "text": [
      "we have  {0}  students in  {1} course\n"
     ]
    }
   ],
   "execution_count": 60
  },
  {
   "metadata": {
    "ExecuteTime": {
     "end_time": "2024-11-02T13:36:22.303258Z",
     "start_time": "2024-11-02T13:36:22.295727Z"
    }
   },
   "cell_type": "code",
   "source": [
    "newstr = temp.format(no_of_students, coursename)\n",
    "print(newstr)"
   ],
   "id": "e80ad2e7e9b8b50e",
   "outputs": [
    {
     "name": "stdout",
     "output_type": "stream",
     "text": [
      "we have  12  students in  python course\n"
     ]
    }
   ],
   "execution_count": 61
  },
  {
   "metadata": {},
   "cell_type": "code",
   "source": "print(temp.format(12, \"English\")) # return with new string",
   "id": "e3ad6282f747e99d",
   "outputs": [],
   "execution_count": null
  },
  {
   "metadata": {},
   "cell_type": "code",
   "source": "print(temp)",
   "id": "91c558f4bbc447af",
   "outputs": [],
   "execution_count": null
  },
  {
   "metadata": {},
   "cell_type": "markdown",
   "source": "# f- format  --> creating new strings depends on existing variables ",
   "id": "8e3e7b4a2ae54ca"
  },
  {
   "metadata": {
    "ExecuteTime": {
     "end_time": "2024-11-02T13:33:09.587991Z",
     "start_time": "2024-11-02T13:33:09.584594Z"
    }
   },
   "cell_type": "code",
   "source": [
    "branch = \"New capital\"\n",
    "location  = \"Knowledge City\"\n",
    "# build template ---> based on existing variables \n",
    "info  = f'we are at iti {branch} located in {location}'\n",
    "print(info)\n"
   ],
   "id": "3c64d983371cac71",
   "outputs": [
    {
     "name": "stdout",
     "output_type": "stream",
     "text": [
      "we are at iti New capital located in Knowledge City\n"
     ]
    }
   ],
   "execution_count": 58
  },
  {
   "metadata": {
    "ExecuteTime": {
     "end_time": "2024-11-02T13:33:40.051322Z",
     "start_time": "2024-11-02T13:33:40.038315Z"
    }
   },
   "cell_type": "code",
   "source": [
    "# constructing string >> depends on existing variables \n",
    "# build template ---> based on existing variables \n",
    "info  = f'we are at iti {branchh} located in {locationn}'\n",
    "print(info)\n"
   ],
   "id": "ffed123460913b63",
   "outputs": [
    {
     "ename": "NameError",
     "evalue": "name 'branchh' is not defined",
     "output_type": "error",
     "traceback": [
      "\u001B[0;31m---------------------------------------------------------------------------\u001B[0m",
      "\u001B[0;31mNameError\u001B[0m                                 Traceback (most recent call last)",
      "Cell \u001B[0;32mIn[59], line 3\u001B[0m\n\u001B[1;32m      1\u001B[0m \u001B[38;5;66;03m# constructing string >> depends on existing variables \u001B[39;00m\n\u001B[1;32m      2\u001B[0m \u001B[38;5;66;03m# build template ---> based on existing variables \u001B[39;00m\n\u001B[0;32m----> 3\u001B[0m info  \u001B[38;5;241m=\u001B[39m \u001B[38;5;124mf\u001B[39m\u001B[38;5;124m'\u001B[39m\u001B[38;5;124mwe are at iti \u001B[39m\u001B[38;5;132;01m{\u001B[39;00m\u001B[43mbranchh\u001B[49m\u001B[38;5;132;01m}\u001B[39;00m\u001B[38;5;124m located in \u001B[39m\u001B[38;5;132;01m{\u001B[39;00mlocationn\u001B[38;5;132;01m}\u001B[39;00m\u001B[38;5;124m'\u001B[39m\n\u001B[1;32m      4\u001B[0m \u001B[38;5;28mprint\u001B[39m(info)\n",
      "\u001B[0;31mNameError\u001B[0m: name 'branchh' is not defined"
     ]
    }
   ],
   "execution_count": 59
  },
  {
   "metadata": {},
   "cell_type": "markdown",
   "source": "# ask user to enter input",
   "id": "7629b331b64bed4b"
  },
  {
   "metadata": {},
   "cell_type": "code",
   "source": [
    "firstname=input(\"please enter yourname\")  # always save userinput as string # \n",
    "print(firstname, type(firstname))"
   ],
   "id": "1cebc425c65f2593",
   "outputs": [],
   "execution_count": null
  },
  {
   "metadata": {},
   "cell_type": "code",
   "source": [
    "firstname = input(\"please enter first name: \")\n",
    "lastname=input(\"please enter last name: \")\n",
    "fullname = f\"{firstname} {lastname}\"\n",
    "print(fullname)"
   ],
   "id": "7d73b8c05e8cd6d6",
   "outputs": [],
   "execution_count": null
  },
  {
   "metadata": {},
   "cell_type": "code",
   "source": [
    "infooo = f\"{mmm} {sss}\"\n",
    "mmm = input(\"please enter mmm: \")\n",
    "sss = input(\"please enter sss: \")\n"
   ],
   "id": "63d1034ced7c336b",
   "outputs": [],
   "execution_count": null
  },
  {
   "metadata": {},
   "cell_type": "code",
   "source": "",
   "id": "a93ebcb1588dfa2e",
   "outputs": [],
   "execution_count": null
  }
 ],
 "metadata": {
  "kernelspec": {
   "display_name": "Python 3",
   "language": "python",
   "name": "python3"
  },
  "language_info": {
   "codemirror_mode": {
    "name": "ipython",
    "version": 2
   },
   "file_extension": ".py",
   "mimetype": "text/x-python",
   "name": "python",
   "nbconvert_exporter": "python",
   "pygments_lexer": "ipython2",
   "version": "2.7.6"
  }
 },
 "nbformat": 4,
 "nbformat_minor": 5
}
