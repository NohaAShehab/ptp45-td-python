{
 "cells": [
  {
   "cell_type": "code",
   "id": "initial_id",
   "metadata": {
    "collapsed": true,
    "ExecuteTime": {
     "end_time": "2024-11-03T08:05:14.941378Z",
     "start_time": "2024-11-03T08:05:14.937809Z"
    }
   },
   "source": "print(\"Hello from strings \")",
   "outputs": [
    {
     "name": "stdout",
     "output_type": "stream",
     "text": [
      "Hello from strings \n"
     ]
    }
   ],
   "execution_count": 1
  },
  {
   "metadata": {
    "ExecuteTime": {
     "end_time": "2024-11-03T08:18:30.811834Z",
     "start_time": "2024-11-03T08:18:26.556851Z"
    }
   },
   "cell_type": "code",
   "source": [
    "num = input(\"please enter a number: \")\n",
    "print(num, type(num))\n",
    "print(num.isdigit())\n",
    "print(num.isnumeric())"
   ],
   "id": "da92009f720b9262",
   "outputs": [
    {
     "name": "stdout",
     "output_type": "stream",
     "text": [
      "-20 <class 'str'>\n",
      "False\n",
      "False\n"
     ]
    }
   ],
   "execution_count": 7
  },
  {
   "metadata": {
    "ExecuteTime": {
     "end_time": "2024-11-03T08:22:32.799646Z",
     "start_time": "2024-11-03T08:22:28.881348Z"
    }
   },
   "cell_type": "code",
   "source": [
    "age = input(\"please enter your age: \")\n",
    "if age.isdigit():\n",
    "    age = int(age)\n",
    "    age = age * 10\n",
    "    print(f\"age * 10 {age}\")\n",
    "else:\n",
    "    print(\"please enter a valid number \")"
   ],
   "id": "8c78b46f2a3dc3e6",
   "outputs": [
    {
     "name": "stdout",
     "output_type": "stream",
     "text": [
      "please enter a valid number \n"
     ]
    }
   ],
   "execution_count": 9
  },
  {
   "metadata": {
    "ExecuteTime": {
     "end_time": "2024-11-03T08:24:08.638973Z",
     "start_time": "2024-11-03T08:24:03.202607Z"
    }
   },
   "cell_type": "code",
   "source": [
    "name = input(\"please enter your name: \")\n",
    "if name.isalpha():\n",
    "    print(f\"You entered your name correctly {name}\")\n",
    "else:\n",
    "    print(\"Name must consist of only alphabetic characters\")"
   ],
   "id": "21427c0e6acb2c2",
   "outputs": [
    {
     "name": "stdout",
     "output_type": "stream",
     "text": [
      "You entered your name correctly noha\n"
     ]
    }
   ],
   "execution_count": 11
  },
  {
   "metadata": {},
   "cell_type": "code",
   "outputs": [],
   "execution_count": null,
   "source": "",
   "id": "b0da40e145845ad8"
  }
 ],
 "metadata": {
  "kernelspec": {
   "display_name": "Python 3",
   "language": "python",
   "name": "python3"
  },
  "language_info": {
   "codemirror_mode": {
    "name": "ipython",
    "version": 2
   },
   "file_extension": ".py",
   "mimetype": "text/x-python",
   "name": "python",
   "nbconvert_exporter": "python",
   "pygments_lexer": "ipython2",
   "version": "2.7.6"
  }
 },
 "nbformat": 4,
 "nbformat_minor": 5
}
