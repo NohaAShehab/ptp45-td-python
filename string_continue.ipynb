{
 "cells": [
  {
   "cell_type": "code",
   "id": "initial_id",
   "metadata": {
    "collapsed": true,
    "ExecuteTime": {
     "end_time": "2024-11-03T08:05:14.941378Z",
     "start_time": "2024-11-03T08:05:14.937809Z"
    }
   },
   "source": "print(\"Hello from strings \")",
   "outputs": [
    {
     "name": "stdout",
     "output_type": "stream",
     "text": [
      "Hello from strings \n"
     ]
    }
   ],
   "execution_count": 1
  },
  {
   "metadata": {
    "ExecuteTime": {
     "end_time": "2024-11-03T08:18:30.811834Z",
     "start_time": "2024-11-03T08:18:26.556851Z"
    }
   },
   "cell_type": "code",
   "source": [
    "num = input(\"please enter a number: \")\n",
    "print(num, type(num))\n",
    "print(num.isdigit())\n",
    "print(num.isnumeric())"
   ],
   "id": "da92009f720b9262",
   "outputs": [
    {
     "name": "stdout",
     "output_type": "stream",
     "text": [
      "-20 <class 'str'>\n",
      "False\n",
      "False\n"
     ]
    }
   ],
   "execution_count": 7
  },
  {
   "metadata": {
    "ExecuteTime": {
     "end_time": "2024-11-03T08:22:32.799646Z",
     "start_time": "2024-11-03T08:22:28.881348Z"
    }
   },
   "cell_type": "code",
   "source": [
    "age = input(\"please enter your age: \")\n",
    "if age.isdigit():\n",
    "    age = int(age)\n",
    "    age = age * 10\n",
    "    print(f\"age * 10 {age}\")\n",
    "else:\n",
    "    print(\"please enter a valid number \")"
   ],
   "id": "8c78b46f2a3dc3e6",
   "outputs": [
    {
     "name": "stdout",
     "output_type": "stream",
     "text": [
      "please enter a valid number \n"
     ]
    }
   ],
   "execution_count": 9
  },
  {
   "metadata": {
    "ExecuteTime": {
     "end_time": "2024-11-03T08:24:08.638973Z",
     "start_time": "2024-11-03T08:24:03.202607Z"
    }
   },
   "cell_type": "code",
   "source": [
    "name = input(\"please enter your name: \")\n",
    "if name.isalpha():\n",
    "    print(f\"You entered your name correctly {name}\")\n",
    "else:\n",
    "    print(\"Name must consist of only alphabetic characters\")"
   ],
   "id": "21427c0e6acb2c2",
   "outputs": [
    {
     "name": "stdout",
     "output_type": "stream",
     "text": [
      "You entered your name correctly noha\n"
     ]
    }
   ],
   "execution_count": 11
  },
  {
   "metadata": {
    "ExecuteTime": {
     "end_time": "2024-11-03T08:59:13.225662Z",
     "start_time": "2024-11-03T08:59:06.293359Z"
    }
   },
   "cell_type": "code",
   "source": [
    "num1 = input(\"please enter your first number: \")\n",
    "print(num1, type(num1))\n",
    "num2 = input(\"please enter your second number: \") # return string \n",
    "print(num2, type(num2))\n",
    "# \n",
    "if num1.isdigit():\n",
    "    num1 =int(num1) # 2  int \n",
    "    res = num1 * num2 # multiply string * number ---> \n",
    "    print(res, type(res))\n",
    "# elif num2.isdigit():\n",
    "#     num2 =int(num2)\n",
    "#     print(num2 * num1)\n",
    "# else:\n",
    "#     print(\"please enter a valid number \")"
   ],
   "id": "b0da40e145845ad8",
   "outputs": [
    {
     "name": "stdout",
     "output_type": "stream",
     "text": [
      "5 <class 'str'>\n",
      "100 <class 'str'>\n",
      "100100100100100 <class 'str'>\n"
     ]
    }
   ],
   "execution_count": 16
  },
  {
   "metadata": {},
   "cell_type": "markdown",
   "source": "# string interpolation",
   "id": "374f7a90da501b09"
  },
  {
   "metadata": {
    "ExecuteTime": {
     "end_time": "2024-11-03T08:58:16.463903Z",
     "start_time": "2024-11-03T08:58:16.455460Z"
    }
   },
   "cell_type": "code",
   "source": [
    "var = \"iti_\"\n",
    "# you can return new string --> repeated n times ??\n",
    "newstr = var * 5\n",
    "print(newstr)"
   ],
   "id": "5ab9ae89e3734758",
   "outputs": [
    {
     "name": "stdout",
     "output_type": "stream",
     "text": [
      "iti_iti_iti_iti_iti_\n"
     ]
    }
   ],
   "execution_count": 15
  },
  {
   "metadata": {
    "ExecuteTime": {
     "end_time": "2024-11-03T09:00:47.636220Z",
     "start_time": "2024-11-03T09:00:41.110790Z"
    }
   },
   "cell_type": "code",
   "source": [
    "num1 = input(\"please enter your first number: \")\n",
    "print(num1, type(num1))\n",
    "num2 = input(\"please enter your second number: \") # return string \n",
    "print(num2, type(num2))\n",
    "# \n",
    "if num1.isdigit():\n",
    "    print(\"here in if \")\n",
    "    num1 =int(num1) # 2  int \n",
    "elif num2.isdigit():\n",
    "    print(\"here in else \")\n",
    "    num2 =int(num2)\n",
    "    print(num2 * num1)\n",
    "# else:\n",
    "#     print(\"please enter a valid number \")"
   ],
   "id": "a28e52e070f425fd",
   "outputs": [
    {
     "name": "stdout",
     "output_type": "stream",
     "text": [
      "5 <class 'str'>\n",
      "4 <class 'str'>\n",
      "here in if \n"
     ]
    }
   ],
   "execution_count": 18
  },
  {
   "metadata": {
    "ExecuteTime": {
     "end_time": "2024-11-03T09:06:35.518026Z",
     "start_time": "2024-11-03T09:06:30.044310Z"
    }
   },
   "cell_type": "code",
   "source": [
    "num1 = input(\"please enter your first number: \")\n",
    "print(num1, type(num1))\n",
    "num2 = input(\"please enter your second number: \") # return string \n",
    "print(num2, type(num2))\n",
    "# \n",
    "if num1.isdigit() and num2.isdigit():\n",
    "    num1 =int(num1) # 2  int \n",
    "    num2 =int(num2)\n",
    "    print(num2 * num1)\n",
    "else:\n",
    "    print(\"Num1 and Num2 are not integers \")"
   ],
   "id": "9d58aa409c6e00ae",
   "outputs": [
    {
     "name": "stdout",
     "output_type": "stream",
     "text": [
      "4 <class 'str'>\n",
      "7 <class 'str'>\n",
      "28\n"
     ]
    }
   ],
   "execution_count": 22
  },
  {
   "metadata": {
    "ExecuteTime": {
     "end_time": "2024-11-03T09:10:25.092317Z",
     "start_time": "2024-11-03T09:10:22.068027Z"
    }
   },
   "cell_type": "code",
   "source": [
    "num1 = input(\"please enter your first number: \")\n",
    "validnum1  = False\n",
    "validnum2 = False\n",
    "print(num1, type(num1))\n",
    "if num1.isdigit():\n",
    "    num1 =int(num1)\n",
    "    validnum1 = True \n",
    "else:\n",
    "    print(\"Num1 must be integer\")\n",
    "    \n",
    "num2 = input(\"please enter your second number: \") # return string \n",
    "print(num2, type(num2))\n",
    "if num2.isdigit():\n",
    "    num2 =int(num2)\n",
    "    validnum2 = True\n",
    "else:\n",
    "    print(\"Num2 must be integer\")\n",
    "    \n",
    "if validnum1 and validnum2:\n",
    "    print(num1* num2)\n",
    "else:\n",
    "    print(\"----- in-applicable operation\")"
   ],
   "id": "42ce91ca8c738c44",
   "outputs": [
    {
     "name": "stdout",
     "output_type": "stream",
     "text": [
      "yty <class 'str'>\n",
      "Num1 must be integer\n",
      "tyy <class 'str'>\n",
      "Num2 must be integer\n",
      "----- in-applicable operation\n"
     ]
    }
   ],
   "execution_count": 28
  },
  {
   "metadata": {},
   "cell_type": "markdown",
   "source": "# for in loop ",
   "id": "52165d257acc24ab"
  },
  {
   "metadata": {
    "ExecuteTime": {
     "end_time": "2024-11-03T09:31:16.065345Z",
     "start_time": "2024-11-03T09:31:16.059895Z"
    }
   },
   "cell_type": "code",
   "source": [
    "mood = \"happy\"\n",
    "\n",
    "for mared in mood:\n",
    "    print(mared, mared.upper())"
   ],
   "id": "4875301ade46f6dc",
   "outputs": [
    {
     "name": "stdout",
     "output_type": "stream",
     "text": [
      "h H\n",
      "a A\n",
      "p P\n",
      "p P\n",
      "y Y\n"
     ]
    }
   ],
   "execution_count": 30
  },
  {
   "metadata": {},
   "cell_type": "markdown",
   "source": "# isspace",
   "id": "2186907a1a7895be"
  },
  {
   "metadata": {
    "ExecuteTime": {
     "end_time": "2024-11-03T09:40:26.999551Z",
     "start_time": "2024-11-03T09:40:14.728023Z"
    }
   },
   "cell_type": "code",
   "source": [
    "dim = input(\"please enter dimention\")\n",
    "print(dim, len(dim))"
   ],
   "id": "7e3327678a5016aa",
   "outputs": [
    {
     "name": "stdout",
     "output_type": "stream",
     "text": [
      " 0\n"
     ]
    }
   ],
   "execution_count": 31
  },
  {
   "metadata": {},
   "cell_type": "markdown",
   "source": "# strip the string ",
   "id": "488335f073f5cc54"
  },
  {
   "metadata": {
    "ExecuteTime": {
     "end_time": "2024-11-03T09:52:02.595116Z",
     "start_time": "2024-11-03T09:52:02.588306Z"
    }
   },
   "cell_type": "code",
   "source": [
    "name = \"                noha shehab                                 \"\n",
    "print(name, len(name))"
   ],
   "id": "eabb594bb6df0f26",
   "outputs": [
    {
     "name": "stdout",
     "output_type": "stream",
     "text": [
      "                noha shehab                                  60\n"
     ]
    }
   ],
   "execution_count": 32
  },
  {
   "metadata": {
    "ExecuteTime": {
     "end_time": "2024-11-03T09:52:33.374904Z",
     "start_time": "2024-11-03T09:52:33.367207Z"
    }
   },
   "cell_type": "code",
   "source": [
    "newname = name.strip()  # strip white spaces from the beginning and the end of the string \n",
    "print(newname, len(newname))"
   ],
   "id": "5b6ca0c01fa91474",
   "outputs": [
    {
     "name": "stdout",
     "output_type": "stream",
     "text": [
      "noha shehab 11\n"
     ]
    }
   ],
   "execution_count": 33
  },
  {
   "metadata": {
    "ExecuteTime": {
     "end_time": "2024-11-03T09:53:36.412968Z",
     "start_time": "2024-11-03T09:53:36.408624Z"
    }
   },
   "cell_type": "code",
   "source": [
    "message =\"we     love     python               \"\n",
    "newmessage = message.strip()\n",
    "print(newmessage)\n"
   ],
   "id": "368200c975f83312",
   "outputs": [
    {
     "name": "stdout",
     "output_type": "stream",
     "text": [
      "we      love      python\n"
     ]
    }
   ],
   "execution_count": 34
  },
  {
   "metadata": {
    "ExecuteTime": {
     "end_time": "2024-11-03T09:54:04.790564Z",
     "start_time": "2024-11-03T09:54:04.787708Z"
    }
   },
   "cell_type": "code",
   "source": [
    "newmessage = newmessage.replace(\" \",\"\")\n",
    "print(newmessage)"
   ],
   "id": "872019db28d43dd0",
   "outputs": [
    {
     "name": "stdout",
     "output_type": "stream",
     "text": [
      "welovepython\n"
     ]
    }
   ],
   "execution_count": 35
  },
  {
   "metadata": {
    "ExecuteTime": {
     "end_time": "2024-11-03T09:56:16.207928Z",
     "start_time": "2024-11-03T09:56:16.205531Z"
    }
   },
   "cell_type": "code",
   "source": [
    "newmessage= message.title()\n",
    "print(newmessage)"
   ],
   "id": "8e2776497868fe8b",
   "outputs": [
    {
     "name": "stdout",
     "output_type": "stream",
     "text": [
      "We      Love      Python               \n"
     ]
    }
   ],
   "execution_count": 36
  },
  {
   "metadata": {
    "ExecuteTime": {
     "end_time": "2024-11-03T09:56:47.357754Z",
     "start_time": "2024-11-03T09:56:47.352290Z"
    }
   },
   "cell_type": "code",
   "source": "print(newmessage[::-1])",
   "id": "c32381ada65aa8d1",
   "outputs": [
    {
     "name": "stdout",
     "output_type": "stream",
     "text": [
      "               nohtyP      evoL      eW\n"
     ]
    }
   ],
   "execution_count": 38
  },
  {
   "metadata": {
    "ExecuteTime": {
     "end_time": "2024-11-03T09:59:57.364349Z",
     "start_time": "2024-11-03T09:59:57.360986Z"
    }
   },
   "cell_type": "code",
   "source": [
    "anystr = \"             we support Ghaza                      \"\n",
    "newstr1 = anystr.lstrip()  # remove spaces from the beginning only\n",
    "print(newstr1, len(newstr1))\n",
    "print(\"hi\")"
   ],
   "id": "a11bb7ef4df84c2b",
   "outputs": [
    {
     "name": "stdout",
     "output_type": "stream",
     "text": [
      "we support Ghaza                       38\n",
      "hi\n"
     ]
    }
   ],
   "execution_count": 43
  },
  {
   "metadata": {
    "ExecuteTime": {
     "end_time": "2024-11-03T09:58:49.292896Z",
     "start_time": "2024-11-03T09:58:49.287898Z"
    }
   },
   "cell_type": "code",
   "source": [
    "anystr = \"             we support Ghaza                      \"\n",
    "newstr1 = anystr.rstrip()\n",
    "print(newstr1, len(newstr1))"
   ],
   "id": "916138b071129e70",
   "outputs": [
    {
     "name": "stdout",
     "output_type": "stream",
     "text": [
      "             we support Ghaza 29\n"
     ]
    }
   ],
   "execution_count": 42
  },
  {
   "metadata": {
    "ExecuteTime": {
     "end_time": "2024-11-03T10:00:13.211198Z",
     "start_time": "2024-11-03T10:00:13.207214Z"
    }
   },
   "cell_type": "code",
   "source": "print(3,4,5)",
   "id": "7bf3f557a8fc02c6",
   "outputs": [
    {
     "name": "stdout",
     "output_type": "stream",
     "text": [
      "3 4 5\n"
     ]
    }
   ],
   "execution_count": 44
  },
  {
   "metadata": {},
   "cell_type": "code",
   "outputs": [],
   "execution_count": null,
   "source": "",
   "id": "12620fa4707cc8bf"
  }
 ],
 "metadata": {
  "kernelspec": {
   "display_name": "Python 3",
   "language": "python",
   "name": "python3"
  },
  "language_info": {
   "codemirror_mode": {
    "name": "ipython",
    "version": 2
   },
   "file_extension": ".py",
   "mimetype": "text/x-python",
   "name": "python",
   "nbconvert_exporter": "python",
   "pygments_lexer": "ipython2",
   "version": "2.7.6"
  }
 },
 "nbformat": 4,
 "nbformat_minor": 5
}
