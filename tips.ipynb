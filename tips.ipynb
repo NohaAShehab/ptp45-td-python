{
 "cells": [
  {
   "metadata": {},
   "cell_type": "markdown",
   "source": "# if condition",
   "id": "a66bba4ff7f76188"
  },
  {
   "cell_type": "code",
   "id": "initial_id",
   "metadata": {
    "collapsed": true,
    "ExecuteTime": {
     "end_time": "2024-11-09T09:56:04.743146Z",
     "start_time": "2024-11-09T09:56:04.735484Z"
    }
   },
   "source": [
    "grade =  59\n",
    "\n",
    "if grade == 59:\n",
    "    pass # null operation \n",
    "    \n",
    "    \n",
    "print(\"---- end the program ----\")"
   ],
   "outputs": [
    {
     "ename": "IndentationError",
     "evalue": "expected an indented block after 'if' statement on line 3 (1728636826.py, line 7)",
     "output_type": "error",
     "traceback": [
      "\u001B[0;36m  Cell \u001B[0;32mIn[1], line 7\u001B[0;36m\u001B[0m\n\u001B[0;31m    print(\"---- end the program ----\")\u001B[0m\n\u001B[0m    ^\u001B[0m\n\u001B[0;31mIndentationError\u001B[0m\u001B[0;31m:\u001B[0m expected an indented block after 'if' statement on line 3\n"
     ]
    }
   ],
   "execution_count": 1
  },
  {
   "metadata": {},
   "cell_type": "markdown",
   "source": "# in development phase only ",
   "id": "759c7ba2a72c1e66"
  },
  {
   "metadata": {},
   "cell_type": "code",
   "outputs": [],
   "execution_count": null,
   "source": [
    "for i in range(10):\n",
    "    pass \n",
    "\n"
   ],
   "id": "898d10e7afb2d971"
  }
 ],
 "metadata": {
  "kernelspec": {
   "display_name": "Python 3",
   "language": "python",
   "name": "python3"
  },
  "language_info": {
   "codemirror_mode": {
    "name": "ipython",
    "version": 2
   },
   "file_extension": ".py",
   "mimetype": "text/x-python",
   "name": "python",
   "nbconvert_exporter": "python",
   "pygments_lexer": "ipython2",
   "version": "2.7.6"
  }
 },
 "nbformat": 4,
 "nbformat_minor": 5
}
