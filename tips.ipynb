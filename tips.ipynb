{
 "cells": [
  {
   "cell_type": "code",
   "id": "initial_id",
   "metadata": {
    "collapsed": true,
    "ExecuteTime": {
     "end_time": "2024-11-10T09:12:05.414861Z",
     "start_time": "2024-11-10T09:12:05.410362Z"
    }
   },
   "source": [
    "myr  = range(100)\n",
    "print(list(myr))"
   ],
   "outputs": [
    {
     "name": "stdout",
     "output_type": "stream",
     "text": [
      "[0, 1, 2, 3, 4, 5, 6, 7, 8, 9, 10, 11, 12, 13, 14, 15, 16, 17, 18, 19, 20, 21, 22, 23, 24, 25, 26, 27, 28, 29, 30, 31, 32, 33, 34, 35, 36, 37, 38, 39, 40, 41, 42, 43, 44, 45, 46, 47, 48, 49, 50, 51, 52, 53, 54, 55, 56, 57, 58, 59, 60, 61, 62, 63, 64, 65, 66, 67, 68, 69, 70, 71, 72, 73, 74, 75, 76, 77, 78, 79, 80, 81, 82, 83, 84, 85, 86, 87, 88, 89, 90, 91, 92, 93, 94, 95, 96, 97, 98, 99]\n"
     ]
    }
   ],
   "execution_count": 1
  },
  {
   "metadata": {
    "ExecuteTime": {
     "end_time": "2024-11-10T09:12:29.687705Z",
     "start_time": "2024-11-10T09:12:29.682305Z"
    }
   },
   "cell_type": "code",
   "source": [
    "myr  = range(1, 100 , 2)\n",
    "print(list(myr))"
   ],
   "id": "9f7e1161c2e9977c",
   "outputs": [
    {
     "name": "stdout",
     "output_type": "stream",
     "text": [
      "[1, 3, 5, 7, 9, 11, 13, 15, 17, 19, 21, 23, 25, 27, 29, 31, 33, 35, 37, 39, 41, 43, 45, 47, 49, 51, 53, 55, 57, 59, 61, 63, 65, 67, 69, 71, 73, 75, 77, 79, 81, 83, 85, 87, 89, 91, 93, 95, 97, 99]\n"
     ]
    }
   ],
   "execution_count": 2
  },
  {
   "metadata": {
    "ExecuteTime": {
     "end_time": "2024-11-10T09:12:44.232630Z",
     "start_time": "2024-11-10T09:12:44.228535Z"
    }
   },
   "cell_type": "code",
   "source": [
    "myr  = range(100, 1 , 2 )\n",
    "print(list(myr))"
   ],
   "id": "55b317a2b7c9d756",
   "outputs": [
    {
     "name": "stdout",
     "output_type": "stream",
     "text": [
      "[]\n"
     ]
    }
   ],
   "execution_count": 3
  },
  {
   "metadata": {
    "ExecuteTime": {
     "end_time": "2024-11-10T09:13:04.621268Z",
     "start_time": "2024-11-10T09:13:04.602290Z"
    }
   },
   "cell_type": "code",
   "source": [
    "myr  = range(100, 1, -2)\n",
    "print(list(myr))"
   ],
   "id": "717d9e86a52c41c3",
   "outputs": [
    {
     "name": "stdout",
     "output_type": "stream",
     "text": [
      "[100, 98, 96, 94, 92, 90, 88, 86, 84, 82, 80, 78, 76, 74, 72, 70, 68, 66, 64, 62, 60, 58, 56, 54, 52, 50, 48, 46, 44, 42, 40, 38, 36, 34, 32, 30, 28, 26, 24, 22, 20, 18, 16, 14, 12, 10, 8, 6, 4, 2]\n"
     ]
    }
   ],
   "execution_count": 4
  },
  {
   "metadata": {
    "ExecuteTime": {
     "end_time": "2024-11-10T09:15:42.613918Z",
     "start_time": "2024-11-10T09:15:42.609894Z"
    }
   },
   "cell_type": "code",
   "source": [
    "# password \n",
    "rr = range(0, 19)\n",
    "print(list(rr))"
   ],
   "id": "85aebb6ea3a6e222",
   "outputs": [
    {
     "name": "stdout",
     "output_type": "stream",
     "text": [
      "[0, 1, 2, 3, 4, 5, 6, 7, 8, 9, 10, 11, 12, 13, 14, 15, 16, 17, 18]\n"
     ]
    }
   ],
   "execution_count": 7
  },
  {
   "metadata": {
    "ExecuteTime": {
     "end_time": "2024-11-10T09:21:22.726678Z",
     "start_time": "2024-11-10T09:21:16.292373Z"
    }
   },
   "cell_type": "code",
   "source": [
    "####### credit card  password - -> 3 times \n",
    "broken = False\n",
    "for i in range(3):\n",
    "    password = input(\"Enter password: \")\n",
    "    if password == \"abc\":\n",
    "        print(\"==== login successfully\")\n",
    "        broken = True\n",
    "        break \n",
    "        \n",
    "    print(\"------ please try again \")\n",
    "    \n",
    "if not broken:\n",
    "    print(\"--- the account has been locked\")\n",
    "\n"
   ],
   "id": "752bfa4e826b73ba",
   "outputs": [
    {
     "name": "stdout",
     "output_type": "stream",
     "text": [
      "------ please try again \n",
      "------ please try again \n",
      "==== login successfully\n"
     ]
    }
   ],
   "execution_count": 11
  },
  {
   "metadata": {
    "ExecuteTime": {
     "end_time": "2024-11-10T09:22:42.929984Z",
     "start_time": "2024-11-10T09:22:35.805370Z"
    }
   },
   "cell_type": "code",
   "source": [
    "for i in range(3):\n",
    "    password = input(\"Enter password: \")\n",
    "    if password == \"abc\":\n",
    "        print(\"==== login successfully\")\n",
    "        break \n",
    "        \n",
    "    print(\"------ please try again \")\n",
    "    \n",
    "else:\n",
    "    # this block will be executed only ??? if the loop wasn't broken \n",
    "    print(\"--- the account has been locked\")"
   ],
   "id": "efea2eb12550e675",
   "outputs": [
    {
     "name": "stdout",
     "output_type": "stream",
     "text": [
      "------ please try again \n",
      "------ please try again \n",
      "==== login successfully\n"
     ]
    }
   ],
   "execution_count": 13
  },
  {
   "metadata": {
    "ExecuteTime": {
     "end_time": "2024-11-10T09:23:49.227659Z",
     "start_time": "2024-11-10T09:23:49.222742Z"
    }
   },
   "cell_type": "code",
   "source": [
    "for num in range(10):\n",
    "    print(num)\n",
    "else:\n",
    "    print('---- for has been completed')"
   ],
   "id": "3ac19c896fa513aa",
   "outputs": [
    {
     "name": "stdout",
     "output_type": "stream",
     "text": [
      "0\n",
      "1\n",
      "2\n",
      "3\n",
      "4\n",
      "5\n",
      "6\n",
      "7\n",
      "8\n",
      "9\n",
      "---- for has been completed\n"
     ]
    }
   ],
   "execution_count": 15
  },
  {
   "metadata": {
    "ExecuteTime": {
     "end_time": "2024-11-10T09:24:15.685548Z",
     "start_time": "2024-11-10T09:24:15.680103Z"
    }
   },
   "cell_type": "code",
   "source": [
    "for num in range(10):\n",
    "    if num== 4:\n",
    "        break\n",
    "    print(num)\n",
    "    \n",
    "else:\n",
    "    print('---- for has been completed')"
   ],
   "id": "19390c0068c1ea1",
   "outputs": [
    {
     "name": "stdout",
     "output_type": "stream",
     "text": [
      "0\n",
      "1\n",
      "2\n",
      "3\n"
     ]
    }
   ],
   "execution_count": 16
  },
  {
   "metadata": {
    "ExecuteTime": {
     "end_time": "2024-11-10T09:24:27.899364Z",
     "start_time": "2024-11-10T09:24:27.892520Z"
    }
   },
   "cell_type": "code",
   "source": [
    "for num in range(10):\n",
    "    if num == 4:\n",
    "        continue\n",
    "    print(num)\n",
    "else:\n",
    "    print('---- for has been completed')"
   ],
   "id": "5b570f23f538faf2",
   "outputs": [
    {
     "name": "stdout",
     "output_type": "stream",
     "text": [
      "0\n",
      "1\n",
      "2\n",
      "3\n",
      "5\n",
      "6\n",
      "7\n",
      "8\n",
      "9\n",
      "---- for has been completed\n"
     ]
    }
   ],
   "execution_count": 17
  },
  {
   "metadata": {},
   "cell_type": "code",
   "outputs": [],
   "execution_count": null,
   "source": "",
   "id": "6a19a8fa36a9f9a6"
  }
 ],
 "metadata": {
  "kernelspec": {
   "display_name": "Python 3",
   "language": "python",
   "name": "python3"
  },
  "language_info": {
   "codemirror_mode": {
    "name": "ipython",
    "version": 2
   },
   "file_extension": ".py",
   "mimetype": "text/x-python",
   "name": "python",
   "nbconvert_exporter": "python",
   "pygments_lexer": "ipython2",
   "version": "2.7.6"
  }
 },
 "nbformat": 4,
 "nbformat_minor": 5
}
