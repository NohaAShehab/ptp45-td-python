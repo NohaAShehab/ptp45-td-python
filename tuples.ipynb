{
 "cells": [
  {
   "metadata": {},
   "cell_type": "markdown",
   "source": "# define the tuple",
   "id": "981d490d9d9b8f43"
  },
  {
   "cell_type": "code",
   "id": "initial_id",
   "metadata": {
    "collapsed": true,
    "ExecuteTime": {
     "end_time": "2024-11-09T08:55:15.321781Z",
     "start_time": "2024-11-09T08:55:15.303432Z"
    }
   },
   "source": [
    "t = ()\n",
    "myt = tuple()\n",
    "print(t, type(t))"
   ],
   "outputs": [
    {
     "name": "stdout",
     "output_type": "stream",
     "text": [
      "() <class 'tuple'>\n"
     ]
    }
   ],
   "execution_count": 2
  },
  {
   "metadata": {},
   "cell_type": "markdown",
   "source": "",
   "id": "ff2dc3ad3a3cc3e7"
  },
  {
   "metadata": {
    "ExecuteTime": {
     "end_time": "2024-11-09T08:56:31.432156Z",
     "start_time": "2024-11-09T08:56:31.427529Z"
    }
   },
   "cell_type": "code",
   "source": [
    "if t:\n",
    "    print(\"found\")\n",
    "else:\n",
    "    print(\"-- not found \")"
   ],
   "id": "8e82af893c75ac67",
   "outputs": [
    {
     "name": "stdout",
     "output_type": "stream",
     "text": [
      "-- not found \n"
     ]
    }
   ],
   "execution_count": 3
  },
  {
   "metadata": {},
   "cell_type": "markdown",
   "source": "# tuple is sequence --> can hold different data from different datatypes ",
   "id": "6df9e91b012ce71a"
  },
  {
   "metadata": {
    "ExecuteTime": {
     "end_time": "2024-11-09T08:59:05.552019Z",
     "start_time": "2024-11-09T08:59:05.540476Z"
    }
   },
   "cell_type": "code",
   "source": "myt= (\"Ahmed\", True, 344.233, 4+5j , None , \"iti\", ['3dmodeling', \"English\", 'softskills'], 4234, (\"Basel\", 'Sayed', \"Hasnaa\", \"Abanoub\"), \"day04\")",
   "id": "26e1fcc976166a51",
   "outputs": [],
   "execution_count": 4
  },
  {
   "metadata": {
    "ExecuteTime": {
     "end_time": "2024-11-09T08:59:30.576944Z",
     "start_time": "2024-11-09T08:59:30.559384Z"
    }
   },
   "cell_type": "code",
   "source": [
    "# 1- get len \n",
    "print(len(myt))"
   ],
   "id": "d1a7a4bbacd46a8d",
   "outputs": [
    {
     "name": "stdout",
     "output_type": "stream",
     "text": [
      "10\n"
     ]
    }
   ],
   "execution_count": 5
  },
  {
   "metadata": {
    "ExecuteTime": {
     "end_time": "2024-11-09T08:59:56.355769Z",
     "start_time": "2024-11-09T08:59:56.351667Z"
    }
   },
   "cell_type": "code",
   "source": "print(myt)",
   "id": "a69b79da3dbd5ea3",
   "outputs": [
    {
     "name": "stdout",
     "output_type": "stream",
     "text": [
      "('Ahmed', True, 344.233, (4+5j), None, 'iti', ['3dmodeling', 'English', 'softskills'], 4234, ('Basel', 'Sayed', 'Hasnaa', 'Abanoub'), 'day04')\n"
     ]
    }
   ],
   "execution_count": 6
  },
  {
   "metadata": {
    "ExecuteTime": {
     "end_time": "2024-11-09T09:00:18.369628Z",
     "start_time": "2024-11-09T09:00:18.353184Z"
    }
   },
   "cell_type": "code",
   "source": [
    "# get count of element\n",
    "print(myt.count(\"iti\"))"
   ],
   "id": "15a2baf4dc9456aa",
   "outputs": [
    {
     "name": "stdout",
     "output_type": "stream",
     "text": [
      "1\n"
     ]
    }
   ],
   "execution_count": 7
  },
  {
   "metadata": {
    "ExecuteTime": {
     "end_time": "2024-11-09T09:00:51.572200Z",
     "start_time": "2024-11-09T09:00:51.561286Z"
    }
   },
   "cell_type": "code",
   "source": [
    "# for loop --> tuple is iterable \n",
    "for item in myt:\n",
    "    print(f\"item = {item}\")"
   ],
   "id": "9edbffa7df1a5ef6",
   "outputs": [
    {
     "name": "stdout",
     "output_type": "stream",
     "text": [
      "item = Ahmed\n",
      "item = True\n",
      "item = 344.233\n",
      "item = (4+5j)\n",
      "item = None\n",
      "item = iti\n",
      "item = ['3dmodeling', 'English', 'softskills']\n",
      "item = 4234\n",
      "item = ('Basel', 'Sayed', 'Hasnaa', 'Abanoub')\n",
      "item = day04\n"
     ]
    }
   ],
   "execution_count": 8
  },
  {
   "metadata": {
    "ExecuteTime": {
     "end_time": "2024-11-09T09:01:33.033674Z",
     "start_time": "2024-11-09T09:01:33.021279Z"
    }
   },
   "cell_type": "code",
   "source": [
    "# get index of item ??\n",
    "print(myt.index(\"iti\")) # index of the first occurrence of the element"
   ],
   "id": "f2df0138401b3d59",
   "outputs": [
    {
     "name": "stdout",
     "output_type": "stream",
     "text": [
      "5\n"
     ]
    }
   ],
   "execution_count": 9
  },
  {
   "metadata": {
    "ExecuteTime": {
     "end_time": "2024-11-09T09:02:10.275424Z",
     "start_time": "2024-11-09T09:02:10.270942Z"
    }
   },
   "cell_type": "code",
   "source": [
    "# print item, index\n",
    "\n",
    "count= 0 \n",
    "for item in myt:\n",
    "    print(f\"item = {item}, index= {count}\")\n",
    "    count += 1"
   ],
   "id": "eed6ba135346d1b7",
   "outputs": [
    {
     "name": "stdout",
     "output_type": "stream",
     "text": [
      "item = Ahmed, index= 0\n",
      "item = True, index= 1\n",
      "item = 344.233, index= 2\n",
      "item = (4+5j), index= 3\n",
      "item = None, index= 4\n",
      "item = iti, index= 5\n",
      "item = ['3dmodeling', 'English', 'softskills'], index= 6\n",
      "item = 4234, index= 7\n",
      "item = ('Basel', 'Sayed', 'Hasnaa', 'Abanoub'), index= 8\n",
      "item = day04, index= 9\n"
     ]
    }
   ],
   "execution_count": 10
  },
  {
   "metadata": {},
   "cell_type": "markdown",
   "source": "# access element using index --> ",
   "id": "47c415aac0bd6dee"
  },
  {
   "metadata": {
    "ExecuteTime": {
     "end_time": "2024-11-09T09:03:02.449628Z",
     "start_time": "2024-11-09T09:03:02.444180Z"
    }
   },
   "cell_type": "code",
   "source": "print(myt[3])",
   "id": "2dcc5bc0400c644a",
   "outputs": [
    {
     "name": "stdout",
     "output_type": "stream",
     "text": [
      "(4+5j)\n"
     ]
    }
   ],
   "execution_count": 11
  },
  {
   "metadata": {
    "ExecuteTime": {
     "end_time": "2024-11-09T09:03:34.690438Z",
     "start_time": "2024-11-09T09:03:34.677575Z"
    }
   },
   "cell_type": "code",
   "source": "print(myt[8][2])",
   "id": "f38d7827c743a7fc",
   "outputs": [
    {
     "name": "stdout",
     "output_type": "stream",
     "text": [
      "Hasnaa\n"
     ]
    }
   ],
   "execution_count": 13
  },
  {
   "metadata": {
    "ExecuteTime": {
     "end_time": "2024-11-09T09:04:11.902086Z",
     "start_time": "2024-11-09T09:04:11.898129Z"
    }
   },
   "cell_type": "code",
   "source": [
    "#check if element exists or not \n",
    "print(\"noha\" in myt)"
   ],
   "id": "5cf1f0a86c5f3ab8",
   "outputs": [
    {
     "name": "stdout",
     "output_type": "stream",
     "text": [
      "False\n"
     ]
    }
   ],
   "execution_count": 14
  },
  {
   "metadata": {
    "ExecuteTime": {
     "end_time": "2024-11-09T09:04:32.407267Z",
     "start_time": "2024-11-09T09:04:32.402179Z"
    }
   },
   "cell_type": "code",
   "source": [
    "if \"noha\" in myt:\n",
    "    print(\"------ found \")\n",
    "else:\n",
    "    print(\"----- not found \")"
   ],
   "id": "af6a19ed1d93cc95",
   "outputs": [
    {
     "name": "stdout",
     "output_type": "stream",
     "text": [
      "----- not found \n"
     ]
    }
   ],
   "execution_count": 15
  },
  {
   "metadata": {
    "ExecuteTime": {
     "end_time": "2024-11-09T09:05:09.109014Z",
     "start_time": "2024-11-09T09:05:09.102121Z"
    }
   },
   "cell_type": "code",
   "source": [
    "if \"Hasnaa\" in myt:\n",
    "    print(\"--- found \")\n",
    "else:\n",
    "    print(\"-- not found \")\n",
    "    "
   ],
   "id": "d80fcd9b5ba834d9",
   "outputs": [
    {
     "name": "stdout",
     "output_type": "stream",
     "text": [
      "-- not found \n"
     ]
    }
   ],
   "execution_count": 16
  },
  {
   "metadata": {
    "ExecuteTime": {
     "end_time": "2024-11-09T09:07:14.316956Z",
     "start_time": "2024-11-09T09:07:14.311119Z"
    }
   },
   "cell_type": "code",
   "source": [
    "if \"Hasnaa\" in myt:\n",
    "    print(\"--- found \")\n",
    "else:\n",
    "    print(\"-- not found  in the tuple \")\n",
    "    for item in myt:\n",
    "        # print(item, type(item))\n",
    "        if type(item) == tuple or type(item) == list:\n",
    "            if \"Hasnaa\" in item:\n",
    "                print(f\"--- found in item {item}\")\n",
    "            "
   ],
   "id": "307e8adac0b18808",
   "outputs": [
    {
     "name": "stdout",
     "output_type": "stream",
     "text": [
      "-- not found  in the tuple \n",
      "--- found in item ('Basel', 'Sayed', 'Hasnaa', 'Abanoub')\n"
     ]
    }
   ],
   "execution_count": 18
  },
  {
   "metadata": {
    "ExecuteTime": {
     "end_time": "2024-11-09T09:07:57.728515Z",
     "start_time": "2024-11-09T09:07:57.723711Z"
    }
   },
   "cell_type": "code",
   "source": [
    "### isinstance \n",
    "print(isinstance(myt, tuple))\n",
    "\n"
   ],
   "id": "d02c50e9429cad9a",
   "outputs": [
    {
     "name": "stdout",
     "output_type": "stream",
     "text": [
      "True\n"
     ]
    }
   ],
   "execution_count": 19
  },
  {
   "metadata": {
    "ExecuteTime": {
     "end_time": "2024-11-09T09:08:05.070458Z",
     "start_time": "2024-11-09T09:08:05.064305Z"
    }
   },
   "cell_type": "code",
   "source": "print(isinstance(myt, list))",
   "id": "4c3523bd0438b916",
   "outputs": [
    {
     "name": "stdout",
     "output_type": "stream",
     "text": [
      "False\n"
     ]
    }
   ],
   "execution_count": 20
  },
  {
   "metadata": {
    "ExecuteTime": {
     "end_time": "2024-11-09T09:08:19.484541Z",
     "start_time": "2024-11-09T09:08:19.480712Z"
    }
   },
   "cell_type": "code",
   "source": "print(isinstance(myt, str))",
   "id": "613148641011bc8",
   "outputs": [
    {
     "name": "stdout",
     "output_type": "stream",
     "text": [
      "False\n"
     ]
    }
   ],
   "execution_count": 22
  },
  {
   "metadata": {},
   "cell_type": "code",
   "outputs": [],
   "execution_count": null,
   "source": [
    "if \"Hasnaa\" in myt:\n",
    "    print(\"--- found \")\n",
    "else:\n",
    "    print(\"-- not found  in the tuple \")\n",
    "    for item in myt:\n",
    "        # print(item, type(item))\n",
    "        if isinstance(item, tuple) or isinstance(item, list):\n",
    "            if \"Hasnaa\" in item:\n",
    "                print(f\"--- found in item {item}\")\n",
    "            "
   ],
   "id": "5bb94c4be4152e1c"
  },
  {
   "metadata": {},
   "cell_type": "markdown",
   "source": "# tuple is immutable data type ===> cannot be changed after creation \n",
   "id": "6d67e3cc58b7dbde"
  },
  {
   "metadata": {},
   "cell_type": "markdown",
   "source": "# concat 2 tuples ",
   "id": "cd75b3ad6ddb15d1"
  },
  {
   "metadata": {
    "ExecuteTime": {
     "end_time": "2024-11-09T09:12:55.567679Z",
     "start_time": "2024-11-09T09:12:55.557002Z"
    }
   },
   "cell_type": "code",
   "source": [
    "t1= (2, \"python\", \"iti\")\n",
    "t2= (\"break\", \"breakfast\", \"pray\", 214,\"assignment\",True )\n",
    "t3=  t1 + t2  # tuple\n",
    "\n",
    "print(t3)"
   ],
   "id": "5368db03c0598d14",
   "outputs": [
    {
     "name": "stdout",
     "output_type": "stream",
     "text": [
      "(2, 'python', 'iti', 'break', 'breakfast', 'pray', 214, 'assignment', True)\n"
     ]
    }
   ],
   "execution_count": 23
  },
  {
   "metadata": {},
   "cell_type": "markdown",
   "source": "",
   "id": "e0f9583fcde19400"
  },
  {
   "metadata": {
    "ExecuteTime": {
     "end_time": "2024-11-09T09:13:43.147496Z",
     "start_time": "2024-11-09T09:13:43.133465Z"
    }
   },
   "cell_type": "code",
   "source": [
    "t4= [t1 + t3]\n",
    "print(t4)\n"
   ],
   "id": "28c7e9fa6796ebfb",
   "outputs": [
    {
     "name": "stdout",
     "output_type": "stream",
     "text": [
      "[(2, 'python', 'iti', 2, 'python', 'iti', 'break', 'breakfast', 'pray', 214, 'assignment', True)]\n"
     ]
    }
   ],
   "execution_count": 24
  },
  {
   "metadata": {
    "ExecuteTime": {
     "end_time": "2024-11-09T09:14:26.187783Z",
     "start_time": "2024-11-09T09:14:26.183552Z"
    }
   },
   "cell_type": "code",
   "source": [
    "t5= [t1 , t2]\n",
    "print(t5)\n"
   ],
   "id": "7087cdc7c551191c",
   "outputs": [
    {
     "name": "stdout",
     "output_type": "stream",
     "text": [
      "[(2, 'python', 'iti'), ('break', 'breakfast', 'pray', 214, 'assignment', True)]\n"
     ]
    }
   ],
   "execution_count": 26
  },
  {
   "metadata": {
    "ExecuteTime": {
     "end_time": "2024-11-09T09:15:11.652954Z",
     "start_time": "2024-11-09T09:15:11.634776Z"
    }
   },
   "cell_type": "code",
   "source": [
    "mm = ['wre', 'rwr'] + (423, 34245)\n",
    "print(mm)"
   ],
   "id": "218c7501f37c2e63",
   "outputs": [
    {
     "ename": "TypeError",
     "evalue": "can only concatenate list (not \"tuple\") to list",
     "output_type": "error",
     "traceback": [
      "\u001B[0;31m---------------------------------------------------------------------------\u001B[0m",
      "\u001B[0;31mTypeError\u001B[0m                                 Traceback (most recent call last)",
      "Cell \u001B[0;32mIn[27], line 1\u001B[0m\n\u001B[0;32m----> 1\u001B[0m mm \u001B[38;5;241m=\u001B[39m \u001B[43m[\u001B[49m\u001B[38;5;124;43m'\u001B[39;49m\u001B[38;5;124;43mwre\u001B[39;49m\u001B[38;5;124;43m'\u001B[39;49m\u001B[43m,\u001B[49m\u001B[43m \u001B[49m\u001B[38;5;124;43m'\u001B[39;49m\u001B[38;5;124;43mrwr\u001B[39;49m\u001B[38;5;124;43m'\u001B[39;49m\u001B[43m]\u001B[49m\u001B[43m \u001B[49m\u001B[38;5;241;43m+\u001B[39;49m\u001B[43m \u001B[49m\u001B[43m(\u001B[49m\u001B[38;5;241;43m423\u001B[39;49m\u001B[43m,\u001B[49m\u001B[43m \u001B[49m\u001B[38;5;241;43m34245\u001B[39;49m\u001B[43m)\u001B[49m\n\u001B[1;32m      2\u001B[0m \u001B[38;5;28mprint\u001B[39m(mm)\n",
      "\u001B[0;31mTypeError\u001B[0m: can only concatenate list (not \"tuple\") to list"
     ]
    }
   ],
   "execution_count": 27
  },
  {
   "metadata": {
    "ExecuteTime": {
     "end_time": "2024-11-09T09:16:03.102171Z",
     "start_time": "2024-11-09T09:16:03.084388Z"
    }
   },
   "cell_type": "code",
   "source": [
    "l = [34, 345,43434]\n",
    "t = ('a', 'b', 'c')\n",
    "l.extend(t) # iterable\n",
    "print(l)\n"
   ],
   "id": "79f887b225523638",
   "outputs": [
    {
     "name": "stdout",
     "output_type": "stream",
     "text": [
      "[34, 345, 43434, 'a', 'b', 'c']\n"
     ]
    }
   ],
   "execution_count": 28
  },
  {
   "metadata": {
    "ExecuteTime": {
     "end_time": "2024-11-09T09:17:20.908287Z",
     "start_time": "2024-11-09T09:17:20.900855Z"
    }
   },
   "cell_type": "code",
   "source": [
    "tt = (\"abc\", 'ddd', \"sldfj\", 'jfdhsfj')\n",
    "print(tt[::-1]) # return new table "
   ],
   "id": "8fb08b0d96c66087",
   "outputs": [
    {
     "name": "stdout",
     "output_type": "stream",
     "text": [
      "('jfdhsfj', 'sldfj', 'ddd', 'abc')\n"
     ]
    }
   ],
   "execution_count": 29
  },
  {
   "metadata": {},
   "cell_type": "code",
   "outputs": [],
   "execution_count": null,
   "source": "",
   "id": "99b5b6b86845edaf"
  },
  {
   "metadata": {},
   "cell_type": "markdown",
   "source": "# I need to define a constant represent intake=45_cgtd_iti",
   "id": "d60cf21fed6a3408"
  },
  {
   "metadata": {
    "ExecuteTime": {
     "end_time": "2024-11-09T09:25:46.015835Z",
     "start_time": "2024-11-09T09:25:46.011286Z"
    }
   },
   "cell_type": "code",
   "source": [
    "intake=(\"45_cgtd_iti\")  # tuple of one item.\n",
    "print(intake, type(intake))"
   ],
   "id": "31b8f5dc9e4911b3",
   "outputs": [
    {
     "name": "stdout",
     "output_type": "stream",
     "text": [
      "45_cgtd_iti <class 'str'>\n"
     ]
    }
   ],
   "execution_count": 30
  },
  {
   "metadata": {},
   "cell_type": "markdown",
   "source": "",
   "id": "9f0e084b33ab6bf"
  },
  {
   "metadata": {
    "ExecuteTime": {
     "end_time": "2024-11-09T09:26:43.698080Z",
     "start_time": "2024-11-09T09:26:43.692636Z"
    }
   },
   "cell_type": "code",
   "source": [
    "intake=tuple(\"45_cgtd_iti\")  # tuple of one item.\n",
    "print(intake, type(intake))"
   ],
   "id": "ffb70130c770e3ae",
   "outputs": [
    {
     "name": "stdout",
     "output_type": "stream",
     "text": [
      "('4', '5', '_', 'c', 'g', 't', 'd', '_', 'i', 't', 'i') <class 'tuple'>\n"
     ]
    }
   ],
   "execution_count": 31
  },
  {
   "metadata": {},
   "cell_type": "markdown",
   "source": "# tuple of one item ",
   "id": "ae5e06e836256dc7"
  },
  {
   "metadata": {
    "ExecuteTime": {
     "end_time": "2024-11-09T09:27:15.035737Z",
     "start_time": "2024-11-09T09:27:15.030536Z"
    }
   },
   "cell_type": "code",
   "source": [
    "intake=(\"45_cgtd_iti\",)  # tuple of one item.\n",
    "print(intake, type(intake))"
   ],
   "id": "f04e75816838912d",
   "outputs": [
    {
     "name": "stdout",
     "output_type": "stream",
     "text": [
      "('45_cgtd_iti',) <class 'tuple'>\n"
     ]
    }
   ],
   "execution_count": 32
  },
  {
   "metadata": {
    "ExecuteTime": {
     "end_time": "2024-11-09T09:27:50.061264Z",
     "start_time": "2024-11-09T09:27:50.031951Z"
    }
   },
   "cell_type": "code",
   "source": "intake2 = (\"cgtd_iti_45\",)",
   "id": "e702128e7faf754e",
   "outputs": [
    {
     "ename": "NameError",
     "evalue": "name 'cgtd_iti_45' is not defined",
     "output_type": "error",
     "traceback": [
      "\u001B[0;31m---------------------------------------------------------------------------\u001B[0m",
      "\u001B[0;31mNameError\u001B[0m                                 Traceback (most recent call last)",
      "Cell \u001B[0;32mIn[34], line 1\u001B[0m\n\u001B[0;32m----> 1\u001B[0m intake2 \u001B[38;5;241m=\u001B[39m (\u001B[43mcgtd_iti_45\u001B[49m,)\n",
      "\u001B[0;31mNameError\u001B[0m: name 'cgtd_iti_45' is not defined"
     ]
    }
   ],
   "execution_count": 34
  },
  {
   "metadata": {
    "ExecuteTime": {
     "end_time": "2024-11-09T09:29:38.923046Z",
     "start_time": "2024-11-09T09:29:38.915266Z"
    }
   },
   "cell_type": "code",
   "source": [
    "# inntake = (45,)\n",
    "\n",
    "inntake2 =tuple([45])\n",
    "print(inntake2, type(inntake2))"
   ],
   "id": "d4fbbae0a0c9efb",
   "outputs": [
    {
     "name": "stdout",
     "output_type": "stream",
     "text": [
      "(45,) <class 'tuple'>\n"
     ]
    }
   ],
   "execution_count": 40
  },
  {
   "metadata": {
    "ExecuteTime": {
     "end_time": "2024-11-09T09:34:47.221827Z",
     "start_time": "2024-11-09T09:34:47.203221Z"
    }
   },
   "cell_type": "code",
   "source": [
    "num = 45\n",
    "\n",
    "tt =  tuple(num)"
   ],
   "id": "7e52c7c69f944eeb",
   "outputs": [
    {
     "ename": "TypeError",
     "evalue": "'int' object is not iterable",
     "output_type": "error",
     "traceback": [
      "\u001B[0;31m---------------------------------------------------------------------------\u001B[0m",
      "\u001B[0;31mTypeError\u001B[0m                                 Traceback (most recent call last)",
      "Cell \u001B[0;32mIn[41], line 3\u001B[0m\n\u001B[1;32m      1\u001B[0m num \u001B[38;5;241m=\u001B[39m \u001B[38;5;241m45\u001B[39m\n\u001B[0;32m----> 3\u001B[0m tt \u001B[38;5;241m=\u001B[39m  \u001B[38;5;28;43mtuple\u001B[39;49m\u001B[43m(\u001B[49m\u001B[43mnum\u001B[49m\u001B[43m)\u001B[49m\n",
      "\u001B[0;31mTypeError\u001B[0m: 'int' object is not iterable"
     ]
    }
   ],
   "execution_count": 41
  },
  {
   "metadata": {
    "ExecuteTime": {
     "end_time": "2024-11-09T09:35:11.343490Z",
     "start_time": "2024-11-09T09:35:11.333846Z"
    }
   },
   "cell_type": "code",
   "source": [
    "num = 45\n",
    "\n",
    "tt =  tuple([num])\n",
    "print(tt, type(tt))"
   ],
   "id": "becb414aa15c0058",
   "outputs": [
    {
     "name": "stdout",
     "output_type": "stream",
     "text": [
      "(45,) <class 'tuple'>\n"
     ]
    }
   ],
   "execution_count": 42
  },
  {
   "metadata": {},
   "cell_type": "code",
   "outputs": [],
   "execution_count": null,
   "source": "",
   "id": "bf4ae994952af59c"
  },
  {
   "metadata": {},
   "cell_type": "markdown",
   "source": "# forget the past ",
   "id": "62b7d28def03509e"
  },
  {
   "metadata": {
    "ExecuteTime": {
     "end_time": "2024-11-09T09:37:09.982207Z",
     "start_time": "2024-11-09T09:37:09.976587Z"
    }
   },
   "cell_type": "code",
   "source": [
    "num = [45]\n",
    "print(num, type(num))"
   ],
   "id": "d28dd687590ba5d9",
   "outputs": [
    {
     "name": "stdout",
     "output_type": "stream",
     "text": [
      "[45] <class 'list'>\n"
     ]
    }
   ],
   "execution_count": 43
  },
  {
   "metadata": {
    "ExecuteTime": {
     "end_time": "2024-11-09T09:37:30.136728Z",
     "start_time": "2024-11-09T09:37:30.132600Z"
    }
   },
   "cell_type": "code",
   "source": [
    "numt = tuple(num)\n",
    "print(numt, type(numt))"
   ],
   "id": "18b0aebc577d48a4",
   "outputs": [
    {
     "name": "stdout",
     "output_type": "stream",
     "text": [
      "(45,) <class 'tuple'>\n"
     ]
    }
   ],
   "execution_count": 44
  },
  {
   "metadata": {
    "ExecuteTime": {
     "end_time": "2024-11-09T09:38:35.645027Z",
     "start_time": "2024-11-09T09:38:35.632968Z"
    }
   },
   "cell_type": "code",
   "source": [
    "ttt3 = tuple((4,5,6))\n",
    "print(ttt3, type(ttt3))"
   ],
   "id": "7da1e67478efd8b2",
   "outputs": [
    {
     "name": "stdout",
     "output_type": "stream",
     "text": [
      "(4, 5, 6) <class 'tuple'>\n"
     ]
    }
   ],
   "execution_count": 45
  },
  {
   "metadata": {
    "ExecuteTime": {
     "end_time": "2024-11-09T09:39:07.034517Z",
     "start_time": "2024-11-09T09:39:07.029887Z"
    }
   },
   "cell_type": "code",
   "source": [
    "tttt4 = tuple([[4,5,6]])\n",
    "print(tttt4, type(tttt4))"
   ],
   "id": "bdb1ae6a4a73f6e",
   "outputs": [
    {
     "name": "stdout",
     "output_type": "stream",
     "text": [
      "([4, 5, 6],) <class 'tuple'>\n"
     ]
    }
   ],
   "execution_count": 46
  },
  {
   "metadata": {
    "ExecuteTime": {
     "end_time": "2024-11-09T09:39:38.110609Z",
     "start_time": "2024-11-09T09:39:38.094715Z"
    }
   },
   "cell_type": "code",
   "source": [
    "R = [34,55]\n",
    "rt = tuple(R) # take content of the iterable \n",
    "print(rt, type(rt))"
   ],
   "id": "7fd5384e59ba4a0a",
   "outputs": [
    {
     "name": "stdout",
     "output_type": "stream",
     "text": [
      "(34, 55) <class 'tuple'>\n"
     ]
    }
   ],
   "execution_count": 47
  },
  {
   "metadata": {
    "ExecuteTime": {
     "end_time": "2024-11-09T09:40:46.503326Z",
     "start_time": "2024-11-09T09:40:46.498274Z"
    }
   },
   "cell_type": "code",
   "source": [
    "R2 = [34,55]\n",
    "rt2 = tuple([R])\n",
    "print(rt2, type(rt2))"
   ],
   "id": "e2a1c454b4617bbf",
   "outputs": [
    {
     "name": "stdout",
     "output_type": "stream",
     "text": [
      "([34, 55],) <class 'tuple'>\n"
     ]
    }
   ],
   "execution_count": 49
  },
  {
   "metadata": {
    "ExecuteTime": {
     "end_time": "2024-11-09T09:42:11.700270Z",
     "start_time": "2024-11-09T09:42:11.687598Z"
    }
   },
   "cell_type": "code",
   "source": [
    "std = (\"nardine <3\", )\n",
    "print(std, type(std))"
   ],
   "id": "bae45203b9c8f102",
   "outputs": [
    {
     "name": "stdout",
     "output_type": "stream",
     "text": [
      "('nardine <3',) <class 'tuple'>\n"
     ]
    }
   ],
   "execution_count": 50
  },
  {
   "metadata": {
    "ExecuteTime": {
     "end_time": "2024-11-09T09:43:00.743783Z",
     "start_time": "2024-11-09T09:43:00.732240Z"
    }
   },
   "cell_type": "code",
   "source": [
    "mmm = tuple(['nardine <3'])\n",
    "print(mmm)"
   ],
   "id": "d044204cafe26808",
   "outputs": [
    {
     "name": "stdout",
     "output_type": "stream",
     "text": [
      "('nardine <3',)\n"
     ]
    }
   ],
   "execution_count": 51
  },
  {
   "metadata": {},
   "cell_type": "markdown",
   "source": "# casting ",
   "id": "7002c15fbe186f3a"
  },
  {
   "metadata": {
    "ExecuteTime": {
     "end_time": "2024-11-09T09:44:31.406235Z",
     "start_time": "2024-11-09T09:44:31.402502Z"
    }
   },
   "cell_type": "code",
   "source": [
    "message = \"we love python\"\n",
    "messaget = tuple(message) # convert content of message to tuple \n",
    "print(messaget, type(messaget))"
   ],
   "id": "4065ec41d4efd54a",
   "outputs": [
    {
     "name": "stdout",
     "output_type": "stream",
     "text": [
      "('w', 'e', ' ', 'l', 'o', 'v', 'e', ' ', 'p', 'y', 't', 'h', 'o', 'n') <class 'tuple'>\n"
     ]
    }
   ],
   "execution_count": 52
  },
  {
   "metadata": {
    "ExecuteTime": {
     "end_time": "2024-11-09T09:45:26.938273Z",
     "start_time": "2024-11-09T09:45:26.931496Z"
    }
   },
   "cell_type": "code",
   "source": [
    "stds = [\"Hasnaa <3\", \"Ola <3\", \"Ezz\"]\n",
    "print(stds, type(stds))"
   ],
   "id": "61f90cf855c9d5e5",
   "outputs": [
    {
     "name": "stdout",
     "output_type": "stream",
     "text": [
      "['Hasnaa <3', 'Ola <3', 'Ezz'] <class 'list'>\n"
     ]
    }
   ],
   "execution_count": 53
  },
  {
   "metadata": {
    "ExecuteTime": {
     "end_time": "2024-11-09T09:45:43.582097Z",
     "start_time": "2024-11-09T09:45:43.569898Z"
    }
   },
   "cell_type": "code",
   "source": [
    "stds_tuple = tuple(stds)\n",
    "print(stds_tuple, type(stds_tuple))"
   ],
   "id": "dddc2031ee67a935",
   "outputs": [
    {
     "name": "stdout",
     "output_type": "stream",
     "text": [
      "('Hasnaa <3', 'Ola <3', 'Ezz') <class 'tuple'>\n"
     ]
    }
   ],
   "execution_count": 54
  },
  {
   "metadata": {
    "ExecuteTime": {
     "end_time": "2024-11-09T09:46:53.110371Z",
     "start_time": "2024-11-09T09:46:53.106953Z"
    }
   },
   "cell_type": "code",
   "source": [
    "all_stds = '$$$$'.join(stds_tuple)\n",
    "print(all_stds, type(all_stds))"
   ],
   "id": "93aadab1ce7b2536",
   "outputs": [
    {
     "name": "stdout",
     "output_type": "stream",
     "text": [
      "Hasnaa <3$$$$Ola <3$$$$Ezz <class 'str'>\n"
     ]
    }
   ],
   "execution_count": 56
  },
  {
   "metadata": {
    "ExecuteTime": {
     "end_time": "2024-11-09T09:47:56.519391Z",
     "start_time": "2024-11-09T09:47:56.512471Z"
    }
   },
   "cell_type": "code",
   "source": [
    "names = (\"mahmoud\", \"mahmoud\", \"mahmoud\")\n",
    "new_names = \"$$$\".join(names)  # new  string \n",
    "print(new_names, type(new_names)) \n"
   ],
   "id": "9e44d620d8d6994",
   "outputs": [
    {
     "name": "stdout",
     "output_type": "stream",
     "text": [
      "mahmoud$$$mahmoud$$$mahmoud <class 'str'>\n"
     ]
    }
   ],
   "execution_count": 57
  },
  {
   "metadata": {
    "ExecuteTime": {
     "end_time": "2024-11-09T09:49:07.009316Z",
     "start_time": "2024-11-09T09:49:06.996385Z"
    }
   },
   "cell_type": "code",
   "source": [
    "message = \"we.love.python\"\n",
    "res = message.split('.') # list \n",
    "res = tuple(res)\n",
    "print(res)"
   ],
   "id": "d8aa7ef7455d07ca",
   "outputs": [
    {
     "name": "stdout",
     "output_type": "stream",
     "text": [
      "('we', 'love', 'python')\n"
     ]
    }
   ],
   "execution_count": 58
  },
  {
   "metadata": {
    "ExecuteTime": {
     "end_time": "2024-11-09T09:49:27.798932Z",
     "start_time": "2024-11-09T09:49:27.788256Z"
    }
   },
   "cell_type": "code",
   "source": [
    "message = \"we.love.python\"\n",
    "res = tuple(message.split('.') )# list \n",
    "print(res)"
   ],
   "id": "892812ee6b3fcf6a",
   "outputs": [
    {
     "name": "stdout",
     "output_type": "stream",
     "text": [
      "('we', 'love', 'python')\n"
     ]
    }
   ],
   "execution_count": 59
  },
  {
   "metadata": {},
   "cell_type": "code",
   "outputs": [],
   "execution_count": null,
   "source": "",
   "id": "75b3aad34856d5f4"
  }
 ],
 "metadata": {
  "kernelspec": {
   "display_name": "Python 3",
   "language": "python",
   "name": "python3"
  },
  "language_info": {
   "codemirror_mode": {
    "name": "ipython",
    "version": 2
   },
   "file_extension": ".py",
   "mimetype": "text/x-python",
   "name": "python",
   "nbconvert_exporter": "python",
   "pygments_lexer": "ipython2",
   "version": "2.7.6"
  }
 },
 "nbformat": 4,
 "nbformat_minor": 5
}
