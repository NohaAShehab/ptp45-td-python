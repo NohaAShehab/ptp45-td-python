{
 "cells": [
  {
   "cell_type": "code",
   "id": "initial_id",
   "metadata": {
    "collapsed": true,
    "ExecuteTime": {
     "end_time": "2024-11-02T10:37:15.368056Z",
     "start_time": "2024-11-02T10:37:15.360979Z"
    }
   },
   "source": "print(\"hii\")",
   "outputs": [
    {
     "name": "stdout",
     "output_type": "stream",
     "text": [
      "hii\n"
     ]
    }
   ],
   "execution_count": 1
  },
  {
   "metadata": {},
   "cell_type": "markdown",
   "source": "# convert string to bool",
   "id": "6357159ac4650dfc"
  },
  {
   "metadata": {
    "ExecuteTime": {
     "end_time": "2024-11-02T10:37:53.011587Z",
     "start_time": "2024-11-02T10:37:53.006378Z"
    }
   },
   "cell_type": "code",
   "source": [
    "msg = \"\"\n",
    "msg = bool(msg)\n",
    "print(type(msg), msg)"
   ],
   "id": "21a2ddcb71bd5bf4",
   "outputs": [
    {
     "name": "stdout",
     "output_type": "stream",
     "text": [
      "<class 'bool'> False\n"
     ]
    }
   ],
   "execution_count": 2
  },
  {
   "metadata": {},
   "cell_type": "markdown",
   "source": [
    "# convert string to int.\n",
    "you can convert string to int only if ? if the string contains numerical value ---> \"54564\" \n"
   ],
   "id": "be9164419d70fb2a"
  },
  {
   "metadata": {
    "ExecuteTime": {
     "end_time": "2024-11-02T10:38:59.592399Z",
     "start_time": "2024-11-02T10:38:59.588345Z"
    }
   },
   "cell_type": "code",
   "source": [
    "grade =  '75' #string\n",
    "grade = int(grade)\n",
    "print(type(grade), grade)"
   ],
   "id": "3c33498e96fe6829",
   "outputs": [
    {
     "name": "stdout",
     "output_type": "stream",
     "text": [
      "<class 'int'> 75\n"
     ]
    }
   ],
   "execution_count": 3
  },
  {
   "metadata": {
    "ExecuteTime": {
     "end_time": "2024-11-02T10:42:25.900053Z",
     "start_time": "2024-11-02T10:42:25.732477Z"
    }
   },
   "cell_type": "code",
   "source": [
    "# ValueError = ==> cannot convert string to int.\n",
    "name = \"Ahmed\"\n",
    "name = int(name)  #run time error \n",
    "print(type(name), name)"
   ],
   "id": "82bc61021a2c9d88",
   "outputs": [
    {
     "ename": "ValueError",
     "evalue": "invalid literal for int() with base 10: 'Ahmed'",
     "output_type": "error",
     "traceback": [
      "\u001B[0;31m---------------------------------------------------------------------------\u001B[0m",
      "\u001B[0;31mValueError\u001B[0m                                Traceback (most recent call last)",
      "Cell \u001B[0;32mIn[4], line 2\u001B[0m\n\u001B[1;32m      1\u001B[0m name \u001B[38;5;241m=\u001B[39m \u001B[38;5;124m\"\u001B[39m\u001B[38;5;124mAhmed\u001B[39m\u001B[38;5;124m\"\u001B[39m\n\u001B[0;32m----> 2\u001B[0m name \u001B[38;5;241m=\u001B[39m \u001B[38;5;28;43mint\u001B[39;49m\u001B[43m(\u001B[49m\u001B[43mname\u001B[49m\u001B[43m)\u001B[49m  \u001B[38;5;66;03m#run time error \u001B[39;00m\n\u001B[1;32m      3\u001B[0m \u001B[38;5;28mprint\u001B[39m(\u001B[38;5;28mtype\u001B[39m(name), name)\n",
      "\u001B[0;31mValueError\u001B[0m: invalid literal for int() with base 10: 'Ahmed'"
     ]
    }
   ],
   "execution_count": 4
  },
  {
   "metadata": {
    "ExecuteTime": {
     "end_time": "2024-11-02T10:42:57.732835Z",
     "start_time": "2024-11-02T10:42:57.705155Z"
    }
   },
   "cell_type": "code",
   "source": [
    "\n",
    "name = \"7hhhmed\"\n",
    "name = int(name)  #run time error \n",
    "print(type(name), name)"
   ],
   "id": "2885b2d377a493bf",
   "outputs": [
    {
     "ename": "ValueError",
     "evalue": "invalid literal for int() with base 10: '7hhhmed'",
     "output_type": "error",
     "traceback": [
      "\u001B[0;31m---------------------------------------------------------------------------\u001B[0m",
      "\u001B[0;31mValueError\u001B[0m                                Traceback (most recent call last)",
      "Cell \u001B[0;32mIn[5], line 2\u001B[0m\n\u001B[1;32m      1\u001B[0m name \u001B[38;5;241m=\u001B[39m \u001B[38;5;124m\"\u001B[39m\u001B[38;5;124m7hhhmed\u001B[39m\u001B[38;5;124m\"\u001B[39m\n\u001B[0;32m----> 2\u001B[0m name \u001B[38;5;241m=\u001B[39m \u001B[38;5;28;43mint\u001B[39;49m\u001B[43m(\u001B[49m\u001B[43mname\u001B[49m\u001B[43m)\u001B[49m  \u001B[38;5;66;03m#run time error \u001B[39;00m\n\u001B[1;32m      3\u001B[0m \u001B[38;5;28mprint\u001B[39m(\u001B[38;5;28mtype\u001B[39m(name), name)\n",
      "\u001B[0;31mValueError\u001B[0m: invalid literal for int() with base 10: '7hhhmed'"
     ]
    }
   ],
   "execution_count": 5
  },
  {
   "metadata": {
    "ExecuteTime": {
     "end_time": "2024-11-02T10:49:31.625937Z",
     "start_time": "2024-11-02T10:49:31.622392Z"
    }
   },
   "cell_type": "code",
   "source": [
    "message = \"542\"\n",
    "import sys\n",
    "print(sys.getsizeof(message))"
   ],
   "id": "59c4a2db34d51303",
   "outputs": [
    {
     "name": "stdout",
     "output_type": "stream",
     "text": [
      "44\n"
     ]
    }
   ],
   "execution_count": 8
  },
  {
   "metadata": {
    "ExecuteTime": {
     "end_time": "2024-11-02T10:50:25.922921Z",
     "start_time": "2024-11-02T10:50:25.918205Z"
    }
   },
   "cell_type": "code",
   "source": [
    "num = 6\n",
    "import sys\n",
    "print(sys.getsizeof(num))"
   ],
   "id": "92d85c5f2fde673c",
   "outputs": [
    {
     "name": "stdout",
     "output_type": "stream",
     "text": [
      "28\n"
     ]
    }
   ],
   "execution_count": 10
  },
  {
   "metadata": {},
   "cell_type": "markdown",
   "source": "# operators",
   "id": "a6d9493ae8a6b2b7"
  },
  {
   "metadata": {},
   "cell_type": "markdown",
   "source": "# arthemitic operatos",
   "id": "fc462709677f82db"
  },
  {
   "metadata": {
    "ExecuteTime": {
     "end_time": "2024-11-02T10:58:55.912274Z",
     "start_time": "2024-11-02T10:58:55.903666Z"
    }
   },
   "cell_type": "code",
   "source": [
    "num1 = 10\n",
    "num2 = 100"
   ],
   "id": "b86eba9271dcba12",
   "outputs": [],
   "execution_count": 11
  },
  {
   "metadata": {
    "ExecuteTime": {
     "end_time": "2024-11-02T10:59:10.107233Z",
     "start_time": "2024-11-02T10:59:10.104346Z"
    }
   },
   "cell_type": "code",
   "source": [
    "res = num1 + num2\n",
    "print(res)"
   ],
   "id": "594aa93b8d93982d",
   "outputs": [
    {
     "name": "stdout",
     "output_type": "stream",
     "text": [
      "110\n"
     ]
    }
   ],
   "execution_count": 12
  },
  {
   "metadata": {
    "ExecuteTime": {
     "end_time": "2024-11-02T10:59:34.691071Z",
     "start_time": "2024-11-02T10:59:34.687247Z"
    }
   },
   "cell_type": "code",
   "source": [
    "res2 = num1 ** 3 #exponent\n",
    "print(res2)"
   ],
   "id": "9d0a143a8ce9b9c6",
   "outputs": [
    {
     "name": "stdout",
     "output_type": "stream",
     "text": [
      "1000\n"
     ]
    }
   ],
   "execution_count": 13
  },
  {
   "metadata": {
    "ExecuteTime": {
     "end_time": "2024-11-02T10:59:49.825063Z",
     "start_time": "2024-11-02T10:59:49.821100Z"
    }
   },
   "cell_type": "code",
   "source": [
    "res4 = num1 / 3 \n",
    "print(res4)"
   ],
   "id": "2f69aadee28e65bd",
   "outputs": [
    {
     "name": "stdout",
     "output_type": "stream",
     "text": [
      "3.3333333333333335\n"
     ]
    }
   ],
   "execution_count": 14
  },
  {
   "metadata": {
    "ExecuteTime": {
     "end_time": "2024-11-02T11:00:04.125251Z",
     "start_time": "2024-11-02T11:00:04.122001Z"
    }
   },
   "cell_type": "code",
   "source": [
    "res4 = num1 // 3  # division result without fraction\n",
    "print(res4)"
   ],
   "id": "81e32f3fafa7e452",
   "outputs": [
    {
     "name": "stdout",
     "output_type": "stream",
     "text": [
      "3\n"
     ]
    }
   ],
   "execution_count": 15
  },
  {
   "metadata": {
    "ExecuteTime": {
     "end_time": "2024-11-02T11:00:17.062540Z",
     "start_time": "2024-11-02T11:00:17.058199Z"
    }
   },
   "cell_type": "code",
   "source": [
    "res4 = num1 % 3 # reminder of fraction\n",
    "print(res4)"
   ],
   "id": "fb436cc00380a9f4",
   "outputs": [
    {
     "name": "stdout",
     "output_type": "stream",
     "text": [
      "1\n"
     ]
    }
   ],
   "execution_count": 16
  },
  {
   "metadata": {},
   "cell_type": "markdown",
   "source": "# assignment operators ",
   "id": "be3f76297fbedc5a"
  },
  {
   "metadata": {
    "ExecuteTime": {
     "end_time": "2024-11-02T11:01:12.598892Z",
     "start_time": "2024-11-02T11:01:12.593925Z"
    }
   },
   "cell_type": "code",
   "source": "ll = 10 ",
   "id": "d822ca9cf35f8042",
   "outputs": [],
   "execution_count": 17
  },
  {
   "metadata": {
    "ExecuteTime": {
     "end_time": "2024-11-02T11:01:16.921248Z",
     "start_time": "2024-11-02T11:01:16.909034Z"
    }
   },
   "cell_type": "code",
   "source": "ll \n",
   "id": "35ca8d8b38c23585",
   "outputs": [
    {
     "data": {
      "text/plain": [
       "10"
      ]
     },
     "execution_count": 18,
     "metadata": {},
     "output_type": "execute_result"
    }
   ],
   "execution_count": 18
  },
  {
   "metadata": {
    "ExecuteTime": {
     "end_time": "2024-11-02T11:01:28.317667Z",
     "start_time": "2024-11-02T11:01:28.315005Z"
    }
   },
   "cell_type": "code",
   "source": [
    "ll +=56  # ll = ll+ 56\n",
    "print(ll)"
   ],
   "id": "2652f43c30478492",
   "outputs": [
    {
     "name": "stdout",
     "output_type": "stream",
     "text": [
      "66\n"
     ]
    }
   ],
   "execution_count": 19
  },
  {
   "metadata": {
    "ExecuteTime": {
     "end_time": "2024-11-02T11:06:48.997063Z",
     "start_time": "2024-11-02T11:06:48.982787Z"
    }
   },
   "cell_type": "code",
   "source": [
    "res = 10 + \"20\"   # + , - , * . \n",
    "# when you are using different operators make sure that variables must be from the same type"
   ],
   "id": "7431ac713efa3259",
   "outputs": [
    {
     "ename": "TypeError",
     "evalue": "unsupported operand type(s) for +: 'int' and 'str'",
     "output_type": "error",
     "traceback": [
      "\u001B[0;31m---------------------------------------------------------------------------\u001B[0m",
      "\u001B[0;31mTypeError\u001B[0m                                 Traceback (most recent call last)",
      "Cell \u001B[0;32mIn[22], line 1\u001B[0m\n\u001B[0;32m----> 1\u001B[0m res \u001B[38;5;241m=\u001B[39m \u001B[38;5;241;43m10\u001B[39;49m\u001B[43m \u001B[49m\u001B[38;5;241;43m+\u001B[39;49m\u001B[43m \u001B[49m\u001B[38;5;124;43m\"\u001B[39;49m\u001B[38;5;124;43m20\u001B[39;49m\u001B[38;5;124;43m\"\u001B[39;49m   \u001B[38;5;66;03m# + , - , * . \u001B[39;00m\n",
      "\u001B[0;31mTypeError\u001B[0m: unsupported operand type(s) for +: 'int' and 'str'"
     ]
    }
   ],
   "execution_count": 22
  },
  {
   "metadata": {},
   "cell_type": "markdown",
   "source": "# comparison operators",
   "id": "f5f5d33630fc1ad5"
  },
  {
   "metadata": {
    "ExecuteTime": {
     "end_time": "2024-11-02T11:10:55.230588Z",
     "start_time": "2024-11-02T11:10:55.225657Z"
    }
   },
   "cell_type": "code",
   "source": "print(10 == \"10\")  # compare value and type ",
   "id": "9b63c6a6010b353d",
   "outputs": [
    {
     "name": "stdout",
     "output_type": "stream",
     "text": [
      "False\n"
     ]
    }
   ],
   "execution_count": 25
  },
  {
   "metadata": {
    "ExecuteTime": {
     "end_time": "2024-11-02T11:06:19.416497Z",
     "start_time": "2024-11-02T11:06:19.413043Z"
    }
   },
   "cell_type": "code",
   "source": "print(100 > -14)",
   "id": "6eb0ec792bd7e940",
   "outputs": [
    {
     "name": "stdout",
     "output_type": "stream",
     "text": [
      "True\n"
     ]
    }
   ],
   "execution_count": 21
  },
  {
   "metadata": {
    "ExecuteTime": {
     "end_time": "2024-11-02T11:07:56.711972Z",
     "start_time": "2024-11-02T11:07:56.691715Z"
    }
   },
   "cell_type": "code",
   "source": "print(\"100\" > 10)",
   "id": "3c9545bcc394cf55",
   "outputs": [
    {
     "ename": "TypeError",
     "evalue": "'>' not supported between instances of 'str' and 'int'",
     "output_type": "error",
     "traceback": [
      "\u001B[0;31m---------------------------------------------------------------------------\u001B[0m",
      "\u001B[0;31mTypeError\u001B[0m                                 Traceback (most recent call last)",
      "Cell \u001B[0;32mIn[23], line 1\u001B[0m\n\u001B[0;32m----> 1\u001B[0m \u001B[38;5;28mprint\u001B[39m(\u001B[38;5;124;43m\"\u001B[39;49m\u001B[38;5;124;43m100\u001B[39;49m\u001B[38;5;124;43m\"\u001B[39;49m\u001B[43m \u001B[49m\u001B[38;5;241;43m>\u001B[39;49m\u001B[43m \u001B[49m\u001B[38;5;241;43m10\u001B[39;49m)\n",
      "\u001B[0;31mTypeError\u001B[0m: '>' not supported between instances of 'str' and 'int'"
     ]
    }
   ],
   "execution_count": 23
  },
  {
   "metadata": {},
   "cell_type": "markdown",
   "source": "# Logical operator And, Or , not ",
   "id": "2022c13504db22df"
  },
  {
   "metadata": {
    "ExecuteTime": {
     "end_time": "2024-11-02T11:13:31.814415Z",
     "start_time": "2024-11-02T11:13:31.807092Z"
    }
   },
   "cell_type": "code",
   "source": [
    "# and --> return True if only all parts of the expression evaluates to True \n",
    "\n",
    "\n",
    "\n",
    "\n",
    "# or return True if only at least one of the  parts of the expression evaluates to True\n",
    "\n",
    "\n",
    "\n",
    "#not  ---> given True --> return False --> and vice versa \n",
    "\n",
    "happy = False\n",
    "print(happy)\n",
    "happy = not happy \n",
    "print(happy)"
   ],
   "id": "5fed3b4f08203a20",
   "outputs": [
    {
     "name": "stdout",
     "output_type": "stream",
     "text": [
      "False\n",
      "True\n"
     ]
    }
   ],
   "execution_count": 26
  },
  {
   "metadata": {
    "ExecuteTime": {
     "end_time": "2024-11-02T11:14:15.192119Z",
     "start_time": "2024-11-02T11:14:15.184528Z"
    }
   },
   "cell_type": "code",
   "source": [
    "message = 'hi'\n",
    "print(message)\n",
    "message = not message\n",
    "print(message)\n"
   ],
   "id": "f3ce8a627f1fce22",
   "outputs": [
    {
     "name": "stdout",
     "output_type": "stream",
     "text": [
      "hi\n",
      "False\n"
     ]
    }
   ],
   "execution_count": 27
  },
  {
   "metadata": {},
   "cell_type": "markdown",
   "source": "# or ",
   "id": "ecf285d768a6c5b6"
  },
  {
   "metadata": {
    "ExecuteTime": {
     "end_time": "2024-11-02T11:15:39.879606Z",
     "start_time": "2024-11-02T11:15:39.876757Z"
    }
   },
   "cell_type": "code",
   "source": [
    "name= 'ahmed'\n",
    "happy = True\n",
    "sleeping_welll = False\n",
    "\n",
    "print(sleeping_welll or happy or name)"
   ],
   "id": "21fbb480264883ca",
   "outputs": [
    {
     "name": "stdout",
     "output_type": "stream",
     "text": [
      "True\n"
     ]
    }
   ],
   "execution_count": 28
  },
  {
   "metadata": {
    "ExecuteTime": {
     "end_time": "2024-11-02T11:16:34.116074Z",
     "start_time": "2024-11-02T11:16:34.112577Z"
    }
   },
   "cell_type": "code",
   "source": "print(sleeping_welll or  name or happy)\n",
   "id": "b61c08195d7b4c8b",
   "outputs": [
    {
     "name": "stdout",
     "output_type": "stream",
     "text": [
      "ahmed\n"
     ]
    }
   ],
   "execution_count": 29
  },
  {
   "metadata": {
    "ExecuteTime": {
     "end_time": "2024-11-02T11:18:47.647111Z",
     "start_time": "2024-11-02T11:18:47.643939Z"
    }
   },
   "cell_type": "code",
   "source": "print(name or \"a\" or \"Gargeeer\")",
   "id": "c3d9ed5a326ead26",
   "outputs": [
    {
     "name": "stdout",
     "output_type": "stream",
     "text": [
      "ahmed\n"
     ]
    }
   ],
   "execution_count": 30
  },
  {
   "metadata": {
    "ExecuteTime": {
     "end_time": "2024-11-02T11:18:59.594776Z",
     "start_time": "2024-11-02T11:18:59.589847Z"
    }
   },
   "cell_type": "code",
   "source": "print(\"a\" or name)",
   "id": "73959b06c0a108cb",
   "outputs": [
    {
     "name": "stdout",
     "output_type": "stream",
     "text": [
      "a\n"
     ]
    }
   ],
   "execution_count": 31
  },
  {
   "metadata": {},
   "cell_type": "markdown",
   "source": "# and ",
   "id": "4abe1930f3cd63d9"
  },
  {
   "metadata": {
    "ExecuteTime": {
     "end_time": "2024-11-02T11:21:54.510952Z",
     "start_time": "2024-11-02T11:21:54.504717Z"
    }
   },
   "cell_type": "code",
   "source": "print(\"Gargeeer\" and \"iti\" and 10 and \"Abasss\")",
   "id": "dea38dd7bbfc7292",
   "outputs": [
    {
     "name": "stdout",
     "output_type": "stream",
     "text": [
      "Abasss\n"
     ]
    }
   ],
   "execution_count": 32
  },
  {
   "metadata": {
    "ExecuteTime": {
     "end_time": "2024-11-02T11:22:56.252405Z",
     "start_time": "2024-11-02T11:22:56.241731Z"
    }
   },
   "cell_type": "code",
   "source": [
    "res = \"Gargeeer\" and \"iti\" and 10 and \"\"\n",
    "print(res)\n"
   ],
   "id": "47f7c9475ad3c1ed",
   "outputs": [
    {
     "name": "stdout",
     "output_type": "stream",
     "text": [
      "\n"
     ]
    }
   ],
   "execution_count": 33
  },
  {
   "metadata": {
    "ExecuteTime": {
     "end_time": "2024-11-02T11:24:29.308161Z",
     "start_time": "2024-11-02T11:24:29.297283Z"
    }
   },
   "cell_type": "code",
   "source": [
    "res = \"Gargeeer\" and \"iti\" and 0 and \"\" \n",
    "print(res)\n"
   ],
   "id": "428f0b18ab37d07d",
   "outputs": [
    {
     "name": "stdout",
     "output_type": "stream",
     "text": [
      "0\n"
     ]
    }
   ],
   "execution_count": 35
  },
  {
   "metadata": {
    "ExecuteTime": {
     "end_time": "2024-11-02T11:26:34.507032Z",
     "start_time": "2024-11-02T11:26:34.502801Z"
    }
   },
   "cell_type": "code",
   "source": "print(0 and 0 )",
   "id": "aa779b167dd704a0",
   "outputs": [
    {
     "name": "stdout",
     "output_type": "stream",
     "text": [
      "0\n"
     ]
    }
   ],
   "execution_count": 36
  },
  {
   "metadata": {},
   "cell_type": "markdown",
   "source": "# if condition",
   "id": "ef81252f13ea8e29"
  },
  {
   "metadata": {
    "ExecuteTime": {
     "end_time": "2024-11-02T11:40:12.594182Z",
     "start_time": "2024-11-02T11:40:12.586250Z"
    }
   },
   "cell_type": "code",
   "source": [
    "grade = 20\n",
    "if grade >= 60:\n",
    "    print(\"Passed\")\n",
    "else:\n",
    "    print(\"Failed\")\n",
    "    "
   ],
   "id": "b080b06f3f9da6",
   "outputs": [
    {
     "name": "stdout",
     "output_type": "stream",
     "text": [
      "Failed\n"
     ]
    }
   ],
   "execution_count": 37
  },
  {
   "metadata": {
    "ExecuteTime": {
     "end_time": "2024-11-02T11:41:47.185967Z",
     "start_time": "2024-11-02T11:41:47.182513Z"
    }
   },
   "cell_type": "code",
   "source": [
    "grade = 90\n",
    "if grade >= 60:\n",
    "    print(\"Passed\")\n",
    "    if grade >=65:\n",
    "        print(\"Good\")\n",
    "    if grade >=75:\n",
    "        print(\"very Good\")\n",
    "    if grade >=85:\n",
    "        print(\"Excellent\")\n",
    "else:\n",
    "    print(\"Failed\")"
   ],
   "id": "40bc0368182d7805",
   "outputs": [
    {
     "name": "stdout",
     "output_type": "stream",
     "text": [
      "Passed\n",
      "Good\n",
      "very Good\n",
      "Excellent\n"
     ]
    }
   ],
   "execution_count": 38
  },
  {
   "metadata": {
    "ExecuteTime": {
     "end_time": "2024-11-02T11:43:47.689387Z",
     "start_time": "2024-11-02T11:43:47.685629Z"
    }
   },
   "cell_type": "code",
   "source": [
    "\n",
    "grade = 90\n",
    "if grade >= 60 and grade < 65:\n",
    "    print(\"Passed\")\n",
    "elif grade >=65 and grade < 75:\n",
    "    print(\"Good\")\n",
    "elif grade >=75 and grade < 85:\n",
    "    print(\"very Good\")\n",
    "elif grade >=85:\n",
    "    print(\"Excellent\")\n",
    "else:\n",
    "    print(\"Failed\")"
   ],
   "id": "c942a334d803c421",
   "outputs": [
    {
     "name": "stdout",
     "output_type": "stream",
     "text": [
      "Excellent\n"
     ]
    }
   ],
   "execution_count": 40
  },
  {
   "metadata": {},
   "cell_type": "code",
   "outputs": [],
   "execution_count": null,
   "source": "",
   "id": "80afdadace53c41"
  }
 ],
 "metadata": {
  "kernelspec": {
   "display_name": "Python 3",
   "language": "python",
   "name": "python3"
  },
  "language_info": {
   "codemirror_mode": {
    "name": "ipython",
    "version": 2
   },
   "file_extension": ".py",
   "mimetype": "text/x-python",
   "name": "python",
   "nbconvert_exporter": "python",
   "pygments_lexer": "ipython2",
   "version": "2.7.6"
  }
 },
 "nbformat": 4,
 "nbformat_minor": 5
}
