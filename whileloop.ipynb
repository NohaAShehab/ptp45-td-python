{
 "cells": [
  {
   "metadata": {},
   "cell_type": "markdown",
   "source": "# print numbers from 0 to 5",
   "id": "63616f2847aa25c3"
  },
  {
   "cell_type": "code",
   "id": "initial_id",
   "metadata": {
    "collapsed": true,
    "ExecuteTime": {
     "end_time": "2024-11-05T09:24:51.461485Z",
     "start_time": "2024-11-05T09:24:51.457142Z"
    }
   },
   "source": [
    "counter = 0 \n",
    "while counter <= 5:\n",
    "    print(f'num= {counter}')\n",
    "    counter += 1\n",
    "    "
   ],
   "outputs": [
    {
     "name": "stdout",
     "output_type": "stream",
     "text": [
      "num= 0\n",
      "num= 1\n",
      "num= 2\n",
      "num= 3\n",
      "num= 4\n",
      "num= 5\n"
     ]
    }
   ],
   "execution_count": 1
  },
  {
   "metadata": {},
   "cell_type": "markdown",
   "source": [
    "# ask user to enter a number if he entered it correctly --> print number * 10 \n",
    "# else ? print an error message from him and re-ask him to enter the number "
   ],
   "id": "2da9402332518f74"
  },
  {
   "metadata": {
    "ExecuteTime": {
     "end_time": "2024-11-05T09:27:12.737405Z",
     "start_time": "2024-11-05T09:27:06.234483Z"
    }
   },
   "cell_type": "code",
   "source": [
    "num = input('Enter a number: ')\n",
    "if num.isdigit():\n",
    "    num = int(num)\n",
    "    print(f\"num = {num}\")\n",
    "else:\n",
    "    print('please enter a valid number')\n",
    "    num = input('Enter a number: ')\n",
    "    "
   ],
   "id": "9505ddaa802ccc5c",
   "outputs": [
    {
     "name": "stdout",
     "output_type": "stream",
     "text": [
      "please enter a valid number\n"
     ]
    }
   ],
   "execution_count": 3
  },
  {
   "metadata": {},
   "cell_type": "code",
   "outputs": [],
   "execution_count": null,
   "source": [
    "num = input('Enter a number: ')\n",
    "while not (num.isdigit()):\n",
    "    print(\"---- please enter a valid number ----\")\n",
    "    num = input('Enter a number: ')\n",
    "\n",
    "num = int(num)\n",
    "print(f\"num = {num}\")"
   ],
   "id": "6a91d5ec90ff8943"
  },
  {
   "metadata": {},
   "cell_type": "markdown",
   "source": "# using break with while ",
   "id": "3616e6d9a675dc99"
  },
  {
   "metadata": {},
   "cell_type": "code",
   "outputs": [],
   "execution_count": null,
   "source": [
    "while True:\n",
    "    num = input('Enter a number: ')\n",
    "    if num.isdigit():\n",
    "        num = int(num)\n",
    "        print(f\"num = {num}\")\n",
    "        break\n",
    "    print(\"---> You entered a wrong number, please re-enter it ---> \")"
   ],
   "id": "3a50b7a1d3a5f5cd"
  },
  {
   "metadata": {},
   "cell_type": "markdown",
   "source": [
    "# atm password \n",
    "--> you can enter password of atm --> 3 times at most. "
   ],
   "id": "88056d26cbe81281"
  },
  {
   "metadata": {
    "ExecuteTime": {
     "end_time": "2024-11-05T09:42:41.337441Z",
     "start_time": "2024-11-05T09:42:35.547984Z"
    }
   },
   "cell_type": "code",
   "source": [
    "counter = 0 \n",
    "while counter < 3:\n",
    "    passwordd = input('Enter a password: ')\n",
    "    if passwordd=='abc':\n",
    "        print(\"--- login in success ---\")\n",
    "        break\n",
    "        \n",
    "    counter += 1\n",
    "    print(\"----- please try again ----- \")"
   ],
   "id": "b54c562f05b48606",
   "outputs": [
    {
     "name": "stdout",
     "output_type": "stream",
     "text": [
      "----- please try again ----- \n",
      "--- login in success ---\n"
     ]
    }
   ],
   "execution_count": 5
  },
  {
   "metadata": {},
   "cell_type": "markdown",
   "source": [
    "# break with for loop \n",
    "# use-> for loop ask the user to enter anystring --> check if the string contains \"a\"  --> if found --> print found then exit from loop "
   ],
   "id": "a5f369d155fb26bc"
  },
  {
   "metadata": {
    "ExecuteTime": {
     "end_time": "2024-11-05T09:44:47.573466Z",
     "start_time": "2024-11-05T09:44:44.388426Z"
    }
   },
   "cell_type": "code",
   "source": [
    "message = input('Enter a message: ')\n",
    "if 'a' in message:\n",
    "    print(\"found\")\n"
   ],
   "id": "51a9cd1861b5f00",
   "outputs": [
    {
     "name": "stdout",
     "output_type": "stream",
     "text": [
      "found\n"
     ]
    }
   ],
   "execution_count": 6
  },
  {
   "metadata": {
    "ExecuteTime": {
     "end_time": "2024-11-05T09:46:06.489880Z",
     "start_time": "2024-11-05T09:46:03.889113Z"
    }
   },
   "cell_type": "code",
   "source": [
    "message = input('Enter a message: ')\n",
    "counter = 1\n",
    "for char in message:\n",
    "    if char.lower() == 'a':\n",
    "        print(f\"---char a found, iteration {counter} ---- \")\n",
    "        break  # stop the loop --> \n",
    "    counter += 1\n",
    "        "
   ],
   "id": "dcdb7df4629583c9",
   "outputs": [
    {
     "name": "stdout",
     "output_type": "stream",
     "text": [
      "---char a found, iteration 1 ---- \n"
     ]
    }
   ],
   "execution_count": 10
  },
  {
   "metadata": {},
   "cell_type": "code",
   "outputs": [],
   "execution_count": null,
   "source": [
    "while True:\n",
    "    num = input('Enter a number: ')\n",
    "    if num.isdigit():\n",
    "        print(f\"-- num = {num}\")\n",
    "        break\n",
    "    \n",
    "    print(\"------------------- please enter valid number ----------\")"
   ],
   "id": "7cff39fba3b55482"
  },
  {
   "metadata": {},
   "cell_type": "markdown",
   "source": [
    "# write a program to print numbers from 1 to 10 \n",
    "if the number = 6 stop the loop"
   ],
   "id": "7e8259acd21abae0"
  },
  {
   "metadata": {
    "ExecuteTime": {
     "end_time": "2024-11-05T09:53:41.836729Z",
     "start_time": "2024-11-05T09:53:41.830830Z"
    }
   },
   "cell_type": "code",
   "source": [
    "counter= 1\n",
    "while counter <= 10:\n",
    "    if counter== 6:\n",
    "        break\n",
    "    print(f\"num = {counter}\")\n",
    "    counter += 1"
   ],
   "id": "d06ce263fa3c0545",
   "outputs": [
    {
     "name": "stdout",
     "output_type": "stream",
     "text": [
      "num = 1\n",
      "num = 2\n",
      "num = 3\n",
      "num = 4\n",
      "num = 5\n"
     ]
    }
   ],
   "execution_count": 13
  },
  {
   "metadata": {},
   "cell_type": "markdown",
   "source": [
    "# write a program to print numbers from 1 to 10 \n",
    "if the number = 6 don't print it "
   ],
   "id": "ccc2c9e3663e650b"
  },
  {
   "metadata": {
    "ExecuteTime": {
     "end_time": "2024-11-05T09:54:49.900112Z",
     "start_time": "2024-11-05T09:54:49.894603Z"
    }
   },
   "cell_type": "code",
   "source": [
    "counter = 1\n",
    "while counter <= 10:\n",
    "    if counter != 6:\n",
    "        print(f\"num = {counter}\")\n",
    "    counter += 1"
   ],
   "id": "7a230a4322f3dd4e",
   "outputs": [
    {
     "name": "stdout",
     "output_type": "stream",
     "text": [
      "num = 1\n",
      "num = 2\n",
      "num = 3\n",
      "num = 4\n",
      "num = 5\n",
      "num = 7\n",
      "num = 8\n",
      "num = 9\n",
      "num = 10\n"
     ]
    }
   ],
   "execution_count": 14
  },
  {
   "metadata": {},
   "cell_type": "markdown",
   "source": "# continue --> skip this iteration",
   "id": "86ff1db83761086c"
  },
  {
   "metadata": {
    "ExecuteTime": {
     "end_time": "2024-11-05T09:57:21.543409Z",
     "start_time": "2024-11-05T09:57:21.520220Z"
    }
   },
   "cell_type": "code",
   "source": [
    "counter = 0\n",
    "while counter < 10:\n",
    "    counter += 1\n",
    "    if counter == 6:\n",
    "        continue\n",
    "        \n",
    "    print(f\"num = {counter}\")\n",
    "    "
   ],
   "id": "b1ce2771acd2fa86",
   "outputs": [
    {
     "name": "stdout",
     "output_type": "stream",
     "text": [
      "num = 1\n",
      "num = 2\n",
      "num = 3\n",
      "num = 4\n",
      "num = 5\n",
      "num = 7\n",
      "num = 8\n",
      "num = 9\n",
      "num = 10\n"
     ]
    }
   ],
   "execution_count": 18
  },
  {
   "metadata": {},
   "cell_type": "markdown",
   "source": "# break and continue are used with loops only \n",
   "id": "918daab9bd026e3e"
  },
  {
   "metadata": {},
   "cell_type": "code",
   "outputs": [],
   "execution_count": null,
   "source": "",
   "id": "d99f16bf0da4dfdb"
  }
 ],
 "metadata": {
  "kernelspec": {
   "display_name": "Python 3",
   "language": "python",
   "name": "python3"
  },
  "language_info": {
   "codemirror_mode": {
    "name": "ipython",
    "version": 2
   },
   "file_extension": ".py",
   "mimetype": "text/x-python",
   "name": "python",
   "nbconvert_exporter": "python",
   "pygments_lexer": "ipython2",
   "version": "2.7.6"
  }
 },
 "nbformat": 4,
 "nbformat_minor": 5
}
